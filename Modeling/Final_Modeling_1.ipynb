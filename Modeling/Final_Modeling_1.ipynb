{
 "cells": [
  {
   "cell_type": "markdown",
   "id": "a19d9f23",
   "metadata": {},
   "source": [
    "# Setup"
   ]
  },
  {
   "cell_type": "markdown",
   "id": "f82bd0cb",
   "metadata": {},
   "source": [
    "### Basic"
   ]
  },
  {
   "cell_type": "code",
   "execution_count": 1,
   "id": "ea63aaf6",
   "metadata": {},
   "outputs": [],
   "source": [
    "import pandas as pd\n",
    "import numpy as np"
   ]
  },
  {
   "cell_type": "markdown",
   "id": "5602fe87",
   "metadata": {},
   "source": [
    "### Plots"
   ]
  },
  {
   "cell_type": "code",
   "execution_count": 2,
   "id": "bc30d845",
   "metadata": {},
   "outputs": [],
   "source": [
    "import seaborn as sns\n",
    "import matplotlib.pyplot as plt\n",
    "import plotly.offline as py\n",
    "import plotly.graph_objs as go"
   ]
  },
  {
   "cell_type": "markdown",
   "id": "de160226",
   "metadata": {},
   "source": [
    "### data preprocessing"
   ]
  },
  {
   "cell_type": "code",
   "execution_count": 3,
   "id": "5fdd8df7",
   "metadata": {},
   "outputs": [],
   "source": [
    "from sklearn.model_selection import train_test_split, cross_val_score, cross_validate, cross_val_predict\n",
    "from sklearn.preprocessing import RobustScaler, StandardScaler, MinMaxScaler\n",
    "from sklearn.metrics import f1_score, precision_score, recall_score, confusion_matrix, roc_curve, precision_recall_curve, accuracy_score, roc_auc_score\n",
    "from imblearn.over_sampling import SMOTE\n",
    "from sklearn.experimental import enable_iterative_imputer\n",
    "from sklearn.impute import IterativeImputer, KNNImputer"
   ]
  },
  {
   "cell_type": "markdown",
   "id": "97e23da9",
   "metadata": {},
   "source": [
    "### Machine Learning"
   ]
  },
  {
   "cell_type": "code",
   "execution_count": 4,
   "id": "9b0f278d",
   "metadata": {},
   "outputs": [],
   "source": [
    "from sklearn.model_selection import GridSearchCV\n",
    "from sklearn.linear_model import LogisticRegression\n",
    "from sklearn.ensemble import RandomForestClassifier, GradientBoostingClassifier\n",
    "from sklearn.tree import DecisionTreeClassifier\n",
    "from sklearn.ensemble import AdaBoostClassifier\n",
    "from sklearn.svm import SVC\n",
    "from sklearn.ensemble import VotingClassifier\n",
    "from sklearn.neighbors import KNeighborsClassifier\n",
    "from sklearn.naive_bayes import GaussianNB\n",
    "from sklearn.neural_network import MLPClassifier\n",
    "from sklearn.ensemble import BaggingClassifier\n",
    "from sklearn.ensemble import ExtraTreesClassifier\n",
    "from xgboost import XGBClassifier"
   ]
  },
  {
   "cell_type": "markdown",
   "id": "daf66f4e",
   "metadata": {},
   "source": [
    "### additional Packages"
   ]
  },
  {
   "cell_type": "code",
   "execution_count": 5,
   "id": "561bce3c",
   "metadata": {},
   "outputs": [],
   "source": [
    "from pandas_profiling import ProfileReport"
   ]
  },
  {
   "cell_type": "markdown",
   "id": "6c45a09b",
   "metadata": {},
   "source": [
    "# Data + EDA"
   ]
  },
  {
   "cell_type": "code",
   "execution_count": 6,
   "id": "2161de56",
   "metadata": {},
   "outputs": [
    {
     "data": {
      "text/html": [
       "<div>\n",
       "<style scoped>\n",
       "    .dataframe tbody tr th:only-of-type {\n",
       "        vertical-align: middle;\n",
       "    }\n",
       "\n",
       "    .dataframe tbody tr th {\n",
       "        vertical-align: top;\n",
       "    }\n",
       "\n",
       "    .dataframe thead th {\n",
       "        text-align: right;\n",
       "    }\n",
       "</style>\n",
       "<table border=\"1\" class=\"dataframe\">\n",
       "  <thead>\n",
       "    <tr style=\"text-align: right;\">\n",
       "      <th></th>\n",
       "      <th>Pregnancies</th>\n",
       "      <th>Glucose</th>\n",
       "      <th>BloodPressure</th>\n",
       "      <th>SkinThickness</th>\n",
       "      <th>Insulin</th>\n",
       "      <th>BMI</th>\n",
       "      <th>DiabetesPedigreeFunction</th>\n",
       "      <th>Age</th>\n",
       "      <th>Outcome</th>\n",
       "    </tr>\n",
       "  </thead>\n",
       "  <tbody>\n",
       "    <tr>\n",
       "      <th>0</th>\n",
       "      <td>6</td>\n",
       "      <td>148</td>\n",
       "      <td>72</td>\n",
       "      <td>35</td>\n",
       "      <td>0</td>\n",
       "      <td>33.6</td>\n",
       "      <td>0.627</td>\n",
       "      <td>50</td>\n",
       "      <td>1</td>\n",
       "    </tr>\n",
       "    <tr>\n",
       "      <th>1</th>\n",
       "      <td>1</td>\n",
       "      <td>85</td>\n",
       "      <td>66</td>\n",
       "      <td>29</td>\n",
       "      <td>0</td>\n",
       "      <td>26.6</td>\n",
       "      <td>0.351</td>\n",
       "      <td>31</td>\n",
       "      <td>0</td>\n",
       "    </tr>\n",
       "    <tr>\n",
       "      <th>2</th>\n",
       "      <td>8</td>\n",
       "      <td>183</td>\n",
       "      <td>64</td>\n",
       "      <td>0</td>\n",
       "      <td>0</td>\n",
       "      <td>23.3</td>\n",
       "      <td>0.672</td>\n",
       "      <td>32</td>\n",
       "      <td>1</td>\n",
       "    </tr>\n",
       "    <tr>\n",
       "      <th>3</th>\n",
       "      <td>1</td>\n",
       "      <td>89</td>\n",
       "      <td>66</td>\n",
       "      <td>23</td>\n",
       "      <td>94</td>\n",
       "      <td>28.1</td>\n",
       "      <td>0.167</td>\n",
       "      <td>21</td>\n",
       "      <td>0</td>\n",
       "    </tr>\n",
       "    <tr>\n",
       "      <th>4</th>\n",
       "      <td>0</td>\n",
       "      <td>137</td>\n",
       "      <td>40</td>\n",
       "      <td>35</td>\n",
       "      <td>168</td>\n",
       "      <td>43.1</td>\n",
       "      <td>2.288</td>\n",
       "      <td>33</td>\n",
       "      <td>1</td>\n",
       "    </tr>\n",
       "  </tbody>\n",
       "</table>\n",
       "</div>"
      ],
      "text/plain": [
       "   Pregnancies  Glucose  BloodPressure  SkinThickness  Insulin   BMI  \\\n",
       "0            6      148             72             35        0  33.6   \n",
       "1            1       85             66             29        0  26.6   \n",
       "2            8      183             64              0        0  23.3   \n",
       "3            1       89             66             23       94  28.1   \n",
       "4            0      137             40             35      168  43.1   \n",
       "\n",
       "   DiabetesPedigreeFunction  Age  Outcome  \n",
       "0                     0.627   50        1  \n",
       "1                     0.351   31        0  \n",
       "2                     0.672   32        1  \n",
       "3                     0.167   21        0  \n",
       "4                     2.288   33        1  "
      ]
     },
     "execution_count": 6,
     "metadata": {},
     "output_type": "execute_result"
    }
   ],
   "source": [
    "df = pd.read_csv(\"../diabetes.csv\")\n",
    "df.head()"
   ]
  },
  {
   "cell_type": "code",
   "execution_count": 7,
   "id": "74de097b",
   "metadata": {},
   "outputs": [
    {
     "data": {
      "text/html": [
       "<div>\n",
       "<style scoped>\n",
       "    .dataframe tbody tr th:only-of-type {\n",
       "        vertical-align: middle;\n",
       "    }\n",
       "\n",
       "    .dataframe tbody tr th {\n",
       "        vertical-align: top;\n",
       "    }\n",
       "\n",
       "    .dataframe thead th {\n",
       "        text-align: right;\n",
       "    }\n",
       "</style>\n",
       "<table border=\"1\" class=\"dataframe\">\n",
       "  <thead>\n",
       "    <tr style=\"text-align: right;\">\n",
       "      <th></th>\n",
       "      <th>count</th>\n",
       "      <th>mean</th>\n",
       "      <th>std</th>\n",
       "      <th>min</th>\n",
       "      <th>25%</th>\n",
       "      <th>50%</th>\n",
       "      <th>75%</th>\n",
       "      <th>max</th>\n",
       "    </tr>\n",
       "  </thead>\n",
       "  <tbody>\n",
       "    <tr>\n",
       "      <th>Pregnancies</th>\n",
       "      <td>768.0</td>\n",
       "      <td>3.845052</td>\n",
       "      <td>3.369578</td>\n",
       "      <td>0.000</td>\n",
       "      <td>1.00000</td>\n",
       "      <td>3.0000</td>\n",
       "      <td>6.00000</td>\n",
       "      <td>17.00</td>\n",
       "    </tr>\n",
       "    <tr>\n",
       "      <th>Glucose</th>\n",
       "      <td>768.0</td>\n",
       "      <td>120.894531</td>\n",
       "      <td>31.972618</td>\n",
       "      <td>0.000</td>\n",
       "      <td>99.00000</td>\n",
       "      <td>117.0000</td>\n",
       "      <td>140.25000</td>\n",
       "      <td>199.00</td>\n",
       "    </tr>\n",
       "    <tr>\n",
       "      <th>BloodPressure</th>\n",
       "      <td>768.0</td>\n",
       "      <td>69.105469</td>\n",
       "      <td>19.355807</td>\n",
       "      <td>0.000</td>\n",
       "      <td>62.00000</td>\n",
       "      <td>72.0000</td>\n",
       "      <td>80.00000</td>\n",
       "      <td>122.00</td>\n",
       "    </tr>\n",
       "    <tr>\n",
       "      <th>SkinThickness</th>\n",
       "      <td>768.0</td>\n",
       "      <td>20.536458</td>\n",
       "      <td>15.952218</td>\n",
       "      <td>0.000</td>\n",
       "      <td>0.00000</td>\n",
       "      <td>23.0000</td>\n",
       "      <td>32.00000</td>\n",
       "      <td>99.00</td>\n",
       "    </tr>\n",
       "    <tr>\n",
       "      <th>Insulin</th>\n",
       "      <td>768.0</td>\n",
       "      <td>79.799479</td>\n",
       "      <td>115.244002</td>\n",
       "      <td>0.000</td>\n",
       "      <td>0.00000</td>\n",
       "      <td>30.5000</td>\n",
       "      <td>127.25000</td>\n",
       "      <td>846.00</td>\n",
       "    </tr>\n",
       "    <tr>\n",
       "      <th>BMI</th>\n",
       "      <td>768.0</td>\n",
       "      <td>31.992578</td>\n",
       "      <td>7.884160</td>\n",
       "      <td>0.000</td>\n",
       "      <td>27.30000</td>\n",
       "      <td>32.0000</td>\n",
       "      <td>36.60000</td>\n",
       "      <td>67.10</td>\n",
       "    </tr>\n",
       "    <tr>\n",
       "      <th>DiabetesPedigreeFunction</th>\n",
       "      <td>768.0</td>\n",
       "      <td>0.471876</td>\n",
       "      <td>0.331329</td>\n",
       "      <td>0.078</td>\n",
       "      <td>0.24375</td>\n",
       "      <td>0.3725</td>\n",
       "      <td>0.62625</td>\n",
       "      <td>2.42</td>\n",
       "    </tr>\n",
       "    <tr>\n",
       "      <th>Age</th>\n",
       "      <td>768.0</td>\n",
       "      <td>33.240885</td>\n",
       "      <td>11.760232</td>\n",
       "      <td>21.000</td>\n",
       "      <td>24.00000</td>\n",
       "      <td>29.0000</td>\n",
       "      <td>41.00000</td>\n",
       "      <td>81.00</td>\n",
       "    </tr>\n",
       "    <tr>\n",
       "      <th>Outcome</th>\n",
       "      <td>768.0</td>\n",
       "      <td>0.348958</td>\n",
       "      <td>0.476951</td>\n",
       "      <td>0.000</td>\n",
       "      <td>0.00000</td>\n",
       "      <td>0.0000</td>\n",
       "      <td>1.00000</td>\n",
       "      <td>1.00</td>\n",
       "    </tr>\n",
       "  </tbody>\n",
       "</table>\n",
       "</div>"
      ],
      "text/plain": [
       "                          count        mean         std     min       25%  \\\n",
       "Pregnancies               768.0    3.845052    3.369578   0.000   1.00000   \n",
       "Glucose                   768.0  120.894531   31.972618   0.000  99.00000   \n",
       "BloodPressure             768.0   69.105469   19.355807   0.000  62.00000   \n",
       "SkinThickness             768.0   20.536458   15.952218   0.000   0.00000   \n",
       "Insulin                   768.0   79.799479  115.244002   0.000   0.00000   \n",
       "BMI                       768.0   31.992578    7.884160   0.000  27.30000   \n",
       "DiabetesPedigreeFunction  768.0    0.471876    0.331329   0.078   0.24375   \n",
       "Age                       768.0   33.240885   11.760232  21.000  24.00000   \n",
       "Outcome                   768.0    0.348958    0.476951   0.000   0.00000   \n",
       "\n",
       "                               50%        75%     max  \n",
       "Pregnancies                 3.0000    6.00000   17.00  \n",
       "Glucose                   117.0000  140.25000  199.00  \n",
       "BloodPressure              72.0000   80.00000  122.00  \n",
       "SkinThickness              23.0000   32.00000   99.00  \n",
       "Insulin                    30.5000  127.25000  846.00  \n",
       "BMI                        32.0000   36.60000   67.10  \n",
       "DiabetesPedigreeFunction    0.3725    0.62625    2.42  \n",
       "Age                        29.0000   41.00000   81.00  \n",
       "Outcome                     0.0000    1.00000    1.00  "
      ]
     },
     "execution_count": 7,
     "metadata": {},
     "output_type": "execute_result"
    }
   ],
   "source": [
    "df.describe().T"
   ]
  },
  {
   "cell_type": "code",
   "execution_count": 8,
   "id": "027ac44a",
   "metadata": {},
   "outputs": [],
   "source": [
    "def EDA(df) : \n",
    "    plt.figure(figsize = (15, 15))\n",
    "    \n",
    "    cnt = 1\n",
    "    for col in df.columns : \n",
    "        plt.subplot(3, 3, cnt); cnt += 1;\n",
    "        sns.histplot(data = df, x = col, hue = \"Outcome\")\n",
    "    plt.show()   "
   ]
  },
  {
   "cell_type": "code",
   "execution_count": 9,
   "id": "0c15c54d",
   "metadata": {},
   "outputs": [
    {
     "data": {
      "image/png": "[encoded data removed]",
      "text/plain": [
       "<Figure size 1500x1500 with 9 Axes>"
      ]
     },
     "metadata": {},
     "output_type": "display_data"
    }
   ],
   "source": [
    "EDA(df)"
   ]
  },
  {
   "cell_type": "markdown",
   "id": "c4d35d9c",
   "metadata": {},
   "source": [
    "## Pandas Profiling"
   ]
  },
  {
   "cell_type": "code",
   "execution_count": 10,
   "id": "ebb67273",
   "metadata": {
    "scrolled": false
   },
   "outputs": [
    {
     "data": {
      "application/vnd.jupyter.widget-view+json": {
       "model_id": "44e896c8df4b48898d8e81f018268f59",
       "version_major": 2,
       "version_minor": 0
      },
      "text/plain": [
       "Tab(children=(HTML(value='<div id=\"overview-content\" class=\"row variable spacing\">\\n    <div class=\"row\">\\n   …"
      ]
     },
     "metadata": {},
     "output_type": "display_data"
    },
    {
     "data": {
      "text/html": [
       "Report generated with <a href=\"https://github.com/pandas-profiling/pandas-profiling\">pandas-profiling</a>."
      ],
      "text/plain": [
       "<IPython.core.display.HTML object>"
      ]
     },
     "metadata": {},
     "output_type": "display_data"
    }
   ],
   "source": [
    "profile =  ProfileReport(df, title = \"Diabetes Report\")\n",
    "profile.to_widgets()"
   ]
  },
  {
   "cell_type": "markdown",
   "id": "4683f728",
   "metadata": {},
   "source": [
    "# Data Preprocessing"
   ]
  },
  {
   "cell_type": "code",
   "execution_count": 11,
   "id": "b06f1ebb",
   "metadata": {},
   "outputs": [
    {
     "data": {
      "text/plain": [
       "(   Pregnancies  Glucose  BloodPressure  SkinThickness  Insulin   BMI  \\\n",
       " 0            6      148             72             35        0  33.6   \n",
       " 1            1       85             66             29        0  26.6   \n",
       " 2            8      183             64              0        0  23.3   \n",
       " 3            1       89             66             23       94  28.1   \n",
       " 4            0      137             40             35      168  43.1   \n",
       " \n",
       "    DiabetesPedigreeFunction  Age  Outcome  \n",
       " 0                     0.627   50        1  \n",
       " 1                     0.351   31        0  \n",
       " 2                     0.672   32        1  \n",
       " 3                     0.167   21        0  \n",
       " 4                     2.288   33        1  ,\n",
       " Index(['Pregnancies', 'Glucose', 'BloodPressure', 'SkinThickness', 'Insulin',\n",
       "        'BMI', 'DiabetesPedigreeFunction', 'Age'],\n",
       "       dtype='object'))"
      ]
     },
     "execution_count": 11,
     "metadata": {},
     "output_type": "execute_result"
    }
   ],
   "source": [
    "COLS = df.columns.drop('Outcome')\n",
    "df.head(), COLS"
   ]
  },
  {
   "cell_type": "code",
   "execution_count": 12,
   "id": "200e13ba",
   "metadata": {},
   "outputs": [
    {
     "data": {
      "text/plain": [
       "Pregnancies                 0\n",
       "Glucose                     0\n",
       "BloodPressure               0\n",
       "SkinThickness               0\n",
       "Insulin                     0\n",
       "BMI                         0\n",
       "DiabetesPedigreeFunction    0\n",
       "Age                         0\n",
       "Outcome                     0\n",
       "dtype: int64"
      ]
     },
     "execution_count": 12,
     "metadata": {},
     "output_type": "execute_result"
    }
   ],
   "source": [
    "df.isnull().sum()"
   ]
  },
  {
   "cell_type": "code",
   "execution_count": 13,
   "id": "37506260",
   "metadata": {},
   "outputs": [
    {
     "data": {
      "text/plain": [
       "Pregnancies                 0\n",
       "Glucose                     0\n",
       "BloodPressure               0\n",
       "SkinThickness               0\n",
       "Insulin                     0\n",
       "BMI                         0\n",
       "DiabetesPedigreeFunction    0\n",
       "Age                         0\n",
       "Outcome                     0\n",
       "dtype: int64"
      ]
     },
     "execution_count": 13,
     "metadata": {},
     "output_type": "execute_result"
    }
   ],
   "source": [
    "df.isna().sum()"
   ]
  },
  {
   "cell_type": "markdown",
   "id": "b28e6718",
   "metadata": {},
   "source": [
    "## Correlation HITMAP"
   ]
  },
  {
   "cell_type": "code",
   "execution_count": 14,
   "id": "5ca89f57",
   "metadata": {},
   "outputs": [
    {
     "data": {
      "text/plain": [
       "Text(0.5, 1.0, 'Correlation between Features')"
      ]
     },
     "execution_count": 14,
     "metadata": {},
     "output_type": "execute_result"
    },
    {
     "data": {
      "image/png": "[encoded data removed]",
      "text/plain": [
       "<Figure size 2000x1000 with 2 Axes>"
      ]
     },
     "metadata": {},
     "output_type": "display_data"
    }
   ],
   "source": [
    "plt.figure(figsize = (20,10))\n",
    "sns.heatmap(df.corr(),annot=True , cmap ='YlGnBu' )\n",
    "\n",
    "plt.title(\"Correlation between Features\")"
   ]
  },
  {
   "cell_type": "markdown",
   "id": "960e53c1",
   "metadata": {},
   "source": [
    "## Missing Values"
   ]
  },
  {
   "cell_type": "code",
   "execution_count": 15,
   "id": "cfe75fdf",
   "metadata": {},
   "outputs": [
    {
     "data": {
      "text/plain": [
       "Pregnancies                   0\n",
       "Glucose                       5\n",
       "BloodPressure                35\n",
       "SkinThickness               227\n",
       "Insulin                     374\n",
       "BMI                          11\n",
       "DiabetesPedigreeFunction      0\n",
       "Age                           0\n",
       "Outcome                       0\n",
       "dtype: int64"
      ]
     },
     "execution_count": 15,
     "metadata": {},
     "output_type": "execute_result"
    }
   ],
   "source": [
    "zero_null_fields = ['Glucose', 'BloodPressure', 'SkinThickness', 'Insulin', 'BMI']\n",
    "df[zero_null_fields] = df[['Glucose', 'BloodPressure', 'SkinThickness', 'Insulin', 'BMI']].replace(0, np.NaN)\n",
    "\n",
    "df.isna().sum()"
   ]
  },
  {
   "cell_type": "code",
   "execution_count": 16,
   "id": "05abf3f9",
   "metadata": {},
   "outputs": [
    {
     "data": {
      "text/plain": [
       "Pregnancies                   0\n",
       "Glucose                       0\n",
       "BloodPressure                 0\n",
       "SkinThickness               227\n",
       "Insulin                     374\n",
       "BMI                           0\n",
       "DiabetesPedigreeFunction      0\n",
       "Age                           0\n",
       "Outcome                       0\n",
       "dtype: int64"
      ]
     },
     "execution_count": 16,
     "metadata": {},
     "output_type": "execute_result"
    }
   ],
   "source": [
    "def handle_missing(data, column:str):\n",
    "    data.loc[(data['Outcome'] == 0 ) & (data[column].isnull()), column] = df.groupby('Outcome')[column].median()[0]\n",
    "    data.loc[(data['Outcome'] == 1 ) & (data[column].isnull()), column] = df.groupby('Outcome')[column].median()[1]\n",
    "    \n",
    "    return data\n",
    "\n",
    "cols = ['Glucose', 'BloodPressure', 'BMI']\n",
    "\n",
    "for col in cols:\n",
    "    handle_missing(df, col)\n",
    "    \n",
    "df.isna().sum()"
   ]
  },
  {
   "cell_type": "markdown",
   "id": "64714aac",
   "metadata": {},
   "source": [
    "### SkinThickness & Insulin"
   ]
  },
  {
   "cell_type": "code",
   "execution_count": 17,
   "id": "52252854",
   "metadata": {},
   "outputs": [],
   "source": [
    "knn_imp = KNNImputer(n_neighbors = 5)\n",
    "df.loc[:, :] = knn_imp.fit_transform(df)"
   ]
  },
  {
   "cell_type": "code",
   "execution_count": 18,
   "id": "ac270591",
   "metadata": {},
   "outputs": [
    {
     "data": {
      "text/plain": [
       "Pregnancies                 0\n",
       "Glucose                     0\n",
       "BloodPressure               0\n",
       "SkinThickness               0\n",
       "Insulin                     0\n",
       "BMI                         0\n",
       "DiabetesPedigreeFunction    0\n",
       "Age                         0\n",
       "Outcome                     0\n",
       "dtype: int64"
      ]
     },
     "execution_count": 18,
     "metadata": {},
     "output_type": "execute_result"
    }
   ],
   "source": [
    "df.isnull().sum()"
   ]
  },
  {
   "cell_type": "markdown",
   "id": "aadd0c49",
   "metadata": {},
   "source": [
    "## Outliers"
   ]
  },
  {
   "cell_type": "code",
   "execution_count": 19,
   "id": "31e63d79",
   "metadata": {},
   "outputs": [],
   "source": [
    "def handle_outlier(df, col) : \n",
    "    # IQR\n",
    "    q1 = 0.25; q3 = 0.90\n",
    "    \n",
    "    Q1 = df[col].quantile(q1)\n",
    "    Q3 = df[col].quantile(q3)\n",
    "    iqr = Q3 - Q1\n",
    "    \n",
    "    up_b = Q3 + 1.5 * iqr\n",
    "    low_b = Q1 - 1.5 * iqr\n",
    "    \n",
    "    df.loc[(df[col] < low_b), col] = low_b\n",
    "    df.loc[(df[col] > up_b), col] = up_b"
   ]
  },
  {
   "cell_type": "code",
   "execution_count": 20,
   "id": "920971e3",
   "metadata": {},
   "outputs": [],
   "source": [
    "for col in df.columns : \n",
    "    handle_outlier(df, col)"
   ]
  },
  {
   "cell_type": "markdown",
   "id": "64a41a3d",
   "metadata": {},
   "source": [
    "## Scaling Data"
   ]
  },
  {
   "cell_type": "code",
   "execution_count": 21,
   "id": "84bb774e",
   "metadata": {},
   "outputs": [],
   "source": [
    "rs = RobustScaler()\n",
    "df[COLS] = rs.fit_transform(df[COLS])"
   ]
  },
  {
   "cell_type": "markdown",
   "id": "8a7258dd",
   "metadata": {},
   "source": [
    "## Drop Insulin (Bad :/)"
   ]
  },
  {
   "cell_type": "code",
   "execution_count": 87,
   "id": "c1fb6474",
   "metadata": {},
   "outputs": [
    {
     "ename": "KeyError",
     "evalue": "\"['Insulin'] not found in axis\"",
     "output_type": "error",
     "traceback": [
      "\u001b[1;31m---------------------------------------------------------------------------\u001b[0m",
      "\u001b[1;31mKeyError\u001b[0m                                  Traceback (most recent call last)",
      "\u001b[1;32m~\\AppData\\Local\\Temp\\ipykernel_23388\\2251384080.py\u001b[0m in \u001b[0;36m<module>\u001b[1;34m\u001b[0m\n\u001b[1;32m----> 1\u001b[1;33m \u001b[0mdf\u001b[0m \u001b[1;33m=\u001b[0m \u001b[0mdf\u001b[0m\u001b[1;33m.\u001b[0m\u001b[0mdrop\u001b[0m\u001b[1;33m(\u001b[0m\u001b[1;33m[\u001b[0m\u001b[1;34m'Insulin'\u001b[0m\u001b[1;33m]\u001b[0m\u001b[1;33m,\u001b[0m \u001b[0maxis\u001b[0m \u001b[1;33m=\u001b[0m \u001b[1;36m1\u001b[0m\u001b[1;33m)\u001b[0m\u001b[1;33m\u001b[0m\u001b[1;33m\u001b[0m\u001b[0m\n\u001b[0m\u001b[0;32m      2\u001b[0m \u001b[0mdf\u001b[0m\u001b[1;33m\u001b[0m\u001b[1;33m\u001b[0m\u001b[0m\n",
      "\u001b[1;32mD:\\Program Files\\Anaconda\\lib\\site-packages\\pandas\\util\\_decorators.py\u001b[0m in \u001b[0;36mwrapper\u001b[1;34m(*args, **kwargs)\u001b[0m\n\u001b[0;32m    309\u001b[0m                     \u001b[0mstacklevel\u001b[0m\u001b[1;33m=\u001b[0m\u001b[0mstacklevel\u001b[0m\u001b[1;33m,\u001b[0m\u001b[1;33m\u001b[0m\u001b[1;33m\u001b[0m\u001b[0m\n\u001b[0;32m    310\u001b[0m                 )\n\u001b[1;32m--> 311\u001b[1;33m             \u001b[1;32mreturn\u001b[0m \u001b[0mfunc\u001b[0m\u001b[1;33m(\u001b[0m\u001b[1;33m*\u001b[0m\u001b[0margs\u001b[0m\u001b[1;33m,\u001b[0m \u001b[1;33m**\u001b[0m\u001b[0mkwargs\u001b[0m\u001b[1;33m)\u001b[0m\u001b[1;33m\u001b[0m\u001b[1;33m\u001b[0m\u001b[0m\n\u001b[0m\u001b[0;32m    312\u001b[0m \u001b[1;33m\u001b[0m\u001b[0m\n\u001b[0;32m    313\u001b[0m         \u001b[1;32mreturn\u001b[0m \u001b[0mwrapper\u001b[0m\u001b[1;33m\u001b[0m\u001b[1;33m\u001b[0m\u001b[0m\n",
      "\u001b[1;32mD:\\Program Files\\Anaconda\\lib\\site-packages\\pandas\\core\\frame.py\u001b[0m in \u001b[0;36mdrop\u001b[1;34m(self, labels, axis, index, columns, level, inplace, errors)\u001b[0m\n\u001b[0;32m   4911\u001b[0m             \u001b[0mlevel\u001b[0m\u001b[1;33m=\u001b[0m\u001b[0mlevel\u001b[0m\u001b[1;33m,\u001b[0m\u001b[1;33m\u001b[0m\u001b[1;33m\u001b[0m\u001b[0m\n\u001b[0;32m   4912\u001b[0m             \u001b[0minplace\u001b[0m\u001b[1;33m=\u001b[0m\u001b[0minplace\u001b[0m\u001b[1;33m,\u001b[0m\u001b[1;33m\u001b[0m\u001b[1;33m\u001b[0m\u001b[0m\n\u001b[1;32m-> 4913\u001b[1;33m             \u001b[0merrors\u001b[0m\u001b[1;33m=\u001b[0m\u001b[0merrors\u001b[0m\u001b[1;33m,\u001b[0m\u001b[1;33m\u001b[0m\u001b[1;33m\u001b[0m\u001b[0m\n\u001b[0m\u001b[0;32m   4914\u001b[0m         )\n\u001b[0;32m   4915\u001b[0m \u001b[1;33m\u001b[0m\u001b[0m\n",
      "\u001b[1;32mD:\\Program Files\\Anaconda\\lib\\site-packages\\pandas\\core\\generic.py\u001b[0m in \u001b[0;36mdrop\u001b[1;34m(self, labels, axis, index, columns, level, inplace, errors)\u001b[0m\n\u001b[0;32m   4148\u001b[0m         \u001b[1;32mfor\u001b[0m \u001b[0maxis\u001b[0m\u001b[1;33m,\u001b[0m \u001b[0mlabels\u001b[0m \u001b[1;32min\u001b[0m \u001b[0maxes\u001b[0m\u001b[1;33m.\u001b[0m\u001b[0mitems\u001b[0m\u001b[1;33m(\u001b[0m\u001b[1;33m)\u001b[0m\u001b[1;33m:\u001b[0m\u001b[1;33m\u001b[0m\u001b[1;33m\u001b[0m\u001b[0m\n\u001b[0;32m   4149\u001b[0m             \u001b[1;32mif\u001b[0m \u001b[0mlabels\u001b[0m \u001b[1;32mis\u001b[0m \u001b[1;32mnot\u001b[0m \u001b[1;32mNone\u001b[0m\u001b[1;33m:\u001b[0m\u001b[1;33m\u001b[0m\u001b[1;33m\u001b[0m\u001b[0m\n\u001b[1;32m-> 4150\u001b[1;33m                 \u001b[0mobj\u001b[0m \u001b[1;33m=\u001b[0m \u001b[0mobj\u001b[0m\u001b[1;33m.\u001b[0m\u001b[0m_drop_axis\u001b[0m\u001b[1;33m(\u001b[0m\u001b[0mlabels\u001b[0m\u001b[1;33m,\u001b[0m \u001b[0maxis\u001b[0m\u001b[1;33m,\u001b[0m \u001b[0mlevel\u001b[0m\u001b[1;33m=\u001b[0m\u001b[0mlevel\u001b[0m\u001b[1;33m,\u001b[0m \u001b[0merrors\u001b[0m\u001b[1;33m=\u001b[0m\u001b[0merrors\u001b[0m\u001b[1;33m)\u001b[0m\u001b[1;33m\u001b[0m\u001b[1;33m\u001b[0m\u001b[0m\n\u001b[0m\u001b[0;32m   4151\u001b[0m \u001b[1;33m\u001b[0m\u001b[0m\n\u001b[0;32m   4152\u001b[0m         \u001b[1;32mif\u001b[0m \u001b[0minplace\u001b[0m\u001b[1;33m:\u001b[0m\u001b[1;33m\u001b[0m\u001b[1;33m\u001b[0m\u001b[0m\n",
      "\u001b[1;32mD:\\Program Files\\Anaconda\\lib\\site-packages\\pandas\\core\\generic.py\u001b[0m in \u001b[0;36m_drop_axis\u001b[1;34m(self, labels, axis, level, errors)\u001b[0m\n\u001b[0;32m   4183\u001b[0m                 \u001b[0mnew_axis\u001b[0m \u001b[1;33m=\u001b[0m \u001b[0maxis\u001b[0m\u001b[1;33m.\u001b[0m\u001b[0mdrop\u001b[0m\u001b[1;33m(\u001b[0m\u001b[0mlabels\u001b[0m\u001b[1;33m,\u001b[0m \u001b[0mlevel\u001b[0m\u001b[1;33m=\u001b[0m\u001b[0mlevel\u001b[0m\u001b[1;33m,\u001b[0m \u001b[0merrors\u001b[0m\u001b[1;33m=\u001b[0m\u001b[0merrors\u001b[0m\u001b[1;33m)\u001b[0m\u001b[1;33m\u001b[0m\u001b[1;33m\u001b[0m\u001b[0m\n\u001b[0;32m   4184\u001b[0m             \u001b[1;32melse\u001b[0m\u001b[1;33m:\u001b[0m\u001b[1;33m\u001b[0m\u001b[1;33m\u001b[0m\u001b[0m\n\u001b[1;32m-> 4185\u001b[1;33m                 \u001b[0mnew_axis\u001b[0m \u001b[1;33m=\u001b[0m \u001b[0maxis\u001b[0m\u001b[1;33m.\u001b[0m\u001b[0mdrop\u001b[0m\u001b[1;33m(\u001b[0m\u001b[0mlabels\u001b[0m\u001b[1;33m,\u001b[0m \u001b[0merrors\u001b[0m\u001b[1;33m=\u001b[0m\u001b[0merrors\u001b[0m\u001b[1;33m)\u001b[0m\u001b[1;33m\u001b[0m\u001b[1;33m\u001b[0m\u001b[0m\n\u001b[0m\u001b[0;32m   4186\u001b[0m             \u001b[0mresult\u001b[0m \u001b[1;33m=\u001b[0m \u001b[0mself\u001b[0m\u001b[1;33m.\u001b[0m\u001b[0mreindex\u001b[0m\u001b[1;33m(\u001b[0m\u001b[1;33m**\u001b[0m\u001b[1;33m{\u001b[0m\u001b[0maxis_name\u001b[0m\u001b[1;33m:\u001b[0m \u001b[0mnew_axis\u001b[0m\u001b[1;33m}\u001b[0m\u001b[1;33m)\u001b[0m\u001b[1;33m\u001b[0m\u001b[1;33m\u001b[0m\u001b[0m\n\u001b[0;32m   4187\u001b[0m \u001b[1;33m\u001b[0m\u001b[0m\n",
      "\u001b[1;32mD:\\Program Files\\Anaconda\\lib\\site-packages\\pandas\\core\\indexes\\base.py\u001b[0m in \u001b[0;36mdrop\u001b[1;34m(self, labels, errors)\u001b[0m\n\u001b[0;32m   6015\u001b[0m         \u001b[1;32mif\u001b[0m \u001b[0mmask\u001b[0m\u001b[1;33m.\u001b[0m\u001b[0many\u001b[0m\u001b[1;33m(\u001b[0m\u001b[1;33m)\u001b[0m\u001b[1;33m:\u001b[0m\u001b[1;33m\u001b[0m\u001b[1;33m\u001b[0m\u001b[0m\n\u001b[0;32m   6016\u001b[0m             \u001b[1;32mif\u001b[0m \u001b[0merrors\u001b[0m \u001b[1;33m!=\u001b[0m \u001b[1;34m\"ignore\"\u001b[0m\u001b[1;33m:\u001b[0m\u001b[1;33m\u001b[0m\u001b[1;33m\u001b[0m\u001b[0m\n\u001b[1;32m-> 6017\u001b[1;33m                 \u001b[1;32mraise\u001b[0m \u001b[0mKeyError\u001b[0m\u001b[1;33m(\u001b[0m\u001b[1;34mf\"{labels[mask]} not found in axis\"\u001b[0m\u001b[1;33m)\u001b[0m\u001b[1;33m\u001b[0m\u001b[1;33m\u001b[0m\u001b[0m\n\u001b[0m\u001b[0;32m   6018\u001b[0m             \u001b[0mindexer\u001b[0m \u001b[1;33m=\u001b[0m \u001b[0mindexer\u001b[0m\u001b[1;33m[\u001b[0m\u001b[1;33m~\u001b[0m\u001b[0mmask\u001b[0m\u001b[1;33m]\u001b[0m\u001b[1;33m\u001b[0m\u001b[1;33m\u001b[0m\u001b[0m\n\u001b[0;32m   6019\u001b[0m         \u001b[1;32mreturn\u001b[0m \u001b[0mself\u001b[0m\u001b[1;33m.\u001b[0m\u001b[0mdelete\u001b[0m\u001b[1;33m(\u001b[0m\u001b[0mindexer\u001b[0m\u001b[1;33m)\u001b[0m\u001b[1;33m\u001b[0m\u001b[1;33m\u001b[0m\u001b[0m\n",
      "\u001b[1;31mKeyError\u001b[0m: \"['Insulin'] not found in axis\""
     ]
    }
   ],
   "source": [
    "df = df.drop(['Insulin'], axis = 1)\n",
    "df"
   ]
  },
  {
   "cell_type": "markdown",
   "id": "d76fd2d5",
   "metadata": {},
   "source": [
    "## Pandas Profiling (after Preprocessing)"
   ]
  },
  {
   "cell_type": "code",
   "execution_count": 23,
   "id": "208cd3a7",
   "metadata": {},
   "outputs": [],
   "source": [
    "#profile =  ProfileReport(df, title = \"Diabetes Report\")\n",
    "#profile.to_widgets()"
   ]
  },
  {
   "cell_type": "markdown",
   "id": "57340395",
   "metadata": {},
   "source": [
    "# Machine Learning"
   ]
  },
  {
   "cell_type": "markdown",
   "id": "5bf39052",
   "metadata": {},
   "source": [
    "## Train-Test Split"
   ]
  },
  {
   "cell_type": "code",
   "execution_count": 24,
   "id": "a2d9ba9f",
   "metadata": {},
   "outputs": [],
   "source": [
    "x = df.drop(['Outcome'], axis=1)\n",
    "y = df['Outcome']\n",
    "\n",
    "xxx = x\n",
    "yyy = y"
   ]
  },
  {
   "cell_type": "code",
   "execution_count": 25,
   "id": "260bbebb",
   "metadata": {},
   "outputs": [],
   "source": [
    "x_train, x_test, y_train, y_test = train_test_split(x, y, test_size = 0.2, random_state = 42, stratify = y, shuffle = True)"
   ]
  },
  {
   "cell_type": "markdown",
   "id": "c7605b84",
   "metadata": {},
   "source": [
    "## Balancing"
   ]
  },
  {
   "cell_type": "code",
   "execution_count": 26,
   "id": "db457620",
   "metadata": {},
   "outputs": [],
   "source": [
    "oversample = SMOTE(random_state = 42, k_neighbors = 10)\n",
    "\n",
    "x_smote, y_smote = oversample.fit_resample(x_train, y_train)\n",
    "x_train, y_train = x_smote, y_smote"
   ]
  },
  {
   "cell_type": "code",
   "execution_count": 27,
   "id": "2ee7e651",
   "metadata": {},
   "outputs": [
    {
     "data": {
      "text/plain": [
       "0.0    400\n",
       "1.0    400\n",
       "Name: Outcome, dtype: int64"
      ]
     },
     "execution_count": 27,
     "metadata": {},
     "output_type": "execute_result"
    }
   ],
   "source": [
    "y_smote.value_counts()"
   ]
  },
  {
   "cell_type": "markdown",
   "id": "1252e6ab",
   "metadata": {},
   "source": [
    "### Classifiers"
   ]
  },
  {
   "cell_type": "code",
   "execution_count": 28,
   "id": "d987fbd2",
   "metadata": {},
   "outputs": [],
   "source": [
    "# models \n",
    "classifiers = [\n",
    "    DecisionTreeClassifier(max_depth = 3, random_state = 42),\n",
    "    AdaBoostClassifier(DecisionTreeClassifier(random_state = 42)),\n",
    "    RandomForestClassifier(max_depth = 5, random_state = 42),\n",
    "    GradientBoostingClassifier(random_state = 42),\n",
    "    LogisticRegression(random_state = 42, solver='lbfgs', max_iter=10000),\n",
    "    SVC(random_state = 42, probability = True),        \n",
    "    KNeighborsClassifier(n_neighbors = 5, algorithm = \"kd_tree\"),\n",
    "    GaussianNB(),\n",
    "    MLPClassifier(solver = 'lbfgs', alpha = 1e-5, hidden_layer_sizes=(5, 2), random_state = 1),\n",
    "    BaggingClassifier(SVC(random_state = 42, probability = True), max_samples = 0.5, max_features = 0.7),\n",
    "    ExtraTreesClassifier(n_estimators = 10, max_depth = None, min_samples_split = 2, random_state = 0),\n",
    "    XGBClassifier(learning_rate= 0.01,max_depth = 3,n_estimators = 1000)\n",
    "]"
   ]
  },
  {
   "cell_type": "code",
   "execution_count": 29,
   "id": "4f83f162",
   "metadata": {},
   "outputs": [],
   "source": [
    "def make_classification(classifiers, x_train, x_test, y_train, y_test) :\n",
    "    \n",
    "    # metrics\n",
    "    acc, f1, AUC, recall, cross_val, prec = [ ], [ ], [ ], [ ], [ ], [ ]\n",
    "    models = [ ]\n",
    "    \n",
    "    for classifier in classifiers : \n",
    "        clf = classifier\n",
    "        clf.fit(x_train, y_train)\n",
    "        \n",
    "        y_pred = clf.predict(x_test)\n",
    "        y_prob = clf.predict_proba(x_test)\n",
    "        \n",
    "        acc.append(((accuracy_score(y_test,y_pred))) * 100)\n",
    "        cross_val.append(sum(cross_val_score(clf, x_train, y_train, cv = 10, scoring = \"accuracy\"))/10)\n",
    "        f1.append(((f1_score(y_test,y_pred))) * 100)\n",
    "        AUC.append(((roc_auc_score(y_test,y_prob[:, 1]))) * 100)\n",
    "        recall.append(((recall_score(y_test,y_pred))) * 100)\n",
    "        prec.append(((precision_score(y_test,y_pred))) * 100)\n",
    "        models.append(clf.__class__.__name__)\n",
    "        \n",
    "    res = pd.DataFrame({\n",
    "        \"Accuracy\" : acc,\n",
    "        \"Cross Val\" : cross_val,\n",
    "        \"F1\" : f1,\n",
    "        \"ROC\" : AUC,\n",
    "        \"Recall\" : recall,\n",
    "        \"Precision\" : prec,\n",
    "        \"ML Models\" : models,\n",
    "    })\n",
    "    \n",
    "    res = (res.sort_values(by = ['ROC','F1'], ascending = False).reset_index(drop =  True))\n",
    "    return res"
   ]
  },
  {
   "cell_type": "code",
   "execution_count": 30,
   "id": "7359732c",
   "metadata": {
    "scrolled": true
   },
   "outputs": [
    {
     "name": "stdout",
     "output_type": "stream",
     "text": [
      "[21:14:14] WARNING: C:\\Windows\\Temp\\abs_557yfx631l\\croots\\recipe\\xgboost-split_1659548953302\\work\\src\\learner.cc:1115: Starting in XGBoost 1.3.0, the default evaluation metric used with the objective 'binary:logistic' was changed from 'error' to 'logloss'. Explicitly set eval_metric if you'd like to restore the old behavior.\n",
      "[21:14:15] WARNING: C:\\Windows\\Temp\\abs_557yfx631l\\croots\\recipe\\xgboost-split_1659548953302\\work\\src\\learner.cc:1115: Starting in XGBoost 1.3.0, the default evaluation metric used with the objective 'binary:logistic' was changed from 'error' to 'logloss'. Explicitly set eval_metric if you'd like to restore the old behavior.\n",
      "[21:14:16] WARNING: C:\\Windows\\Temp\\abs_557yfx631l\\croots\\recipe\\xgboost-split_1659548953302\\work\\src\\learner.cc:1115: Starting in XGBoost 1.3.0, the default evaluation metric used with the objective 'binary:logistic' was changed from 'error' to 'logloss'. Explicitly set eval_metric if you'd like to restore the old behavior.\n",
      "[21:14:17] WARNING: C:\\Windows\\Temp\\abs_557yfx631l\\croots\\recipe\\xgboost-split_1659548953302\\work\\src\\learner.cc:1115: Starting in XGBoost 1.3.0, the default evaluation metric used with the objective 'binary:logistic' was changed from 'error' to 'logloss'. Explicitly set eval_metric if you'd like to restore the old behavior.\n",
      "[21:14:17] WARNING: C:\\Windows\\Temp\\abs_557yfx631l\\croots\\recipe\\xgboost-split_1659548953302\\work\\src\\learner.cc:1115: Starting in XGBoost 1.3.0, the default evaluation metric used with the objective 'binary:logistic' was changed from 'error' to 'logloss'. Explicitly set eval_metric if you'd like to restore the old behavior.\n",
      "[21:14:18] WARNING: C:\\Windows\\Temp\\abs_557yfx631l\\croots\\recipe\\xgboost-split_1659548953302\\work\\src\\learner.cc:1115: Starting in XGBoost 1.3.0, the default evaluation metric used with the objective 'binary:logistic' was changed from 'error' to 'logloss'. Explicitly set eval_metric if you'd like to restore the old behavior.\n",
      "[21:14:19] WARNING: C:\\Windows\\Temp\\abs_557yfx631l\\croots\\recipe\\xgboost-split_1659548953302\\work\\src\\learner.cc:1115: Starting in XGBoost 1.3.0, the default evaluation metric used with the objective 'binary:logistic' was changed from 'error' to 'logloss'. Explicitly set eval_metric if you'd like to restore the old behavior.\n",
      "[21:14:20] WARNING: C:\\Windows\\Temp\\abs_557yfx631l\\croots\\recipe\\xgboost-split_1659548953302\\work\\src\\learner.cc:1115: Starting in XGBoost 1.3.0, the default evaluation metric used with the objective 'binary:logistic' was changed from 'error' to 'logloss'. Explicitly set eval_metric if you'd like to restore the old behavior.\n",
      "[21:14:21] WARNING: C:\\Windows\\Temp\\abs_557yfx631l\\croots\\recipe\\xgboost-split_1659548953302\\work\\src\\learner.cc:1115: Starting in XGBoost 1.3.0, the default evaluation metric used with the objective 'binary:logistic' was changed from 'error' to 'logloss'. Explicitly set eval_metric if you'd like to restore the old behavior.\n",
      "[21:14:22] WARNING: C:\\Windows\\Temp\\abs_557yfx631l\\croots\\recipe\\xgboost-split_1659548953302\\work\\src\\learner.cc:1115: Starting in XGBoost 1.3.0, the default evaluation metric used with the objective 'binary:logistic' was changed from 'error' to 'logloss'. Explicitly set eval_metric if you'd like to restore the old behavior.\n",
      "[21:14:22] WARNING: C:\\Windows\\Temp\\abs_557yfx631l\\croots\\recipe\\xgboost-split_1659548953302\\work\\src\\learner.cc:1115: Starting in XGBoost 1.3.0, the default evaluation metric used with the objective 'binary:logistic' was changed from 'error' to 'logloss'. Explicitly set eval_metric if you'd like to restore the old behavior.\n"
     ]
    },
    {
     "data": {
      "text/html": [
       "<div>\n",
       "<style scoped>\n",
       "    .dataframe tbody tr th:only-of-type {\n",
       "        vertical-align: middle;\n",
       "    }\n",
       "\n",
       "    .dataframe tbody tr th {\n",
       "        vertical-align: top;\n",
       "    }\n",
       "\n",
       "    .dataframe thead th {\n",
       "        text-align: right;\n",
       "    }\n",
       "</style>\n",
       "<table border=\"1\" class=\"dataframe\">\n",
       "  <thead>\n",
       "    <tr style=\"text-align: right;\">\n",
       "      <th></th>\n",
       "      <th>Accuracy</th>\n",
       "      <th>Cross Val</th>\n",
       "      <th>F1</th>\n",
       "      <th>ROC</th>\n",
       "      <th>Recall</th>\n",
       "      <th>Precision</th>\n",
       "      <th>ML Models</th>\n",
       "    </tr>\n",
       "  </thead>\n",
       "  <tbody>\n",
       "    <tr>\n",
       "      <th>0</th>\n",
       "      <td>74.675325</td>\n",
       "      <td>0.79375</td>\n",
       "      <td>68.800000</td>\n",
       "      <td>82.981481</td>\n",
       "      <td>79.629630</td>\n",
       "      <td>60.563380</td>\n",
       "      <td>XGBClassifier</td>\n",
       "    </tr>\n",
       "    <tr>\n",
       "      <th>1</th>\n",
       "      <td>70.779221</td>\n",
       "      <td>0.78375</td>\n",
       "      <td>66.165414</td>\n",
       "      <td>82.407407</td>\n",
       "      <td>81.481481</td>\n",
       "      <td>55.696203</td>\n",
       "      <td>RandomForestClassifier</td>\n",
       "    </tr>\n",
       "    <tr>\n",
       "      <th>2</th>\n",
       "      <td>72.727273</td>\n",
       "      <td>0.80000</td>\n",
       "      <td>66.129032</td>\n",
       "      <td>81.888889</td>\n",
       "      <td>75.925926</td>\n",
       "      <td>58.571429</td>\n",
       "      <td>GradientBoostingClassifier</td>\n",
       "    </tr>\n",
       "    <tr>\n",
       "      <th>3</th>\n",
       "      <td>74.025974</td>\n",
       "      <td>0.73375</td>\n",
       "      <td>67.213115</td>\n",
       "      <td>81.351852</td>\n",
       "      <td>75.925926</td>\n",
       "      <td>60.294118</td>\n",
       "      <td>LogisticRegression</td>\n",
       "    </tr>\n",
       "    <tr>\n",
       "      <th>4</th>\n",
       "      <td>76.623377</td>\n",
       "      <td>0.78875</td>\n",
       "      <td>70.967742</td>\n",
       "      <td>81.092593</td>\n",
       "      <td>81.481481</td>\n",
       "      <td>62.857143</td>\n",
       "      <td>SVC</td>\n",
       "    </tr>\n",
       "    <tr>\n",
       "      <th>5</th>\n",
       "      <td>69.480519</td>\n",
       "      <td>0.76875</td>\n",
       "      <td>63.565891</td>\n",
       "      <td>80.037037</td>\n",
       "      <td>75.925926</td>\n",
       "      <td>54.666667</td>\n",
       "      <td>BaggingClassifier</td>\n",
       "    </tr>\n",
       "    <tr>\n",
       "      <th>6</th>\n",
       "      <td>73.376623</td>\n",
       "      <td>0.83625</td>\n",
       "      <td>60.194175</td>\n",
       "      <td>79.703704</td>\n",
       "      <td>57.407407</td>\n",
       "      <td>63.265306</td>\n",
       "      <td>ExtraTreesClassifier</td>\n",
       "    </tr>\n",
       "    <tr>\n",
       "      <th>7</th>\n",
       "      <td>71.428571</td>\n",
       "      <td>0.76250</td>\n",
       "      <td>64.516129</td>\n",
       "      <td>79.611111</td>\n",
       "      <td>74.074074</td>\n",
       "      <td>57.142857</td>\n",
       "      <td>MLPClassifier</td>\n",
       "    </tr>\n",
       "    <tr>\n",
       "      <th>8</th>\n",
       "      <td>68.831169</td>\n",
       "      <td>0.71375</td>\n",
       "      <td>61.904762</td>\n",
       "      <td>78.833333</td>\n",
       "      <td>72.222222</td>\n",
       "      <td>54.166667</td>\n",
       "      <td>GaussianNB</td>\n",
       "    </tr>\n",
       "    <tr>\n",
       "      <th>9</th>\n",
       "      <td>69.480519</td>\n",
       "      <td>0.72250</td>\n",
       "      <td>65.693431</td>\n",
       "      <td>77.379630</td>\n",
       "      <td>83.333333</td>\n",
       "      <td>54.216867</td>\n",
       "      <td>DecisionTreeClassifier</td>\n",
       "    </tr>\n",
       "    <tr>\n",
       "      <th>10</th>\n",
       "      <td>72.077922</td>\n",
       "      <td>0.79625</td>\n",
       "      <td>64.462810</td>\n",
       "      <td>75.546296</td>\n",
       "      <td>72.222222</td>\n",
       "      <td>58.208955</td>\n",
       "      <td>KNeighborsClassifier</td>\n",
       "    </tr>\n",
       "    <tr>\n",
       "      <th>11</th>\n",
       "      <td>70.129870</td>\n",
       "      <td>0.74125</td>\n",
       "      <td>58.181818</td>\n",
       "      <td>67.629630</td>\n",
       "      <td>59.259259</td>\n",
       "      <td>57.142857</td>\n",
       "      <td>AdaBoostClassifier</td>\n",
       "    </tr>\n",
       "  </tbody>\n",
       "</table>\n",
       "</div>"
      ],
      "text/plain": [
       "     Accuracy  Cross Val         F1        ROC     Recall  Precision  \\\n",
       "0   74.675325    0.79375  68.800000  82.981481  79.629630  60.563380   \n",
       "1   70.779221    0.78375  66.165414  82.407407  81.481481  55.696203   \n",
       "2   72.727273    0.80000  66.129032  81.888889  75.925926  58.571429   \n",
       "3   74.025974    0.73375  67.213115  81.351852  75.925926  60.294118   \n",
       "4   76.623377    0.78875  70.967742  81.092593  81.481481  62.857143   \n",
       "5   69.480519    0.76875  63.565891  80.037037  75.925926  54.666667   \n",
       "6   73.376623    0.83625  60.194175  79.703704  57.407407  63.265306   \n",
       "7   71.428571    0.76250  64.516129  79.611111  74.074074  57.142857   \n",
       "8   68.831169    0.71375  61.904762  78.833333  72.222222  54.166667   \n",
       "9   69.480519    0.72250  65.693431  77.379630  83.333333  54.216867   \n",
       "10  72.077922    0.79625  64.462810  75.546296  72.222222  58.208955   \n",
       "11  70.129870    0.74125  58.181818  67.629630  59.259259  57.142857   \n",
       "\n",
       "                     ML Models  \n",
       "0                XGBClassifier  \n",
       "1       RandomForestClassifier  \n",
       "2   GradientBoostingClassifier  \n",
       "3           LogisticRegression  \n",
       "4                          SVC  \n",
       "5            BaggingClassifier  \n",
       "6         ExtraTreesClassifier  \n",
       "7                MLPClassifier  \n",
       "8                   GaussianNB  \n",
       "9       DecisionTreeClassifier  \n",
       "10        KNeighborsClassifier  \n",
       "11          AdaBoostClassifier  "
      ]
     },
     "execution_count": 30,
     "metadata": {},
     "output_type": "execute_result"
    }
   ],
   "source": [
    "res = make_classification(classifiers, x_train, x_test, y_train, y_test)\n",
    "res"
   ]
  },
  {
   "cell_type": "markdown",
   "id": "1ceccdaa",
   "metadata": {},
   "source": [
    "### Ensemble"
   ]
  },
  {
   "cell_type": "code",
   "execution_count": 31,
   "id": "45eb42a5",
   "metadata": {},
   "outputs": [],
   "source": [
    "gb_clf = GradientBoostingClassifier(random_state = 42)\n",
    "rf_clf = RandomForestClassifier(max_depth = 5, random_state = 42)\n",
    "nn_clf = MLPClassifier(solver = 'lbfgs', alpha = 1e-5, hidden_layer_sizes=(5, 2), random_state = 1)\n",
    "svm_clf = SVC(random_state = 42, probability = True)\n",
    "svm_bg_clf = BaggingClassifier(SVC(random_state = 42, probability = True), max_samples = 0.5, max_features = 0.7)\n",
    "xgb_clf = XGBClassifier(learning_rate= 0.01,max_depth = 3, n_estimators = 1000)"
   ]
  },
  {
   "cell_type": "code",
   "execution_count": 32,
   "id": "4163560a",
   "metadata": {},
   "outputs": [
    {
     "data": {
      "text/plain": [
       "VotingClassifier(estimators=[('gb',\n",
       "                              GradientBoostingClassifier(random_state=42)),\n",
       "                             ('rf',\n",
       "                              RandomForestClassifier(max_depth=5,\n",
       "                                                     random_state=42)),\n",
       "                             ('svm_bagging',\n",
       "                              BaggingClassifier(base_estimator=SVC(probability=True,\n",
       "                                                                   random_state=42),\n",
       "                                                max_features=0.7,\n",
       "                                                max_samples=0.5))],\n",
       "                 voting='soft')"
      ]
     },
     "execution_count": 32,
     "metadata": {},
     "output_type": "execute_result"
    }
   ],
   "source": [
    "voting_clf = VotingClassifier(\n",
    " estimators = [('gb', gb_clf), ('rf', rf_clf), ('svm_bagging', svm_bg_clf)],\n",
    " voting = 'soft')\n",
    "\n",
    "voting_clf.fit(x_train, y_train)"
   ]
  },
  {
   "cell_type": "code",
   "execution_count": 33,
   "id": "aa361b2c",
   "metadata": {},
   "outputs": [],
   "source": [
    "y_pred = voting_clf.predict(x_test)\n",
    "y_prob = voting_clf.predict_proba(x_test)"
   ]
  },
  {
   "cell_type": "code",
   "execution_count": 34,
   "id": "db7f6e41",
   "metadata": {},
   "outputs": [
    {
     "data": {
      "text/plain": [
       "Acc :        74.025974\n",
       "F1 :         68.750000\n",
       "AUC :        83.185185\n",
       "Recall :     81.481481\n",
       "dtype: float64"
      ]
     },
     "execution_count": 34,
     "metadata": {},
     "output_type": "execute_result"
    }
   ],
   "source": [
    "pd.Series({\"Acc :\" : accuracy_score(y_test, y_pred) * 100,\"F1 : \" : f1_score(y_test, y_pred) * 100,\"AUC : \" : roc_auc_score(y_test,y_prob[:, 1]) * 100,\"Recall : \" : ((recall_score(y_test,y_pred))) * 100})"
   ]
  },
  {
   "cell_type": "markdown",
   "id": "2c695bc0",
   "metadata": {},
   "source": [
    "## Cross Validation "
   ]
  },
  {
   "cell_type": "code",
   "execution_count": 35,
   "id": "52b74a14",
   "metadata": {},
   "outputs": [],
   "source": [
    "def cross_val(classifiers, x_train, y_train) :\n",
    "    cv_train, cv_test, diff, models =  [], [], [], []\n",
    "    \n",
    "    for classifier in classifiers : \n",
    "        clf = classifier\n",
    "        #clf.fit(x_train, y_train)\n",
    "        \n",
    "        cv = cross_validate(clf, x_train, y_train, cv = 5, scoring = \"accuracy\", return_train_score = True)\n",
    "        \n",
    "        cv_train.append(cv['train_score'].mean() * 100)\n",
    "        cv_test.append(cv['test_score'].mean() * 100)\n",
    "        diff.append((cv['train_score'].mean() - cv['test_score'].mean()) * 100)\n",
    "        models.append(clf.__class__.__name__)\n",
    "        \n",
    "        \n",
    "    res = pd.DataFrame({\n",
    "        \"CV Train\" : cv_train,\n",
    "        \"CV Test\" : cv_test,\n",
    "        \"Diff\" : diff,\n",
    "        \"ML Model\" : models\n",
    "    })\n",
    "    \n",
    "    res = (res.sort_values(by = ['CV Test', 'CV Train'], ascending = False).reset_index(drop =  True))\n",
    "    \n",
    "    return res"
   ]
  },
  {
   "cell_type": "code",
   "execution_count": 36,
   "id": "66b5ad26",
   "metadata": {},
   "outputs": [
    {
     "data": {
      "text/plain": [
       "MLPClassifier(alpha=1e-05, hidden_layer_sizes=(5, 2), random_state=1,\n",
       "              solver='lbfgs')"
      ]
     },
     "execution_count": 36,
     "metadata": {},
     "output_type": "execute_result"
    }
   ],
   "source": [
    "nclf = classifiers\n",
    "nclf.pop(8)"
   ]
  },
  {
   "cell_type": "code",
   "execution_count": 37,
   "id": "9ddc3aee",
   "metadata": {},
   "outputs": [],
   "source": [
    "nclf.append(\n",
    "    VotingClassifier(\n",
    " estimators = [('gb', gb_clf), ('rf', rf_clf), ('svm_bagging', svm_bg_clf)],\n",
    " voting = 'soft')\n",
    ")"
   ]
  },
  {
   "cell_type": "code",
   "execution_count": 38,
   "id": "19161fa9",
   "metadata": {},
   "outputs": [
    {
     "data": {
      "text/plain": [
       "[DecisionTreeClassifier(max_depth=3, random_state=42),\n",
       " AdaBoostClassifier(base_estimator=DecisionTreeClassifier(random_state=42)),\n",
       " RandomForestClassifier(max_depth=5, random_state=42),\n",
       " GradientBoostingClassifier(random_state=42),\n",
       " LogisticRegression(max_iter=10000, random_state=42),\n",
       " SVC(probability=True, random_state=42),\n",
       " KNeighborsClassifier(algorithm='kd_tree'),\n",
       " GaussianNB(),\n",
       " BaggingClassifier(base_estimator=SVC(probability=True, random_state=42),\n",
       "                   max_features=0.7, max_samples=0.5),\n",
       " ExtraTreesClassifier(n_estimators=10, random_state=0),\n",
       " XGBClassifier(base_score=0.5, booster='gbtree', colsample_bylevel=1,\n",
       "               colsample_bynode=1, colsample_bytree=1, enable_categorical=False,\n",
       "               gamma=0, gpu_id=-1, importance_type=None,\n",
       "               interaction_constraints='', learning_rate=0.01, max_delta_step=0,\n",
       "               max_depth=3, min_child_weight=1, missing=nan,\n",
       "               monotone_constraints='()', n_estimators=1000, n_jobs=8,\n",
       "               num_parallel_tree=1, predictor='auto', random_state=0,\n",
       "               reg_alpha=0, reg_lambda=1, scale_pos_weight=1, subsample=1,\n",
       "               tree_method='exact', validate_parameters=1, verbosity=None),\n",
       " VotingClassifier(estimators=[('gb',\n",
       "                               GradientBoostingClassifier(random_state=42)),\n",
       "                              ('rf',\n",
       "                               RandomForestClassifier(max_depth=5,\n",
       "                                                      random_state=42)),\n",
       "                              ('svm_bagging',\n",
       "                               BaggingClassifier(base_estimator=SVC(probability=True,\n",
       "                                                                    random_state=42),\n",
       "                                                 max_features=0.7,\n",
       "                                                 max_samples=0.5))],\n",
       "                  voting='soft')]"
      ]
     },
     "execution_count": 38,
     "metadata": {},
     "output_type": "execute_result"
    }
   ],
   "source": [
    "nclf"
   ]
  },
  {
   "cell_type": "code",
   "execution_count": 39,
   "id": "91165818",
   "metadata": {},
   "outputs": [
    {
     "name": "stdout",
     "output_type": "stream",
     "text": [
      "[21:14:29] WARNING: C:\\Windows\\Temp\\abs_557yfx631l\\croots\\recipe\\xgboost-split_1659548953302\\work\\src\\learner.cc:1115: Starting in XGBoost 1.3.0, the default evaluation metric used with the objective 'binary:logistic' was changed from 'error' to 'logloss'. Explicitly set eval_metric if you'd like to restore the old behavior.\n",
      "[21:14:29] WARNING: C:\\Windows\\Temp\\abs_557yfx631l\\croots\\recipe\\xgboost-split_1659548953302\\work\\src\\learner.cc:1115: Starting in XGBoost 1.3.0, the default evaluation metric used with the objective 'binary:logistic' was changed from 'error' to 'logloss'. Explicitly set eval_metric if you'd like to restore the old behavior.\n",
      "[21:14:30] WARNING: C:\\Windows\\Temp\\abs_557yfx631l\\croots\\recipe\\xgboost-split_1659548953302\\work\\src\\learner.cc:1115: Starting in XGBoost 1.3.0, the default evaluation metric used with the objective 'binary:logistic' was changed from 'error' to 'logloss'. Explicitly set eval_metric if you'd like to restore the old behavior.\n",
      "[21:14:31] WARNING: C:\\Windows\\Temp\\abs_557yfx631l\\croots\\recipe\\xgboost-split_1659548953302\\work\\src\\learner.cc:1115: Starting in XGBoost 1.3.0, the default evaluation metric used with the objective 'binary:logistic' was changed from 'error' to 'logloss'. Explicitly set eval_metric if you'd like to restore the old behavior.\n",
      "[21:14:32] WARNING: C:\\Windows\\Temp\\abs_557yfx631l\\croots\\recipe\\xgboost-split_1659548953302\\work\\src\\learner.cc:1115: Starting in XGBoost 1.3.0, the default evaluation metric used with the objective 'binary:logistic' was changed from 'error' to 'logloss'. Explicitly set eval_metric if you'd like to restore the old behavior.\n"
     ]
    },
    {
     "data": {
      "text/html": [
       "<div>\n",
       "<style scoped>\n",
       "    .dataframe tbody tr th:only-of-type {\n",
       "        vertical-align: middle;\n",
       "    }\n",
       "\n",
       "    .dataframe tbody tr th {\n",
       "        vertical-align: top;\n",
       "    }\n",
       "\n",
       "    .dataframe thead th {\n",
       "        text-align: right;\n",
       "    }\n",
       "</style>\n",
       "<table border=\"1\" class=\"dataframe\">\n",
       "  <thead>\n",
       "    <tr style=\"text-align: right;\">\n",
       "      <th></th>\n",
       "      <th>CV Train</th>\n",
       "      <th>CV Test</th>\n",
       "      <th>Diff</th>\n",
       "      <th>ML Model</th>\n",
       "    </tr>\n",
       "  </thead>\n",
       "  <tbody>\n",
       "    <tr>\n",
       "      <th>0</th>\n",
       "      <td>100.00000</td>\n",
       "      <td>81.375</td>\n",
       "      <td>18.62500</td>\n",
       "      <td>ExtraTreesClassifier</td>\n",
       "    </tr>\n",
       "    <tr>\n",
       "      <th>1</th>\n",
       "      <td>84.68750</td>\n",
       "      <td>80.375</td>\n",
       "      <td>4.31250</td>\n",
       "      <td>KNeighborsClassifier</td>\n",
       "    </tr>\n",
       "    <tr>\n",
       "      <th>2</th>\n",
       "      <td>95.37500</td>\n",
       "      <td>79.375</td>\n",
       "      <td>16.00000</td>\n",
       "      <td>GradientBoostingClassifier</td>\n",
       "    </tr>\n",
       "    <tr>\n",
       "      <th>3</th>\n",
       "      <td>84.34375</td>\n",
       "      <td>79.375</td>\n",
       "      <td>4.96875</td>\n",
       "      <td>SVC</td>\n",
       "    </tr>\n",
       "    <tr>\n",
       "      <th>4</th>\n",
       "      <td>89.75000</td>\n",
       "      <td>78.625</td>\n",
       "      <td>11.12500</td>\n",
       "      <td>VotingClassifier</td>\n",
       "    </tr>\n",
       "    <tr>\n",
       "      <th>5</th>\n",
       "      <td>86.56250</td>\n",
       "      <td>78.625</td>\n",
       "      <td>7.93750</td>\n",
       "      <td>RandomForestClassifier</td>\n",
       "    </tr>\n",
       "    <tr>\n",
       "      <th>6</th>\n",
       "      <td>92.09375</td>\n",
       "      <td>78.375</td>\n",
       "      <td>13.71875</td>\n",
       "      <td>XGBClassifier</td>\n",
       "    </tr>\n",
       "    <tr>\n",
       "      <th>7</th>\n",
       "      <td>80.84375</td>\n",
       "      <td>77.125</td>\n",
       "      <td>3.71875</td>\n",
       "      <td>BaggingClassifier</td>\n",
       "    </tr>\n",
       "    <tr>\n",
       "      <th>8</th>\n",
       "      <td>74.25000</td>\n",
       "      <td>72.875</td>\n",
       "      <td>1.37500</td>\n",
       "      <td>LogisticRegression</td>\n",
       "    </tr>\n",
       "    <tr>\n",
       "      <th>9</th>\n",
       "      <td>100.00000</td>\n",
       "      <td>72.625</td>\n",
       "      <td>27.37500</td>\n",
       "      <td>AdaBoostClassifier</td>\n",
       "    </tr>\n",
       "    <tr>\n",
       "      <th>10</th>\n",
       "      <td>76.34375</td>\n",
       "      <td>72.250</td>\n",
       "      <td>4.09375</td>\n",
       "      <td>DecisionTreeClassifier</td>\n",
       "    </tr>\n",
       "    <tr>\n",
       "      <th>11</th>\n",
       "      <td>71.71875</td>\n",
       "      <td>71.000</td>\n",
       "      <td>0.71875</td>\n",
       "      <td>GaussianNB</td>\n",
       "    </tr>\n",
       "  </tbody>\n",
       "</table>\n",
       "</div>"
      ],
      "text/plain": [
       "     CV Train  CV Test      Diff                    ML Model\n",
       "0   100.00000   81.375  18.62500        ExtraTreesClassifier\n",
       "1    84.68750   80.375   4.31250        KNeighborsClassifier\n",
       "2    95.37500   79.375  16.00000  GradientBoostingClassifier\n",
       "3    84.34375   79.375   4.96875                         SVC\n",
       "4    89.75000   78.625  11.12500            VotingClassifier\n",
       "5    86.56250   78.625   7.93750      RandomForestClassifier\n",
       "6    92.09375   78.375  13.71875               XGBClassifier\n",
       "7    80.84375   77.125   3.71875           BaggingClassifier\n",
       "8    74.25000   72.875   1.37500          LogisticRegression\n",
       "9   100.00000   72.625  27.37500          AdaBoostClassifier\n",
       "10   76.34375   72.250   4.09375      DecisionTreeClassifier\n",
       "11   71.71875   71.000   0.71875                  GaussianNB"
      ]
     },
     "execution_count": 39,
     "metadata": {},
     "output_type": "execute_result"
    }
   ],
   "source": [
    "cv_res = cross_val(nclf, x_train, y_train)\n",
    "cv_res"
   ]
  },
  {
   "cell_type": "markdown",
   "id": "78201c59",
   "metadata": {},
   "source": [
    "## Fine Tuning"
   ]
  },
  {
   "cell_type": "markdown",
   "id": "f36f50b2",
   "metadata": {},
   "source": [
    "### 1) GradientBoostingClassifier"
   ]
  },
  {
   "cell_type": "code",
   "execution_count": 40,
   "id": "fa0cb3dd",
   "metadata": {},
   "outputs": [],
   "source": [
    "gb_clf = GradientBoostingClassifier( \n",
    "    random_state = 42, \n",
    "    min_samples_split = 100,\n",
    "    min_samples_leaf = 20,\n",
    "    max_depth = 2,\n",
    "    max_features = 3,\n",
    "    learning_rate = 0.05,\n",
    "    subsample = 0.65,\n",
    ")"
   ]
  },
  {
   "cell_type": "code",
   "execution_count": 41,
   "id": "5d46d6dd",
   "metadata": {},
   "outputs": [
    {
     "data": {
      "text/html": [
       "<div>\n",
       "<style scoped>\n",
       "    .dataframe tbody tr th:only-of-type {\n",
       "        vertical-align: middle;\n",
       "    }\n",
       "\n",
       "    .dataframe tbody tr th {\n",
       "        vertical-align: top;\n",
       "    }\n",
       "\n",
       "    .dataframe thead th {\n",
       "        text-align: right;\n",
       "    }\n",
       "</style>\n",
       "<table border=\"1\" class=\"dataframe\">\n",
       "  <thead>\n",
       "    <tr style=\"text-align: right;\">\n",
       "      <th></th>\n",
       "      <th>CV Train</th>\n",
       "      <th>CV Test</th>\n",
       "      <th>Diff</th>\n",
       "      <th>ML Model</th>\n",
       "    </tr>\n",
       "  </thead>\n",
       "  <tbody>\n",
       "    <tr>\n",
       "      <th>0</th>\n",
       "      <td>82.8125</td>\n",
       "      <td>78.0</td>\n",
       "      <td>4.8125</td>\n",
       "      <td>GradientBoostingClassifier</td>\n",
       "    </tr>\n",
       "  </tbody>\n",
       "</table>\n",
       "</div>"
      ],
      "text/plain": [
       "   CV Train  CV Test    Diff                    ML Model\n",
       "0   82.8125     78.0  4.8125  GradientBoostingClassifier"
      ]
     },
     "execution_count": 41,
     "metadata": {},
     "output_type": "execute_result"
    }
   ],
   "source": [
    "cross_val([gb_clf], x_train, y_train)"
   ]
  },
  {
   "cell_type": "markdown",
   "id": "5a91fb2c",
   "metadata": {},
   "source": [
    "### 2) ExtraTreesClassifier"
   ]
  },
  {
   "cell_type": "code",
   "execution_count": 42,
   "id": "7f26a892",
   "metadata": {},
   "outputs": [],
   "source": [
    "ex_clf = ExtraTreesClassifier(\n",
    "    random_state = 42,\n",
    "    max_depth = 6,\n",
    "    min_samples_split = 20,\n",
    "    max_features = \"log2\",\n",
    ")"
   ]
  },
  {
   "cell_type": "code",
   "execution_count": 43,
   "id": "63329036",
   "metadata": {},
   "outputs": [
    {
     "data": {
      "text/html": [
       "<div>\n",
       "<style scoped>\n",
       "    .dataframe tbody tr th:only-of-type {\n",
       "        vertical-align: middle;\n",
       "    }\n",
       "\n",
       "    .dataframe tbody tr th {\n",
       "        vertical-align: top;\n",
       "    }\n",
       "\n",
       "    .dataframe thead th {\n",
       "        text-align: right;\n",
       "    }\n",
       "</style>\n",
       "<table border=\"1\" class=\"dataframe\">\n",
       "  <thead>\n",
       "    <tr style=\"text-align: right;\">\n",
       "      <th></th>\n",
       "      <th>CV Train</th>\n",
       "      <th>CV Test</th>\n",
       "      <th>Diff</th>\n",
       "      <th>ML Model</th>\n",
       "    </tr>\n",
       "  </thead>\n",
       "  <tbody>\n",
       "    <tr>\n",
       "      <th>0</th>\n",
       "      <td>82.125</td>\n",
       "      <td>78.0</td>\n",
       "      <td>4.125</td>\n",
       "      <td>ExtraTreesClassifier</td>\n",
       "    </tr>\n",
       "  </tbody>\n",
       "</table>\n",
       "</div>"
      ],
      "text/plain": [
       "   CV Train  CV Test   Diff              ML Model\n",
       "0    82.125     78.0  4.125  ExtraTreesClassifier"
      ]
     },
     "execution_count": 43,
     "metadata": {},
     "output_type": "execute_result"
    }
   ],
   "source": [
    "cross_val([ex_clf], x_train, y_train)"
   ]
  },
  {
   "cell_type": "markdown",
   "id": "9f322b4f",
   "metadata": {},
   "source": [
    "### 3) SVC"
   ]
  },
  {
   "cell_type": "code",
   "execution_count": 44,
   "id": "9749728c",
   "metadata": {},
   "outputs": [],
   "source": [
    "svm_clf = SVC(\n",
    "    random_state = 42,\n",
    "    probability = True,\n",
    "    C = 1,\n",
    "    kernel = \"rbf\",\n",
    "    gamma = \"scale\",\n",
    ")"
   ]
  },
  {
   "cell_type": "code",
   "execution_count": 45,
   "id": "6d06cbf3",
   "metadata": {},
   "outputs": [
    {
     "data": {
      "text/html": [
       "<div>\n",
       "<style scoped>\n",
       "    .dataframe tbody tr th:only-of-type {\n",
       "        vertical-align: middle;\n",
       "    }\n",
       "\n",
       "    .dataframe tbody tr th {\n",
       "        vertical-align: top;\n",
       "    }\n",
       "\n",
       "    .dataframe thead th {\n",
       "        text-align: right;\n",
       "    }\n",
       "</style>\n",
       "<table border=\"1\" class=\"dataframe\">\n",
       "  <thead>\n",
       "    <tr style=\"text-align: right;\">\n",
       "      <th></th>\n",
       "      <th>CV Train</th>\n",
       "      <th>CV Test</th>\n",
       "      <th>Diff</th>\n",
       "      <th>ML Model</th>\n",
       "    </tr>\n",
       "  </thead>\n",
       "  <tbody>\n",
       "    <tr>\n",
       "      <th>0</th>\n",
       "      <td>84.34375</td>\n",
       "      <td>79.375</td>\n",
       "      <td>4.96875</td>\n",
       "      <td>SVC</td>\n",
       "    </tr>\n",
       "  </tbody>\n",
       "</table>\n",
       "</div>"
      ],
      "text/plain": [
       "   CV Train  CV Test     Diff ML Model\n",
       "0  84.34375   79.375  4.96875      SVC"
      ]
     },
     "execution_count": 45,
     "metadata": {},
     "output_type": "execute_result"
    }
   ],
   "source": [
    "cross_val([svm_clf], x_train, y_train)"
   ]
  },
  {
   "cell_type": "markdown",
   "id": "8ea80206",
   "metadata": {},
   "source": [
    "### 4) Ensemble"
   ]
  },
  {
   "cell_type": "code",
   "execution_count": 46,
   "id": "7f46cca8",
   "metadata": {},
   "outputs": [],
   "source": [
    "voting_clf = VotingClassifier(\n",
    "    estimators = [('gb', gb_clf), ('ex', ex_clf), ('svm', svm_clf)],\n",
    "    voting = 'soft'\n",
    ")"
   ]
  },
  {
   "cell_type": "code",
   "execution_count": 47,
   "id": "f3720226",
   "metadata": {},
   "outputs": [
    {
     "data": {
      "text/html": [
       "<div>\n",
       "<style scoped>\n",
       "    .dataframe tbody tr th:only-of-type {\n",
       "        vertical-align: middle;\n",
       "    }\n",
       "\n",
       "    .dataframe tbody tr th {\n",
       "        vertical-align: top;\n",
       "    }\n",
       "\n",
       "    .dataframe thead th {\n",
       "        text-align: right;\n",
       "    }\n",
       "</style>\n",
       "<table border=\"1\" class=\"dataframe\">\n",
       "  <thead>\n",
       "    <tr style=\"text-align: right;\">\n",
       "      <th></th>\n",
       "      <th>CV Train</th>\n",
       "      <th>CV Test</th>\n",
       "      <th>Diff</th>\n",
       "      <th>ML Model</th>\n",
       "    </tr>\n",
       "  </thead>\n",
       "  <tbody>\n",
       "    <tr>\n",
       "      <th>0</th>\n",
       "      <td>83.5</td>\n",
       "      <td>78.5</td>\n",
       "      <td>5.0</td>\n",
       "      <td>VotingClassifier</td>\n",
       "    </tr>\n",
       "  </tbody>\n",
       "</table>\n",
       "</div>"
      ],
      "text/plain": [
       "   CV Train  CV Test  Diff          ML Model\n",
       "0      83.5     78.5   5.0  VotingClassifier"
      ]
     },
     "execution_count": 47,
     "metadata": {},
     "output_type": "execute_result"
    }
   ],
   "source": [
    "cross_val([voting_clf], x_train, y_train)"
   ]
  },
  {
   "cell_type": "code",
   "execution_count": 48,
   "id": "7b8dcdb3",
   "metadata": {},
   "outputs": [
    {
     "data": {
      "text/html": [
       "<div>\n",
       "<style scoped>\n",
       "    .dataframe tbody tr th:only-of-type {\n",
       "        vertical-align: middle;\n",
       "    }\n",
       "\n",
       "    .dataframe tbody tr th {\n",
       "        vertical-align: top;\n",
       "    }\n",
       "\n",
       "    .dataframe thead th {\n",
       "        text-align: right;\n",
       "    }\n",
       "</style>\n",
       "<table border=\"1\" class=\"dataframe\">\n",
       "  <thead>\n",
       "    <tr style=\"text-align: right;\">\n",
       "      <th></th>\n",
       "      <th>Accuracy</th>\n",
       "      <th>Cross Val</th>\n",
       "      <th>F1</th>\n",
       "      <th>ROC</th>\n",
       "      <th>Recall</th>\n",
       "      <th>Precision</th>\n",
       "      <th>ML Models</th>\n",
       "    </tr>\n",
       "  </thead>\n",
       "  <tbody>\n",
       "    <tr>\n",
       "      <th>0</th>\n",
       "      <td>73.376623</td>\n",
       "      <td>0.78250</td>\n",
       "      <td>67.200000</td>\n",
       "      <td>82.796296</td>\n",
       "      <td>77.777778</td>\n",
       "      <td>59.154930</td>\n",
       "      <td>VotingClassifier</td>\n",
       "    </tr>\n",
       "    <tr>\n",
       "      <th>1</th>\n",
       "      <td>72.727273</td>\n",
       "      <td>0.77750</td>\n",
       "      <td>67.187500</td>\n",
       "      <td>82.796296</td>\n",
       "      <td>79.629630</td>\n",
       "      <td>58.108108</td>\n",
       "      <td>ExtraTreesClassifier</td>\n",
       "    </tr>\n",
       "    <tr>\n",
       "      <th>2</th>\n",
       "      <td>74.675325</td>\n",
       "      <td>0.78375</td>\n",
       "      <td>68.800000</td>\n",
       "      <td>82.333333</td>\n",
       "      <td>79.629630</td>\n",
       "      <td>60.563380</td>\n",
       "      <td>GradientBoostingClassifier</td>\n",
       "    </tr>\n",
       "    <tr>\n",
       "      <th>3</th>\n",
       "      <td>76.623377</td>\n",
       "      <td>0.78875</td>\n",
       "      <td>70.967742</td>\n",
       "      <td>81.092593</td>\n",
       "      <td>81.481481</td>\n",
       "      <td>62.857143</td>\n",
       "      <td>SVC</td>\n",
       "    </tr>\n",
       "  </tbody>\n",
       "</table>\n",
       "</div>"
      ],
      "text/plain": [
       "    Accuracy  Cross Val         F1        ROC     Recall  Precision  \\\n",
       "0  73.376623    0.78250  67.200000  82.796296  77.777778  59.154930   \n",
       "1  72.727273    0.77750  67.187500  82.796296  79.629630  58.108108   \n",
       "2  74.675325    0.78375  68.800000  82.333333  79.629630  60.563380   \n",
       "3  76.623377    0.78875  70.967742  81.092593  81.481481  62.857143   \n",
       "\n",
       "                    ML Models  \n",
       "0            VotingClassifier  \n",
       "1        ExtraTreesClassifier  \n",
       "2  GradientBoostingClassifier  \n",
       "3                         SVC  "
      ]
     },
     "execution_count": 48,
     "metadata": {},
     "output_type": "execute_result"
    }
   ],
   "source": [
    "make_classification([ex_clf, svm_clf, gb_clf, voting_clf], x_train, x_test, y_train, y_test)"
   ]
  },
  {
   "cell_type": "code",
   "execution_count": 49,
   "id": "3936dd0c",
   "metadata": {},
   "outputs": [],
   "source": [
    "y_pred_vt = voting_clf.predict(x_test)\n",
    "y_pred_gb = gb_clf.predict(x_test)"
   ]
  },
  {
   "cell_type": "code",
   "execution_count": 50,
   "id": "fc96ed24",
   "metadata": {},
   "outputs": [
    {
     "data": {
      "text/plain": [
       "(73.37662337662337, 74.67532467532467)"
      ]
     },
     "execution_count": 50,
     "metadata": {},
     "output_type": "execute_result"
    }
   ],
   "source": [
    "accuracy_score(y_test, y_pred_vt) * 100, accuracy_score(y_test, y_pred_gb) * 100, "
   ]
  },
  {
   "cell_type": "code",
   "execution_count": 51,
   "id": "04d444eb",
   "metadata": {},
   "outputs": [
    {
     "data": {
      "text/html": [
       "<div>\n",
       "<style scoped>\n",
       "    .dataframe tbody tr th:only-of-type {\n",
       "        vertical-align: middle;\n",
       "    }\n",
       "\n",
       "    .dataframe tbody tr th {\n",
       "        vertical-align: top;\n",
       "    }\n",
       "\n",
       "    .dataframe thead th {\n",
       "        text-align: right;\n",
       "    }\n",
       "</style>\n",
       "<table border=\"1\" class=\"dataframe\">\n",
       "  <thead>\n",
       "    <tr style=\"text-align: right;\">\n",
       "      <th></th>\n",
       "      <th>CV Train</th>\n",
       "      <th>CV Test</th>\n",
       "      <th>Diff</th>\n",
       "      <th>ML Model</th>\n",
       "    </tr>\n",
       "  </thead>\n",
       "  <tbody>\n",
       "    <tr>\n",
       "      <th>0</th>\n",
       "      <td>83.5000</td>\n",
       "      <td>78.5</td>\n",
       "      <td>5.0000</td>\n",
       "      <td>VotingClassifier</td>\n",
       "    </tr>\n",
       "    <tr>\n",
       "      <th>1</th>\n",
       "      <td>82.8125</td>\n",
       "      <td>78.0</td>\n",
       "      <td>4.8125</td>\n",
       "      <td>GradientBoostingClassifier</td>\n",
       "    </tr>\n",
       "  </tbody>\n",
       "</table>\n",
       "</div>"
      ],
      "text/plain": [
       "   CV Train  CV Test    Diff                    ML Model\n",
       "0   83.5000     78.5  5.0000            VotingClassifier\n",
       "1   82.8125     78.0  4.8125  GradientBoostingClassifier"
      ]
     },
     "execution_count": 51,
     "metadata": {},
     "output_type": "execute_result"
    }
   ],
   "source": [
    "cross_val([voting_clf, gb_clf], x_train, y_train)"
   ]
  },
  {
   "cell_type": "code",
   "execution_count": 52,
   "id": "a6eff705",
   "metadata": {},
   "outputs": [
    {
     "data": {
      "text/html": [
       "<div>\n",
       "<style scoped>\n",
       "    .dataframe tbody tr th:only-of-type {\n",
       "        vertical-align: middle;\n",
       "    }\n",
       "\n",
       "    .dataframe tbody tr th {\n",
       "        vertical-align: top;\n",
       "    }\n",
       "\n",
       "    .dataframe thead th {\n",
       "        text-align: right;\n",
       "    }\n",
       "</style>\n",
       "<table border=\"1\" class=\"dataframe\">\n",
       "  <thead>\n",
       "    <tr style=\"text-align: right;\">\n",
       "      <th></th>\n",
       "      <th>CV Train</th>\n",
       "      <th>CV Test</th>\n",
       "      <th>Diff</th>\n",
       "      <th>ML Model</th>\n",
       "    </tr>\n",
       "  </thead>\n",
       "  <tbody>\n",
       "    <tr>\n",
       "      <th>0</th>\n",
       "      <td>81.836445</td>\n",
       "      <td>76.697224</td>\n",
       "      <td>5.139221</td>\n",
       "      <td>VotingClassifier</td>\n",
       "    </tr>\n",
       "    <tr>\n",
       "      <th>1</th>\n",
       "      <td>81.445671</td>\n",
       "      <td>75.787285</td>\n",
       "      <td>5.658387</td>\n",
       "      <td>GradientBoostingClassifier</td>\n",
       "    </tr>\n",
       "  </tbody>\n",
       "</table>\n",
       "</div>"
      ],
      "text/plain": [
       "    CV Train    CV Test      Diff                    ML Model\n",
       "0  81.836445  76.697224  5.139221            VotingClassifier\n",
       "1  81.445671  75.787285  5.658387  GradientBoostingClassifier"
      ]
     },
     "execution_count": 52,
     "metadata": {},
     "output_type": "execute_result"
    }
   ],
   "source": [
    "cross_val([voting_clf, gb_clf], x, y)"
   ]
  },
  {
   "cell_type": "markdown",
   "id": "10136ef2",
   "metadata": {},
   "source": [
    "# Using PCA (Just a Showcase)"
   ]
  },
  {
   "cell_type": "markdown",
   "id": "7724c38d",
   "metadata": {},
   "source": [
    "#### in this problem due to low number of demensions we do not need Demensionality Reduction Methods and Using PCA here is just for educational purposes"
   ]
  },
  {
   "cell_type": "code",
   "execution_count": 53,
   "id": "d58ffc60",
   "metadata": {},
   "outputs": [],
   "source": [
    "from sklearn.decomposition import PCA"
   ]
  },
  {
   "cell_type": "code",
   "execution_count": 54,
   "id": "27a1437d",
   "metadata": {},
   "outputs": [],
   "source": [
    "pca = PCA()\n",
    "pca.fit(x_train)\n",
    "\n",
    "cumsum = np.cumsum(pca.explained_variance_ratio_)\n",
    "d = np.argmax(cumsum >= 0.95) + 1"
   ]
  },
  {
   "cell_type": "code",
   "execution_count": 55,
   "id": "1e29c0cc",
   "metadata": {},
   "outputs": [
    {
     "data": {
      "text/plain": [
       "7"
      ]
     },
     "execution_count": 55,
     "metadata": {},
     "output_type": "execute_result"
    }
   ],
   "source": [
    "d"
   ]
  },
  {
   "cell_type": "code",
   "execution_count": 56,
   "id": "8503b722",
   "metadata": {},
   "outputs": [],
   "source": [
    "pca = PCA(n_components = 0.90)\n",
    "x_redu = pca.fit_transform(x_train)"
   ]
  },
  {
   "cell_type": "code",
   "execution_count": 57,
   "id": "253df5ed",
   "metadata": {},
   "outputs": [],
   "source": [
    "pca_gb_clf = GradientBoostingClassifier( \n",
    "    random_state = 42, \n",
    "    min_samples_split = 100,\n",
    "    min_samples_leaf = 20,\n",
    "    max_depth = 2,\n",
    "    max_features = 3,\n",
    "    learning_rate = 0.05,\n",
    "    subsample = 0.65,\n",
    ")"
   ]
  },
  {
   "cell_type": "code",
   "execution_count": null,
   "id": "082bba7b",
   "metadata": {},
   "outputs": [],
   "source": []
  },
  {
   "cell_type": "code",
   "execution_count": 58,
   "id": "90efdb0f",
   "metadata": {},
   "outputs": [
    {
     "data": {
      "text/html": [
       "<div>\n",
       "<style scoped>\n",
       "    .dataframe tbody tr th:only-of-type {\n",
       "        vertical-align: middle;\n",
       "    }\n",
       "\n",
       "    .dataframe tbody tr th {\n",
       "        vertical-align: top;\n",
       "    }\n",
       "\n",
       "    .dataframe thead th {\n",
       "        text-align: right;\n",
       "    }\n",
       "</style>\n",
       "<table border=\"1\" class=\"dataframe\">\n",
       "  <thead>\n",
       "    <tr style=\"text-align: right;\">\n",
       "      <th></th>\n",
       "      <th>CV Train</th>\n",
       "      <th>CV Test</th>\n",
       "      <th>Diff</th>\n",
       "      <th>ML Model</th>\n",
       "    </tr>\n",
       "  </thead>\n",
       "  <tbody>\n",
       "    <tr>\n",
       "      <th>0</th>\n",
       "      <td>81.625</td>\n",
       "      <td>77.125</td>\n",
       "      <td>4.5</td>\n",
       "      <td>GradientBoostingClassifier</td>\n",
       "    </tr>\n",
       "  </tbody>\n",
       "</table>\n",
       "</div>"
      ],
      "text/plain": [
       "   CV Train  CV Test  Diff                    ML Model\n",
       "0    81.625   77.125   4.5  GradientBoostingClassifier"
      ]
     },
     "execution_count": 58,
     "metadata": {},
     "output_type": "execute_result"
    }
   ],
   "source": [
    "cross_val([pca_gb_clf], x_redu, y_train)"
   ]
  },
  {
   "cell_type": "markdown",
   "id": "121bd9bc",
   "metadata": {},
   "source": [
    "# BEST MODEL"
   ]
  },
  {
   "cell_type": "markdown",
   "id": "418d07cd",
   "metadata": {},
   "source": [
    "### as we saw in the previous parts of this notebook we had out 2 best models as \"Ensemble\" and \"GradientBoosting\" now its time to compare them in different metrics and declare a winner"
   ]
  },
  {
   "cell_type": "markdown",
   "id": "bd800472",
   "metadata": {},
   "source": [
    "# Results"
   ]
  },
  {
   "cell_type": "code",
   "execution_count": 59,
   "id": "32c8f1fa",
   "metadata": {},
   "outputs": [
    {
     "data": {
      "text/html": [
       "<div>\n",
       "<style scoped>\n",
       "    .dataframe tbody tr th:only-of-type {\n",
       "        vertical-align: middle;\n",
       "    }\n",
       "\n",
       "    .dataframe tbody tr th {\n",
       "        vertical-align: top;\n",
       "    }\n",
       "\n",
       "    .dataframe thead th {\n",
       "        text-align: right;\n",
       "    }\n",
       "</style>\n",
       "<table border=\"1\" class=\"dataframe\">\n",
       "  <thead>\n",
       "    <tr style=\"text-align: right;\">\n",
       "      <th></th>\n",
       "      <th>Accuracy</th>\n",
       "      <th>Cross Val</th>\n",
       "      <th>F1</th>\n",
       "      <th>ROC</th>\n",
       "      <th>Recall</th>\n",
       "      <th>Precision</th>\n",
       "      <th>ML Models</th>\n",
       "    </tr>\n",
       "  </thead>\n",
       "  <tbody>\n",
       "    <tr>\n",
       "      <th>0</th>\n",
       "      <td>73.376623</td>\n",
       "      <td>0.78250</td>\n",
       "      <td>67.2</td>\n",
       "      <td>82.796296</td>\n",
       "      <td>77.777778</td>\n",
       "      <td>59.15493</td>\n",
       "      <td>VotingClassifier</td>\n",
       "    </tr>\n",
       "    <tr>\n",
       "      <th>1</th>\n",
       "      <td>74.675325</td>\n",
       "      <td>0.78375</td>\n",
       "      <td>68.8</td>\n",
       "      <td>82.333333</td>\n",
       "      <td>79.629630</td>\n",
       "      <td>60.56338</td>\n",
       "      <td>GradientBoostingClassifier</td>\n",
       "    </tr>\n",
       "  </tbody>\n",
       "</table>\n",
       "</div>"
      ],
      "text/plain": [
       "    Accuracy  Cross Val    F1        ROC     Recall  Precision  \\\n",
       "0  73.376623    0.78250  67.2  82.796296  77.777778   59.15493   \n",
       "1  74.675325    0.78375  68.8  82.333333  79.629630   60.56338   \n",
       "\n",
       "                    ML Models  \n",
       "0            VotingClassifier  \n",
       "1  GradientBoostingClassifier  "
      ]
     },
     "execution_count": 59,
     "metadata": {},
     "output_type": "execute_result"
    }
   ],
   "source": [
    "make_classification([gb_clf, voting_clf], x_train, x_test, y_train, y_test)"
   ]
  },
  {
   "cell_type": "markdown",
   "id": "203f2a75",
   "metadata": {},
   "source": [
    "## 1) Accuracy"
   ]
  },
  {
   "cell_type": "markdown",
   "id": "67f7ee96",
   "metadata": {},
   "source": [
    "not the most important metric in this problem "
   ]
  },
  {
   "cell_type": "markdown",
   "id": "2bb151e4",
   "metadata": {},
   "source": [
    "as we can see the **GB Classifier** is slightly doing better "
   ]
  },
  {
   "cell_type": "markdown",
   "id": "ff44a4b7",
   "metadata": {},
   "source": [
    "## 2) Precision"
   ]
  },
  {
   "cell_type": "markdown",
   "id": "8329c253",
   "metadata": {},
   "source": [
    "both have rather low precision but once again **GB Classifer** is doing better even much better ! **considering the 3.5% difference**"
   ]
  },
  {
   "cell_type": "markdown",
   "id": "3e54a9e3",
   "metadata": {},
   "source": [
    "## 3) Recall"
   ]
  },
  {
   "cell_type": "markdown",
   "id": "82933d58",
   "metadata": {},
   "source": [
    "in my eyes in this particular problem recall can be one of the most if not the most important metric"
   ]
  },
  {
   "cell_type": "markdown",
   "id": "06843f20",
   "metadata": {},
   "source": [
    "the reasoning behind this idea is that it is really important to correctly detect the ones that have diabetes cause if not, they wont be diagnosed and as a result they will not be cured which may have some detrimental consequences"
   ]
  },
  {
   "cell_type": "markdown",
   "id": "c87516b9",
   "metadata": {},
   "source": [
    "as well as the other metrics **GB Classifier** is doing better my the smallest margin, but its still better !"
   ]
  },
  {
   "cell_type": "markdown",
   "id": "9e0e9efc",
   "metadata": {},
   "source": [
    "## 4) F1"
   ]
  },
  {
   "cell_type": "markdown",
   "id": "a6bd7db2",
   "metadata": {},
   "source": [
    "well this one is obviously a win for **GB Classifier**"
   ]
  },
  {
   "cell_type": "markdown",
   "id": "b36b0336",
   "metadata": {},
   "source": [
    "## 5) AUC"
   ]
  },
  {
   "cell_type": "markdown",
   "id": "9835ade5",
   "metadata": {},
   "source": [
    "roc curve is also a really useful metric for this problem and one way to measure it is using **AUC (Area Under Curve)**"
   ]
  },
  {
   "cell_type": "markdown",
   "id": "58f82958",
   "metadata": {},
   "source": [
    "as we already had figured it out, **GB Classifier** has the upper hand"
   ]
  },
  {
   "cell_type": "markdown",
   "id": "27fd4ad4",
   "metadata": {},
   "source": [
    "### Overfitting / Underfitting"
   ]
  },
  {
   "cell_type": "markdown",
   "id": "628c16ac",
   "metadata": {},
   "source": [
    "none of these two has underfitting by any means"
   ]
  },
  {
   "cell_type": "markdown",
   "id": "ed1145ac",
   "metadata": {},
   "source": [
    "as for overfitting based of what we saw in the previous parts of this notebook we can say that none of these has overfitting problem as well however the diffrence between train/test in **GB Classifier** is somewhat smaller which makes it a slightly more stable model"
   ]
  },
  {
   "cell_type": "markdown",
   "id": "ad896a44",
   "metadata": {},
   "source": [
    "# Conclusion"
   ]
  },
  {
   "cell_type": "markdown",
   "id": "7f0c58e5",
   "metadata": {},
   "source": [
    "based on all models and parameter tuning that we did we can safely say that **\"Gradient Boosting Classifer\"** is our best model"
   ]
  },
  {
   "cell_type": "code",
   "execution_count": 60,
   "id": "fb207735",
   "metadata": {},
   "outputs": [
    {
     "data": {
      "text/html": [
       "<div>\n",
       "<style scoped>\n",
       "    .dataframe tbody tr th:only-of-type {\n",
       "        vertical-align: middle;\n",
       "    }\n",
       "\n",
       "    .dataframe tbody tr th {\n",
       "        vertical-align: top;\n",
       "    }\n",
       "\n",
       "    .dataframe thead th {\n",
       "        text-align: right;\n",
       "    }\n",
       "</style>\n",
       "<table border=\"1\" class=\"dataframe\">\n",
       "  <thead>\n",
       "    <tr style=\"text-align: right;\">\n",
       "      <th></th>\n",
       "      <th>Accuracy</th>\n",
       "      <th>Cross Val</th>\n",
       "      <th>F1</th>\n",
       "      <th>ROC</th>\n",
       "      <th>Recall</th>\n",
       "      <th>Precision</th>\n",
       "      <th>ML Models</th>\n",
       "    </tr>\n",
       "  </thead>\n",
       "  <tbody>\n",
       "    <tr>\n",
       "      <th>0</th>\n",
       "      <td>74.675325</td>\n",
       "      <td>0.78375</td>\n",
       "      <td>68.8</td>\n",
       "      <td>82.333333</td>\n",
       "      <td>79.62963</td>\n",
       "      <td>60.56338</td>\n",
       "      <td>GradientBoostingClassifier</td>\n",
       "    </tr>\n",
       "  </tbody>\n",
       "</table>\n",
       "</div>"
      ],
      "text/plain": [
       "    Accuracy  Cross Val    F1        ROC    Recall  Precision  \\\n",
       "0  74.675325    0.78375  68.8  82.333333  79.62963   60.56338   \n",
       "\n",
       "                    ML Models  \n",
       "0  GradientBoostingClassifier  "
      ]
     },
     "execution_count": 60,
     "metadata": {},
     "output_type": "execute_result"
    }
   ],
   "source": [
    "make_classification([gb_clf], x_train, x_test, y_train, y_test)"
   ]
  },
  {
   "cell_type": "code",
   "execution_count": 61,
   "id": "b767b1f9",
   "metadata": {},
   "outputs": [
    {
     "data": {
      "text/html": [
       "<div>\n",
       "<style scoped>\n",
       "    .dataframe tbody tr th:only-of-type {\n",
       "        vertical-align: middle;\n",
       "    }\n",
       "\n",
       "    .dataframe tbody tr th {\n",
       "        vertical-align: top;\n",
       "    }\n",
       "\n",
       "    .dataframe thead th {\n",
       "        text-align: right;\n",
       "    }\n",
       "</style>\n",
       "<table border=\"1\" class=\"dataframe\">\n",
       "  <thead>\n",
       "    <tr style=\"text-align: right;\">\n",
       "      <th></th>\n",
       "      <th>CV Train</th>\n",
       "      <th>CV Test</th>\n",
       "      <th>Diff</th>\n",
       "      <th>ML Model</th>\n",
       "    </tr>\n",
       "  </thead>\n",
       "  <tbody>\n",
       "    <tr>\n",
       "      <th>0</th>\n",
       "      <td>81.445671</td>\n",
       "      <td>75.787285</td>\n",
       "      <td>5.658387</td>\n",
       "      <td>GradientBoostingClassifier</td>\n",
       "    </tr>\n",
       "  </tbody>\n",
       "</table>\n",
       "</div>"
      ],
      "text/plain": [
       "    CV Train    CV Test      Diff                    ML Model\n",
       "0  81.445671  75.787285  5.658387  GradientBoostingClassifier"
      ]
     },
     "execution_count": 61,
     "metadata": {},
     "output_type": "execute_result"
    }
   ],
   "source": [
    "cross_val([gb_clf], x, y)"
   ]
  },
  {
   "cell_type": "code",
   "execution_count": 62,
   "id": "a797456c",
   "metadata": {},
   "outputs": [],
   "source": [
    "y_scores = cross_val_predict(gb_clf, x, y, cv = 3, method = \"decision_function\")"
   ]
  },
  {
   "cell_type": "code",
   "execution_count": 63,
   "id": "e9f113b8",
   "metadata": {},
   "outputs": [],
   "source": [
    "precisions, recalls, thresholds = precision_recall_curve(y, y_scores)"
   ]
  },
  {
   "cell_type": "code",
   "execution_count": 64,
   "id": "2ca7411c",
   "metadata": {},
   "outputs": [],
   "source": [
    "def plot_precision_recall_vs_threshold(precisions, recalls, thresholds) : \n",
    "    plt.plot(thresholds, precisions[:-1], \"b--\", label = \"Precision\")\n",
    "    plt.plot(thresholds, recalls[:-1], \"g-\", label = \"Recall\")\n"
   ]
  },
  {
   "cell_type": "markdown",
   "id": "ae5dcb21",
   "metadata": {},
   "source": [
    "# Precision-Recall Curve"
   ]
  },
  {
   "cell_type": "code",
   "execution_count": 65,
   "id": "26badc78",
   "metadata": {},
   "outputs": [
    {
     "data": {
      "image/png": "[encoded data removed]",
      "text/plain": [
       "<Figure size 800x550 with 1 Axes>"
      ]
     },
     "metadata": {},
     "output_type": "display_data"
    }
   ],
   "source": [
    "plot_precision_recall_vs_threshold(precisions, recalls, thresholds)\n",
    "plt.show()"
   ]
  },
  {
   "cell_type": "code",
   "execution_count": 66,
   "id": "fdda28d9",
   "metadata": {},
   "outputs": [],
   "source": [
    "fpr, tpr, thresholds = roc_curve(y, y_scores)"
   ]
  },
  {
   "cell_type": "code",
   "execution_count": 67,
   "id": "c13e8460",
   "metadata": {},
   "outputs": [],
   "source": [
    "def plot_roc_curve(fpr, tpr, label = None) :\n",
    "    plt.plot(fpr, tpr, linewidth = 2,label = label)\n",
    "    plt.plot([0, 1], [0, 1], 'k--')"
   ]
  },
  {
   "cell_type": "markdown",
   "id": "910236c3",
   "metadata": {},
   "source": [
    "# ROC Curve"
   ]
  },
  {
   "cell_type": "code",
   "execution_count": 68,
   "id": "e6ea6a0d",
   "metadata": {},
   "outputs": [
    {
     "data": {
      "image/png": "[encoded data removed]",
      "text/plain": [
       "<Figure size 800x550 with 1 Axes>"
      ]
     },
     "metadata": {},
     "output_type": "display_data"
    }
   ],
   "source": [
    "plot_roc_curve(fpr, tpr, \"ROC Curve\")\n",
    "plt.show()"
   ]
  },
  {
   "cell_type": "code",
   "execution_count": 69,
   "id": "a124e533",
   "metadata": {},
   "outputs": [
    {
     "data": {
      "text/plain": [
       "0.8384626865671643"
      ]
     },
     "execution_count": 69,
     "metadata": {},
     "output_type": "execute_result"
    }
   ],
   "source": [
    "roc_auc_score(y, y_scores)"
   ]
  }
 ],
 "metadata": {
  "kernelspec": {
   "display_name": "Python 3 (ipykernel)",
   "language": "python",
   "name": "python3"
  },
  "language_info": {
   "codemirror_mode": {
    "name": "ipython",
    "version": 3
   },
   "file_extension": ".py",
   "mimetype": "text/x-python",
   "name": "python",
   "nbconvert_exporter": "python",
   "pygments_lexer": "ipython3",
   "version": "3.7.3"
  }
 },
 "nbformat": 4,
 "nbformat_minor": 5
}
