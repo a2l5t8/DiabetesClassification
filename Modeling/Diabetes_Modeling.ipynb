{
 "cells": [
  {
   "cell_type": "markdown",
   "id": "172cb7ba",
   "metadata": {},
   "source": [
    "# Diabetes Dataset Modeling"
   ]
  },
  {
   "cell_type": "markdown",
   "id": "2ddd8c86",
   "metadata": {},
   "source": [
    "## setup"
   ]
  },
  {
   "cell_type": "code",
   "execution_count": 1,
   "id": "0e770c87",
   "metadata": {},
   "outputs": [
    {
     "name": "stderr",
     "output_type": "stream",
     "text": [
      "Matplotlib is building the font cache; this may take a moment.\n"
     ]
    }
   ],
   "source": [
    "import pandas as pd\n",
    "import numpy as np\n",
    "from matplotlib import pyplot as plt"
   ]
  },
  {
   "cell_type": "markdown",
   "id": "bd12a1ea",
   "metadata": {},
   "source": [
    "# Loading Clean Data"
   ]
  },
  {
   "cell_type": "code",
   "execution_count": 2,
   "id": "e432ffa1",
   "metadata": {},
   "outputs": [],
   "source": [
    "df = pd.read_csv(\"outputDiab.csv\")"
   ]
  },
  {
   "cell_type": "code",
   "execution_count": 3,
   "id": "1959f9df",
   "metadata": {},
   "outputs": [
    {
     "data": {
      "text/html": [
       "<div>\n",
       "<style scoped>\n",
       "    .dataframe tbody tr th:only-of-type {\n",
       "        vertical-align: middle;\n",
       "    }\n",
       "\n",
       "    .dataframe tbody tr th {\n",
       "        vertical-align: top;\n",
       "    }\n",
       "\n",
       "    .dataframe thead th {\n",
       "        text-align: right;\n",
       "    }\n",
       "</style>\n",
       "<table border=\"1\" class=\"dataframe\">\n",
       "  <thead>\n",
       "    <tr style=\"text-align: right;\">\n",
       "      <th></th>\n",
       "      <th>Outcome</th>\n",
       "      <th>Pregnancies_transformed</th>\n",
       "      <th>Glucose_transformed</th>\n",
       "      <th>BloodPressure_transformed</th>\n",
       "      <th>SkinThickness_transformed</th>\n",
       "      <th>BMI_transformed</th>\n",
       "      <th>DiabetesPedigreeFunction_transformed</th>\n",
       "      <th>Age_transformed</th>\n",
       "    </tr>\n",
       "  </thead>\n",
       "  <tbody>\n",
       "    <tr>\n",
       "      <th>0</th>\n",
       "      <td>1</td>\n",
       "      <td>44.444444</td>\n",
       "      <td>67.096774</td>\n",
       "      <td>49.410379</td>\n",
       "      <td>30.434783</td>\n",
       "      <td>48.049922</td>\n",
       "      <td>48.605578</td>\n",
       "      <td>63.736264</td>\n",
       "    </tr>\n",
       "    <tr>\n",
       "      <th>1</th>\n",
       "      <td>0</td>\n",
       "      <td>7.407407</td>\n",
       "      <td>26.451613</td>\n",
       "      <td>41.336819</td>\n",
       "      <td>23.913043</td>\n",
       "      <td>26.209048</td>\n",
       "      <td>24.169987</td>\n",
       "      <td>21.978022</td>\n",
       "    </tr>\n",
       "    <tr>\n",
       "      <th>2</th>\n",
       "      <td>1</td>\n",
       "      <td>59.259259</td>\n",
       "      <td>89.677419</td>\n",
       "      <td>38.645632</td>\n",
       "      <td>13.373447</td>\n",
       "      <td>15.912637</td>\n",
       "      <td>52.589641</td>\n",
       "      <td>24.175824</td>\n",
       "    </tr>\n",
       "    <tr>\n",
       "      <th>3</th>\n",
       "      <td>0</td>\n",
       "      <td>7.407407</td>\n",
       "      <td>29.032258</td>\n",
       "      <td>41.336819</td>\n",
       "      <td>17.391304</td>\n",
       "      <td>30.889236</td>\n",
       "      <td>7.879593</td>\n",
       "      <td>0.000000</td>\n",
       "    </tr>\n",
       "    <tr>\n",
       "      <th>4</th>\n",
       "      <td>1</td>\n",
       "      <td>0.000000</td>\n",
       "      <td>60.000000</td>\n",
       "      <td>6.351391</td>\n",
       "      <td>30.434783</td>\n",
       "      <td>77.691108</td>\n",
       "      <td>17.676560</td>\n",
       "      <td>26.373626</td>\n",
       "    </tr>\n",
       "  </tbody>\n",
       "</table>\n",
       "</div>"
      ],
      "text/plain": [
       "   Outcome  Pregnancies_transformed  Glucose_transformed  \\\n",
       "0        1                44.444444            67.096774   \n",
       "1        0                 7.407407            26.451613   \n",
       "2        1                59.259259            89.677419   \n",
       "3        0                 7.407407            29.032258   \n",
       "4        1                 0.000000            60.000000   \n",
       "\n",
       "   BloodPressure_transformed  SkinThickness_transformed  BMI_transformed  \\\n",
       "0                  49.410379                  30.434783        48.049922   \n",
       "1                  41.336819                  23.913043        26.209048   \n",
       "2                  38.645632                  13.373447        15.912637   \n",
       "3                  41.336819                  17.391304        30.889236   \n",
       "4                   6.351391                  30.434783        77.691108   \n",
       "\n",
       "   DiabetesPedigreeFunction_transformed  Age_transformed  \n",
       "0                             48.605578        63.736264  \n",
       "1                             24.169987        21.978022  \n",
       "2                             52.589641        24.175824  \n",
       "3                              7.879593         0.000000  \n",
       "4                             17.676560        26.373626  "
      ]
     },
     "execution_count": 3,
     "metadata": {},
     "output_type": "execute_result"
    }
   ],
   "source": [
    "df.head()"
   ]
  },
  {
   "cell_type": "code",
   "execution_count": 4,
   "id": "a4c6f3f1",
   "metadata": {},
   "outputs": [
    {
     "data": {
      "text/plain": [
       "(728, 8)"
      ]
     },
     "execution_count": 4,
     "metadata": {},
     "output_type": "execute_result"
    }
   ],
   "source": [
    "df.shape"
   ]
  },
  {
   "cell_type": "code",
   "execution_count": 5,
   "id": "89a99b06",
   "metadata": {},
   "outputs": [],
   "source": [
    "x = df[df.columns.drop('Outcome')]\n",
    "y = df['Outcome']"
   ]
  },
  {
   "cell_type": "markdown",
   "id": "ea1c81a8",
   "metadata": {},
   "source": [
    "# Scaling the Data"
   ]
  },
  {
   "cell_type": "code",
   "execution_count": 23,
   "id": "9c5159b8",
   "metadata": {},
   "outputs": [],
   "source": [
    "from sklearn.preprocessing import MinMaxScaler"
   ]
  },
  {
   "cell_type": "code",
   "execution_count": 24,
   "id": "accf0f64",
   "metadata": {},
   "outputs": [],
   "source": [
    "scale = MinMaxScaler()\n",
    "x_scaled = scale.fit_transform(x)\n",
    "x = x_scaled"
   ]
  },
  {
   "cell_type": "markdown",
   "id": "a6424790",
   "metadata": {},
   "source": [
    "# Train-Test Split"
   ]
  },
  {
   "cell_type": "code",
   "execution_count": 25,
   "id": "bc4dd9c3",
   "metadata": {},
   "outputs": [],
   "source": [
    "from sklearn.model_selection import train_test_split "
   ]
  },
  {
   "cell_type": "code",
   "execution_count": 32,
   "id": "a14da0ae",
   "metadata": {},
   "outputs": [],
   "source": [
    "x_train, x_test, y_train, y_test = train_test_split(x, y, test_size = 0.2, random_state = 42)"
   ]
  },
  {
   "cell_type": "markdown",
   "id": "bc1757b1",
   "metadata": {},
   "source": [
    "# Balancing Data (using oversampling)"
   ]
  },
  {
   "cell_type": "code",
   "execution_count": 33,
   "id": "23fd116c",
   "metadata": {},
   "outputs": [],
   "source": [
    "from imblearn.over_sampling import RandomOverSampler"
   ]
  },
  {
   "cell_type": "code",
   "execution_count": 38,
   "id": "183fa669",
   "metadata": {},
   "outputs": [],
   "source": [
    "ros = RandomOverSampler(random_state = 0)\n",
    "x_new, y_new = ros.fit_resample(x_train, y_train)\n",
    "x = x_new; y = y_new"
   ]
  },
  {
   "cell_type": "markdown",
   "id": "bfb4e806",
   "metadata": {},
   "source": [
    "# Modeling (1. DecisionTreeClassifier)"
   ]
  },
  {
   "cell_type": "code",
   "execution_count": 41,
   "id": "e4f79383",
   "metadata": {},
   "outputs": [],
   "source": [
    "from sklearn.tree import DecisionTreeClassifier"
   ]
  },
  {
   "cell_type": "code",
   "execution_count": 42,
   "id": "fc9001df",
   "metadata": {},
   "outputs": [
    {
     "data": {
      "text/plain": [
       "DecisionTreeClassifier(max_depth=2)"
      ]
     },
     "execution_count": 42,
     "metadata": {},
     "output_type": "execute_result"
    }
   ],
   "source": [
    "tree_clf = DecisionTreeClassifier(max_depth = 2)\n",
    "tree_clf.fit(x_train, y_train)"
   ]
  },
  {
   "cell_type": "markdown",
   "id": "b79e3b5b",
   "metadata": {},
   "source": [
    "### Cross-Val"
   ]
  },
  {
   "cell_type": "code",
   "execution_count": 48,
   "id": "2b226021",
   "metadata": {},
   "outputs": [],
   "source": [
    "from sklearn.model_selection import cross_val_predict\n",
    "from sklearn.model_selection import cross_val_score"
   ]
  },
  {
   "cell_type": "code",
   "execution_count": 59,
   "id": "08a04953",
   "metadata": {},
   "outputs": [
    {
     "data": {
      "text/plain": [
       "0.71482463896257"
      ]
     },
     "execution_count": 59,
     "metadata": {},
     "output_type": "execute_result"
    }
   ],
   "source": [
    "sum(cross_val_score(tree_clf, x_train, y_train, cv = 5, scoring = \"accuracy\"))/5\n",
    "# y_scores = cross_val_predict(tree_clf, x_train, y_train, cv = 3, method=\"decision_function\")"
   ]
  },
  {
   "cell_type": "markdown",
   "id": "52352843",
   "metadata": {},
   "source": [
    "# ROC Curve"
   ]
  },
  {
   "cell_type": "code",
   "execution_count": 46,
   "id": "4574c701",
   "metadata": {},
   "outputs": [],
   "source": [
    "from sklearn.metrics import roc_curve"
   ]
  },
  {
   "cell_type": "code",
   "execution_count": 47,
   "id": "782124a4",
   "metadata": {},
   "outputs": [],
   "source": [
    "def roc_curve_plot(y_train, y_score, label = None) : \n",
    "    fpr, tpr, thresholds = roc_curve(y_train, y_score)\n",
    "    \n",
    "    plt.plot(fpr, tpr, linewidth = 2,label = label)\n",
    "    plt.plot([0, 1], [0, 1], 'k--')"
   ]
  },
  {
   "cell_type": "markdown",
   "id": "94f2eefc",
   "metadata": {},
   "source": [
    "# Modeling(2. Logistic Regression)"
   ]
  },
  {
   "cell_type": "code",
   "execution_count": 55,
   "id": "186251df",
   "metadata": {},
   "outputs": [],
   "source": [
    "from sklearn.linear_model import LogisticRegression"
   ]
  },
  {
   "cell_type": "code",
   "execution_count": 56,
   "id": "bc85014d",
   "metadata": {},
   "outputs": [
    {
     "data": {
      "text/plain": [
       "LogisticRegression()"
      ]
     },
     "execution_count": 56,
     "metadata": {},
     "output_type": "execute_result"
    }
   ],
   "source": [
    "log_clf = LogisticRegression()\n",
    "log_clf.fit(x_train, y_train)"
   ]
  },
  {
   "cell_type": "code",
   "execution_count": 67,
   "id": "407bbd58",
   "metadata": {},
   "outputs": [
    {
     "data": {
      "text/plain": [
       "0.7577365163572061"
      ]
     },
     "execution_count": 67,
     "metadata": {},
     "output_type": "execute_result"
    }
   ],
   "source": [
    "sum(cross_val_score(log_clf, x_train, y_train, cv = 5, scoring = \"accuracy\"))/5"
   ]
  },
  {
   "cell_type": "markdown",
   "id": "9873ed6b",
   "metadata": {},
   "source": [
    "# Modeling(3. SVM)"
   ]
  },
  {
   "cell_type": "code",
   "execution_count": 64,
   "id": "b5c02ce8",
   "metadata": {},
   "outputs": [],
   "source": [
    "from sklearn.svm import LinearSVC\n",
    "from sklearn.pipeline import Pipeline\n",
    "from sklearn.preprocessing import PolynomialFeatures"
   ]
  },
  {
   "cell_type": "code",
   "execution_count": 78,
   "id": "98b90616",
   "metadata": {},
   "outputs": [
    {
     "name": "stderr",
     "output_type": "stream",
     "text": [
      "D:\\Program Files\\Anaconda\\lib\\site-packages\\sklearn\\svm\\_base.py:1208: ConvergenceWarning: Liblinear failed to converge, increase the number of iterations.\n",
      "  ConvergenceWarning,\n"
     ]
    },
    {
     "data": {
      "text/plain": [
       "Pipeline(steps=[('poly_features', PolynomialFeatures(degree=3)),\n",
       "                ('scaler', StandardScaler()), ('svm_clf', LinearSVC())])"
      ]
     },
     "execution_count": 78,
     "metadata": {},
     "output_type": "execute_result"
    }
   ],
   "source": [
    "poly_svm_clf = Pipeline([\n",
    "    (\"poly_features\", PolynomialFeatures(degree = 3)),\n",
    "    (\"scaler\", StandardScaler()),\n",
    "    (\"svm_clf\", LinearSVC())\n",
    "])\n",
    "\n",
    "poly_svm_clf.fit(x_train, y_train)"
   ]
  },
  {
   "cell_type": "code",
   "execution_count": 82,
   "id": "d40218f4",
   "metadata": {},
   "outputs": [
    {
     "name": "stderr",
     "output_type": "stream",
     "text": [
      "D:\\Program Files\\Anaconda\\lib\\site-packages\\sklearn\\svm\\_base.py:1208: ConvergenceWarning: Liblinear failed to converge, increase the number of iterations.\n",
      "  ConvergenceWarning,\n",
      "D:\\Program Files\\Anaconda\\lib\\site-packages\\sklearn\\svm\\_base.py:1208: ConvergenceWarning: Liblinear failed to converge, increase the number of iterations.\n",
      "  ConvergenceWarning,\n",
      "D:\\Program Files\\Anaconda\\lib\\site-packages\\sklearn\\svm\\_base.py:1208: ConvergenceWarning: Liblinear failed to converge, increase the number of iterations.\n",
      "  ConvergenceWarning,\n",
      "D:\\Program Files\\Anaconda\\lib\\site-packages\\sklearn\\svm\\_base.py:1208: ConvergenceWarning: Liblinear failed to converge, increase the number of iterations.\n",
      "  ConvergenceWarning,\n",
      "D:\\Program Files\\Anaconda\\lib\\site-packages\\sklearn\\svm\\_base.py:1208: ConvergenceWarning: Liblinear failed to converge, increase the number of iterations.\n",
      "  ConvergenceWarning,\n"
     ]
    },
    {
     "data": {
      "text/plain": [
       "0.7268199233716475"
      ]
     },
     "execution_count": 82,
     "metadata": {},
     "output_type": "execute_result"
    }
   ],
   "source": [
    "sum(cross_val_score(poly_svm_clf, x_train, y_train, cv = 5, scoring = \"accuracy\"))/5"
   ]
  },
  {
   "cell_type": "code",
   "execution_count": null,
   "id": "8d1919e9",
   "metadata": {},
   "outputs": [],
   "source": []
  }
 ],
 "metadata": {
  "kernelspec": {
   "display_name": "Python 3 (ipykernel)",
   "language": "python",
   "name": "python3"
  },
  "language_info": {
   "codemirror_mode": {
    "name": "ipython",
    "version": 3
   },
   "file_extension": ".py",
   "mimetype": "text/x-python",
   "name": "python",
   "nbconvert_exporter": "python",
   "pygments_lexer": "ipython3",
   "version": "3.7.3"
  }
 },
 "nbformat": 4,
 "nbformat_minor": 5
}
