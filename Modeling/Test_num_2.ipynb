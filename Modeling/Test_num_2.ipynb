{
 "cells": [
  {
   "cell_type": "markdown",
   "id": "5688944d",
   "metadata": {},
   "source": [
    "# Setup "
   ]
  },
  {
   "cell_type": "code",
   "execution_count": 1,
   "id": "3d9bd504",
   "metadata": {},
   "outputs": [],
   "source": [
    "import pandas as pd\n",
    "import numpy as np\n",
    "from matplotlib import pyplot as plt"
   ]
  },
  {
   "cell_type": "markdown",
   "id": "0ddaa2ac",
   "metadata": {},
   "source": [
    "# data"
   ]
  },
  {
   "cell_type": "code",
   "execution_count": 4,
   "id": "4e6fb182",
   "metadata": {},
   "outputs": [],
   "source": [
    "df = pd.read_csv(\"../diabetes.csv\")"
   ]
  },
  {
   "cell_type": "code",
   "execution_count": 5,
   "id": "de1188a5",
   "metadata": {},
   "outputs": [
    {
     "data": {
      "text/html": [
       "<div>\n",
       "<style scoped>\n",
       "    .dataframe tbody tr th:only-of-type {\n",
       "        vertical-align: middle;\n",
       "    }\n",
       "\n",
       "    .dataframe tbody tr th {\n",
       "        vertical-align: top;\n",
       "    }\n",
       "\n",
       "    .dataframe thead th {\n",
       "        text-align: right;\n",
       "    }\n",
       "</style>\n",
       "<table border=\"1\" class=\"dataframe\">\n",
       "  <thead>\n",
       "    <tr style=\"text-align: right;\">\n",
       "      <th></th>\n",
       "      <th>Pregnancies</th>\n",
       "      <th>Glucose</th>\n",
       "      <th>BloodPressure</th>\n",
       "      <th>SkinThickness</th>\n",
       "      <th>Insulin</th>\n",
       "      <th>BMI</th>\n",
       "      <th>DiabetesPedigreeFunction</th>\n",
       "      <th>Age</th>\n",
       "      <th>Outcome</th>\n",
       "    </tr>\n",
       "  </thead>\n",
       "  <tbody>\n",
       "    <tr>\n",
       "      <th>0</th>\n",
       "      <td>6</td>\n",
       "      <td>148</td>\n",
       "      <td>72</td>\n",
       "      <td>35</td>\n",
       "      <td>0</td>\n",
       "      <td>33.6</td>\n",
       "      <td>0.627</td>\n",
       "      <td>50</td>\n",
       "      <td>1</td>\n",
       "    </tr>\n",
       "    <tr>\n",
       "      <th>1</th>\n",
       "      <td>1</td>\n",
       "      <td>85</td>\n",
       "      <td>66</td>\n",
       "      <td>29</td>\n",
       "      <td>0</td>\n",
       "      <td>26.6</td>\n",
       "      <td>0.351</td>\n",
       "      <td>31</td>\n",
       "      <td>0</td>\n",
       "    </tr>\n",
       "    <tr>\n",
       "      <th>2</th>\n",
       "      <td>8</td>\n",
       "      <td>183</td>\n",
       "      <td>64</td>\n",
       "      <td>0</td>\n",
       "      <td>0</td>\n",
       "      <td>23.3</td>\n",
       "      <td>0.672</td>\n",
       "      <td>32</td>\n",
       "      <td>1</td>\n",
       "    </tr>\n",
       "    <tr>\n",
       "      <th>3</th>\n",
       "      <td>1</td>\n",
       "      <td>89</td>\n",
       "      <td>66</td>\n",
       "      <td>23</td>\n",
       "      <td>94</td>\n",
       "      <td>28.1</td>\n",
       "      <td>0.167</td>\n",
       "      <td>21</td>\n",
       "      <td>0</td>\n",
       "    </tr>\n",
       "    <tr>\n",
       "      <th>4</th>\n",
       "      <td>0</td>\n",
       "      <td>137</td>\n",
       "      <td>40</td>\n",
       "      <td>35</td>\n",
       "      <td>168</td>\n",
       "      <td>43.1</td>\n",
       "      <td>2.288</td>\n",
       "      <td>33</td>\n",
       "      <td>1</td>\n",
       "    </tr>\n",
       "  </tbody>\n",
       "</table>\n",
       "</div>"
      ],
      "text/plain": [
       "   Pregnancies  Glucose  BloodPressure  SkinThickness  Insulin   BMI  \\\n",
       "0            6      148             72             35        0  33.6   \n",
       "1            1       85             66             29        0  26.6   \n",
       "2            8      183             64              0        0  23.3   \n",
       "3            1       89             66             23       94  28.1   \n",
       "4            0      137             40             35      168  43.1   \n",
       "\n",
       "   DiabetesPedigreeFunction  Age  Outcome  \n",
       "0                     0.627   50        1  \n",
       "1                     0.351   31        0  \n",
       "2                     0.672   32        1  \n",
       "3                     0.167   21        0  \n",
       "4                     2.288   33        1  "
      ]
     },
     "execution_count": 5,
     "metadata": {},
     "output_type": "execute_result"
    }
   ],
   "source": [
    "df.head()"
   ]
  },
  {
   "cell_type": "code",
   "execution_count": 6,
   "id": "0014c5e7",
   "metadata": {},
   "outputs": [
    {
     "data": {
      "text/plain": [
       "(768, 9)"
      ]
     },
     "execution_count": 6,
     "metadata": {},
     "output_type": "execute_result"
    }
   ],
   "source": [
    "df.shape"
   ]
  },
  {
   "cell_type": "markdown",
   "id": "9e816280",
   "metadata": {},
   "source": [
    "# Data Preprocessing"
   ]
  },
  {
   "cell_type": "code",
   "execution_count": 9,
   "id": "2db6f14d",
   "metadata": {},
   "outputs": [
    {
     "data": {
      "text/plain": [
       "Pregnancies                 14.453125\n",
       "Glucose                      0.651042\n",
       "BloodPressure                4.557292\n",
       "SkinThickness               29.557292\n",
       "Insulin                     48.697917\n",
       "BMI                          1.432292\n",
       "DiabetesPedigreeFunction     0.000000\n",
       "Age                          0.000000\n",
       "Outcome                     65.104167\n",
       "dtype: float64"
      ]
     },
     "execution_count": 9,
     "metadata": {},
     "output_type": "execute_result"
    }
   ],
   "source": [
    "zero_pr = df.isin([0]).mean() * 100\n",
    "zero_pr"
   ]
  },
  {
   "cell_type": "code",
   "execution_count": 10,
   "id": "bb277eee",
   "metadata": {},
   "outputs": [
    {
     "data": {
      "text/html": [
       "<div>\n",
       "<style scoped>\n",
       "    .dataframe tbody tr th:only-of-type {\n",
       "        vertical-align: middle;\n",
       "    }\n",
       "\n",
       "    .dataframe tbody tr th {\n",
       "        vertical-align: top;\n",
       "    }\n",
       "\n",
       "    .dataframe thead th {\n",
       "        text-align: right;\n",
       "    }\n",
       "</style>\n",
       "<table border=\"1\" class=\"dataframe\">\n",
       "  <thead>\n",
       "    <tr style=\"text-align: right;\">\n",
       "      <th></th>\n",
       "      <th>0</th>\n",
       "      <th>1</th>\n",
       "      <th>2</th>\n",
       "      <th>3</th>\n",
       "      <th>4</th>\n",
       "      <th>5</th>\n",
       "      <th>6</th>\n",
       "      <th>7</th>\n",
       "      <th>8</th>\n",
       "      <th>9</th>\n",
       "      <th>...</th>\n",
       "      <th>758</th>\n",
       "      <th>759</th>\n",
       "      <th>760</th>\n",
       "      <th>761</th>\n",
       "      <th>762</th>\n",
       "      <th>763</th>\n",
       "      <th>764</th>\n",
       "      <th>765</th>\n",
       "      <th>766</th>\n",
       "      <th>767</th>\n",
       "    </tr>\n",
       "  </thead>\n",
       "  <tbody>\n",
       "    <tr>\n",
       "      <th>Pregnancies</th>\n",
       "      <td>6.000</td>\n",
       "      <td>1.000</td>\n",
       "      <td>8.000</td>\n",
       "      <td>1.000</td>\n",
       "      <td>0.000</td>\n",
       "      <td>5.000</td>\n",
       "      <td>3.000</td>\n",
       "      <td>10.000</td>\n",
       "      <td>2.000</td>\n",
       "      <td>8.000</td>\n",
       "      <td>...</td>\n",
       "      <td>1.000</td>\n",
       "      <td>6.000</td>\n",
       "      <td>2.000</td>\n",
       "      <td>9.000</td>\n",
       "      <td>9.000</td>\n",
       "      <td>10.000</td>\n",
       "      <td>2.00</td>\n",
       "      <td>5.000</td>\n",
       "      <td>1.000</td>\n",
       "      <td>1.000</td>\n",
       "    </tr>\n",
       "    <tr>\n",
       "      <th>Glucose</th>\n",
       "      <td>148.000</td>\n",
       "      <td>85.000</td>\n",
       "      <td>183.000</td>\n",
       "      <td>89.000</td>\n",
       "      <td>137.000</td>\n",
       "      <td>116.000</td>\n",
       "      <td>78.000</td>\n",
       "      <td>115.000</td>\n",
       "      <td>197.000</td>\n",
       "      <td>125.000</td>\n",
       "      <td>...</td>\n",
       "      <td>106.000</td>\n",
       "      <td>190.000</td>\n",
       "      <td>88.000</td>\n",
       "      <td>170.000</td>\n",
       "      <td>89.000</td>\n",
       "      <td>101.000</td>\n",
       "      <td>122.00</td>\n",
       "      <td>121.000</td>\n",
       "      <td>126.000</td>\n",
       "      <td>93.000</td>\n",
       "    </tr>\n",
       "    <tr>\n",
       "      <th>BloodPressure</th>\n",
       "      <td>72.000</td>\n",
       "      <td>66.000</td>\n",
       "      <td>64.000</td>\n",
       "      <td>66.000</td>\n",
       "      <td>40.000</td>\n",
       "      <td>74.000</td>\n",
       "      <td>50.000</td>\n",
       "      <td>0.000</td>\n",
       "      <td>70.000</td>\n",
       "      <td>96.000</td>\n",
       "      <td>...</td>\n",
       "      <td>76.000</td>\n",
       "      <td>92.000</td>\n",
       "      <td>58.000</td>\n",
       "      <td>74.000</td>\n",
       "      <td>62.000</td>\n",
       "      <td>76.000</td>\n",
       "      <td>70.00</td>\n",
       "      <td>72.000</td>\n",
       "      <td>60.000</td>\n",
       "      <td>70.000</td>\n",
       "    </tr>\n",
       "    <tr>\n",
       "      <th>SkinThickness</th>\n",
       "      <td>35.000</td>\n",
       "      <td>29.000</td>\n",
       "      <td>0.000</td>\n",
       "      <td>23.000</td>\n",
       "      <td>35.000</td>\n",
       "      <td>0.000</td>\n",
       "      <td>32.000</td>\n",
       "      <td>0.000</td>\n",
       "      <td>45.000</td>\n",
       "      <td>0.000</td>\n",
       "      <td>...</td>\n",
       "      <td>0.000</td>\n",
       "      <td>0.000</td>\n",
       "      <td>26.000</td>\n",
       "      <td>31.000</td>\n",
       "      <td>0.000</td>\n",
       "      <td>48.000</td>\n",
       "      <td>27.00</td>\n",
       "      <td>23.000</td>\n",
       "      <td>0.000</td>\n",
       "      <td>31.000</td>\n",
       "    </tr>\n",
       "    <tr>\n",
       "      <th>Insulin</th>\n",
       "      <td>0.000</td>\n",
       "      <td>0.000</td>\n",
       "      <td>0.000</td>\n",
       "      <td>94.000</td>\n",
       "      <td>168.000</td>\n",
       "      <td>0.000</td>\n",
       "      <td>88.000</td>\n",
       "      <td>0.000</td>\n",
       "      <td>543.000</td>\n",
       "      <td>0.000</td>\n",
       "      <td>...</td>\n",
       "      <td>0.000</td>\n",
       "      <td>0.000</td>\n",
       "      <td>16.000</td>\n",
       "      <td>0.000</td>\n",
       "      <td>0.000</td>\n",
       "      <td>180.000</td>\n",
       "      <td>0.00</td>\n",
       "      <td>112.000</td>\n",
       "      <td>0.000</td>\n",
       "      <td>0.000</td>\n",
       "    </tr>\n",
       "    <tr>\n",
       "      <th>BMI</th>\n",
       "      <td>33.600</td>\n",
       "      <td>26.600</td>\n",
       "      <td>23.300</td>\n",
       "      <td>28.100</td>\n",
       "      <td>43.100</td>\n",
       "      <td>25.600</td>\n",
       "      <td>31.000</td>\n",
       "      <td>35.300</td>\n",
       "      <td>30.500</td>\n",
       "      <td>0.000</td>\n",
       "      <td>...</td>\n",
       "      <td>37.500</td>\n",
       "      <td>35.500</td>\n",
       "      <td>28.400</td>\n",
       "      <td>44.000</td>\n",
       "      <td>22.500</td>\n",
       "      <td>32.900</td>\n",
       "      <td>36.80</td>\n",
       "      <td>26.200</td>\n",
       "      <td>30.100</td>\n",
       "      <td>30.400</td>\n",
       "    </tr>\n",
       "    <tr>\n",
       "      <th>DiabetesPedigreeFunction</th>\n",
       "      <td>0.627</td>\n",
       "      <td>0.351</td>\n",
       "      <td>0.672</td>\n",
       "      <td>0.167</td>\n",
       "      <td>2.288</td>\n",
       "      <td>0.201</td>\n",
       "      <td>0.248</td>\n",
       "      <td>0.134</td>\n",
       "      <td>0.158</td>\n",
       "      <td>0.232</td>\n",
       "      <td>...</td>\n",
       "      <td>0.197</td>\n",
       "      <td>0.278</td>\n",
       "      <td>0.766</td>\n",
       "      <td>0.403</td>\n",
       "      <td>0.142</td>\n",
       "      <td>0.171</td>\n",
       "      <td>0.34</td>\n",
       "      <td>0.245</td>\n",
       "      <td>0.349</td>\n",
       "      <td>0.315</td>\n",
       "    </tr>\n",
       "    <tr>\n",
       "      <th>Age</th>\n",
       "      <td>50.000</td>\n",
       "      <td>31.000</td>\n",
       "      <td>32.000</td>\n",
       "      <td>21.000</td>\n",
       "      <td>33.000</td>\n",
       "      <td>30.000</td>\n",
       "      <td>26.000</td>\n",
       "      <td>29.000</td>\n",
       "      <td>53.000</td>\n",
       "      <td>54.000</td>\n",
       "      <td>...</td>\n",
       "      <td>26.000</td>\n",
       "      <td>66.000</td>\n",
       "      <td>22.000</td>\n",
       "      <td>43.000</td>\n",
       "      <td>33.000</td>\n",
       "      <td>63.000</td>\n",
       "      <td>27.00</td>\n",
       "      <td>30.000</td>\n",
       "      <td>47.000</td>\n",
       "      <td>23.000</td>\n",
       "    </tr>\n",
       "    <tr>\n",
       "      <th>Outcome</th>\n",
       "      <td>1.000</td>\n",
       "      <td>0.000</td>\n",
       "      <td>1.000</td>\n",
       "      <td>0.000</td>\n",
       "      <td>1.000</td>\n",
       "      <td>0.000</td>\n",
       "      <td>1.000</td>\n",
       "      <td>0.000</td>\n",
       "      <td>1.000</td>\n",
       "      <td>1.000</td>\n",
       "      <td>...</td>\n",
       "      <td>0.000</td>\n",
       "      <td>1.000</td>\n",
       "      <td>0.000</td>\n",
       "      <td>1.000</td>\n",
       "      <td>0.000</td>\n",
       "      <td>0.000</td>\n",
       "      <td>0.00</td>\n",
       "      <td>0.000</td>\n",
       "      <td>1.000</td>\n",
       "      <td>0.000</td>\n",
       "    </tr>\n",
       "  </tbody>\n",
       "</table>\n",
       "<p>9 rows × 768 columns</p>\n",
       "</div>"
      ],
      "text/plain": [
       "                              0       1        2       3        4        5    \\\n",
       "Pregnancies                 6.000   1.000    8.000   1.000    0.000    5.000   \n",
       "Glucose                   148.000  85.000  183.000  89.000  137.000  116.000   \n",
       "BloodPressure              72.000  66.000   64.000  66.000   40.000   74.000   \n",
       "SkinThickness              35.000  29.000    0.000  23.000   35.000    0.000   \n",
       "Insulin                     0.000   0.000    0.000  94.000  168.000    0.000   \n",
       "BMI                        33.600  26.600   23.300  28.100   43.100   25.600   \n",
       "DiabetesPedigreeFunction    0.627   0.351    0.672   0.167    2.288    0.201   \n",
       "Age                        50.000  31.000   32.000  21.000   33.000   30.000   \n",
       "Outcome                     1.000   0.000    1.000   0.000    1.000    0.000   \n",
       "\n",
       "                             6        7        8        9    ...      758  \\\n",
       "Pregnancies                3.000   10.000    2.000    8.000  ...    1.000   \n",
       "Glucose                   78.000  115.000  197.000  125.000  ...  106.000   \n",
       "BloodPressure             50.000    0.000   70.000   96.000  ...   76.000   \n",
       "SkinThickness             32.000    0.000   45.000    0.000  ...    0.000   \n",
       "Insulin                   88.000    0.000  543.000    0.000  ...    0.000   \n",
       "BMI                       31.000   35.300   30.500    0.000  ...   37.500   \n",
       "DiabetesPedigreeFunction   0.248    0.134    0.158    0.232  ...    0.197   \n",
       "Age                       26.000   29.000   53.000   54.000  ...   26.000   \n",
       "Outcome                    1.000    0.000    1.000    1.000  ...    0.000   \n",
       "\n",
       "                              759     760      761     762      763     764  \\\n",
       "Pregnancies                 6.000   2.000    9.000   9.000   10.000    2.00   \n",
       "Glucose                   190.000  88.000  170.000  89.000  101.000  122.00   \n",
       "BloodPressure              92.000  58.000   74.000  62.000   76.000   70.00   \n",
       "SkinThickness               0.000  26.000   31.000   0.000   48.000   27.00   \n",
       "Insulin                     0.000  16.000    0.000   0.000  180.000    0.00   \n",
       "BMI                        35.500  28.400   44.000  22.500   32.900   36.80   \n",
       "DiabetesPedigreeFunction    0.278   0.766    0.403   0.142    0.171    0.34   \n",
       "Age                        66.000  22.000   43.000  33.000   63.000   27.00   \n",
       "Outcome                     1.000   0.000    1.000   0.000    0.000    0.00   \n",
       "\n",
       "                              765      766     767  \n",
       "Pregnancies                 5.000    1.000   1.000  \n",
       "Glucose                   121.000  126.000  93.000  \n",
       "BloodPressure              72.000   60.000  70.000  \n",
       "SkinThickness              23.000    0.000  31.000  \n",
       "Insulin                   112.000    0.000   0.000  \n",
       "BMI                        26.200   30.100  30.400  \n",
       "DiabetesPedigreeFunction    0.245    0.349   0.315  \n",
       "Age                        30.000   47.000  23.000  \n",
       "Outcome                     0.000    1.000   0.000  \n",
       "\n",
       "[9 rows x 768 columns]"
      ]
     },
     "execution_count": 10,
     "metadata": {},
     "output_type": "execute_result"
    }
   ],
   "source": [
    "df.T"
   ]
  },
  {
   "cell_type": "markdown",
   "id": "b712aa14",
   "metadata": {},
   "source": [
    "## converting 0 to null values"
   ]
  },
  {
   "cell_type": "code",
   "execution_count": 11,
   "id": "40900f23",
   "metadata": {},
   "outputs": [],
   "source": [
    "nc = ['Pregnancies','Glucose','BloodPressure','SkinThickness','Insulin','BMI','DiabetesPedigreeFunction','Age']\n",
    "df[nc] = df[nc].replace(0, np.NaN)"
   ]
  },
  {
   "cell_type": "code",
   "execution_count": 13,
   "id": "b0b6d38c",
   "metadata": {},
   "outputs": [
    {
     "data": {
      "text/plain": [
       "Pregnancies                 14.453125\n",
       "Glucose                      0.651042\n",
       "BloodPressure                4.557292\n",
       "SkinThickness               29.557292\n",
       "Insulin                     48.697917\n",
       "BMI                          1.432292\n",
       "DiabetesPedigreeFunction     0.000000\n",
       "Age                          0.000000\n",
       "Outcome                      0.000000\n",
       "dtype: float64"
      ]
     },
     "execution_count": 13,
     "metadata": {},
     "output_type": "execute_result"
    }
   ],
   "source": [
    "null_pr = df.isnull().mean()*100\n",
    "null_pr"
   ]
  },
  {
   "cell_type": "code",
   "execution_count": 23,
   "id": "1f8e78c6",
   "metadata": {},
   "outputs": [],
   "source": [
    "df.drop(\"Insulin\", axis = \"columns\", inplace = True)"
   ]
  },
  {
   "cell_type": "code",
   "execution_count": 24,
   "id": "33874c3c",
   "metadata": {},
   "outputs": [
    {
     "data": {
      "text/plain": [
       "(768, 8)"
      ]
     },
     "execution_count": 24,
     "metadata": {},
     "output_type": "execute_result"
    }
   ],
   "source": [
    "df.shape"
   ]
  },
  {
   "cell_type": "code",
   "execution_count": 25,
   "id": "eb6677fb",
   "metadata": {},
   "outputs": [],
   "source": [
    "data = df"
   ]
  },
  {
   "cell_type": "markdown",
   "id": "fba8e0b1",
   "metadata": {},
   "source": [
    "# Missing Values"
   ]
  },
  {
   "cell_type": "code",
   "execution_count": 29,
   "id": "86224b83",
   "metadata": {},
   "outputs": [],
   "source": [
    "data.Pregnancies = data.Pregnancies.fillna(data.Pregnancies.median())\n",
    "data.Glucose = data.Glucose.fillna(data.Glucose.median())\n",
    "data.BloodPressure = data.BloodPressure.fillna(data.BloodPressure.mean())\n",
    "data.SkinThickness = data.SkinThickness.fillna(data.SkinThickness.median())\n",
    "data.BMI = data.BMI.fillna(data.BMI.median())\n",
    "data.DiabetesPedigreeFunction = data.DiabetesPedigreeFunction.fillna(data.DiabetesPedigreeFunction.median())\n",
    "data.Age = data.Age.fillna(data.Age.median())"
   ]
  },
  {
   "cell_type": "code",
   "execution_count": 30,
   "id": "7fa86150",
   "metadata": {},
   "outputs": [
    {
     "data": {
      "text/plain": [
       "Pregnancies                 0\n",
       "Glucose                     0\n",
       "BloodPressure               0\n",
       "SkinThickness               0\n",
       "BMI                         0\n",
       "DiabetesPedigreeFunction    0\n",
       "Age                         0\n",
       "Outcome                     0\n",
       "dtype: int64"
      ]
     },
     "execution_count": 30,
     "metadata": {},
     "output_type": "execute_result"
    }
   ],
   "source": [
    "data.isnull().sum()"
   ]
  },
  {
   "cell_type": "markdown",
   "id": "78067c70",
   "metadata": {},
   "source": [
    "# Outliers"
   ]
  },
  {
   "cell_type": "code",
   "execution_count": 34,
   "id": "06ca0abf",
   "metadata": {},
   "outputs": [],
   "source": [
    "data_outlier_rem = data.copy()"
   ]
  },
  {
   "cell_type": "code",
   "execution_count": 36,
   "id": "3806b25a",
   "metadata": {},
   "outputs": [],
   "source": [
    "data_outlier_rem = data_outlier_rem[data_outlier_rem['Pregnancies'].values < 8]\n",
    "\n",
    "data_outlier_rem = data_outlier_rem[data_outlier_rem['Glucose'].values < 169]\n",
    "data_outlier_rem = data_outlier_rem[data_outlier_rem['Glucose'].values > 50]\n",
    "\n",
    "data_outlier_rem = data_outlier_rem[data_outlier_rem['BloodPressure'].values > 40]\n",
    "data_outlier_rem = data_outlier_rem[data_outlier_rem['BloodPressure'].values < 100]\n",
    "\n",
    "data_outlier_rem = data_outlier_rem[data_outlier_rem['SkinThickness'].values < 44]\n",
    "\n",
    "data_outlier_rem = data_outlier_rem[data_outlier_rem['BMI'].values < 49]\n",
    "\n",
    "data_outlier_rem = data_outlier_rem[data_outlier_rem['DiabetesPedigreeFunction'].values < 1]\n",
    "\n",
    "data_outlier_rem = data_outlier_rem[data_outlier_rem['Age'].values < 37.5]"
   ]
  },
  {
   "cell_type": "code",
   "execution_count": 37,
   "id": "298235bf",
   "metadata": {},
   "outputs": [
    {
     "data": {
      "text/html": [
       "<div>\n",
       "<style scoped>\n",
       "    .dataframe tbody tr th:only-of-type {\n",
       "        vertical-align: middle;\n",
       "    }\n",
       "\n",
       "    .dataframe tbody tr th {\n",
       "        vertical-align: top;\n",
       "    }\n",
       "\n",
       "    .dataframe thead th {\n",
       "        text-align: right;\n",
       "    }\n",
       "</style>\n",
       "<table border=\"1\" class=\"dataframe\">\n",
       "  <thead>\n",
       "    <tr style=\"text-align: right;\">\n",
       "      <th></th>\n",
       "      <th>Pregnancies</th>\n",
       "      <th>Glucose</th>\n",
       "      <th>BloodPressure</th>\n",
       "      <th>SkinThickness</th>\n",
       "      <th>BMI</th>\n",
       "      <th>DiabetesPedigreeFunction</th>\n",
       "      <th>Age</th>\n",
       "      <th>Outcome</th>\n",
       "    </tr>\n",
       "  </thead>\n",
       "  <tbody>\n",
       "    <tr>\n",
       "      <th>1</th>\n",
       "      <td>1.0</td>\n",
       "      <td>85.0</td>\n",
       "      <td>66.0</td>\n",
       "      <td>29.0</td>\n",
       "      <td>26.6</td>\n",
       "      <td>0.351</td>\n",
       "      <td>31</td>\n",
       "      <td>0</td>\n",
       "    </tr>\n",
       "    <tr>\n",
       "      <th>3</th>\n",
       "      <td>1.0</td>\n",
       "      <td>89.0</td>\n",
       "      <td>66.0</td>\n",
       "      <td>23.0</td>\n",
       "      <td>28.1</td>\n",
       "      <td>0.167</td>\n",
       "      <td>21</td>\n",
       "      <td>0</td>\n",
       "    </tr>\n",
       "    <tr>\n",
       "      <th>5</th>\n",
       "      <td>5.0</td>\n",
       "      <td>116.0</td>\n",
       "      <td>74.0</td>\n",
       "      <td>29.0</td>\n",
       "      <td>25.6</td>\n",
       "      <td>0.201</td>\n",
       "      <td>30</td>\n",
       "      <td>0</td>\n",
       "    </tr>\n",
       "    <tr>\n",
       "      <th>6</th>\n",
       "      <td>3.0</td>\n",
       "      <td>78.0</td>\n",
       "      <td>50.0</td>\n",
       "      <td>32.0</td>\n",
       "      <td>31.0</td>\n",
       "      <td>0.248</td>\n",
       "      <td>26</td>\n",
       "      <td>1</td>\n",
       "    </tr>\n",
       "    <tr>\n",
       "      <th>10</th>\n",
       "      <td>4.0</td>\n",
       "      <td>110.0</td>\n",
       "      <td>92.0</td>\n",
       "      <td>29.0</td>\n",
       "      <td>37.6</td>\n",
       "      <td>0.191</td>\n",
       "      <td>30</td>\n",
       "      <td>0</td>\n",
       "    </tr>\n",
       "    <tr>\n",
       "      <th>...</th>\n",
       "      <td>...</td>\n",
       "      <td>...</td>\n",
       "      <td>...</td>\n",
       "      <td>...</td>\n",
       "      <td>...</td>\n",
       "      <td>...</td>\n",
       "      <td>...</td>\n",
       "      <td>...</td>\n",
       "    </tr>\n",
       "    <tr>\n",
       "      <th>758</th>\n",
       "      <td>1.0</td>\n",
       "      <td>106.0</td>\n",
       "      <td>76.0</td>\n",
       "      <td>29.0</td>\n",
       "      <td>37.5</td>\n",
       "      <td>0.197</td>\n",
       "      <td>26</td>\n",
       "      <td>0</td>\n",
       "    </tr>\n",
       "    <tr>\n",
       "      <th>760</th>\n",
       "      <td>2.0</td>\n",
       "      <td>88.0</td>\n",
       "      <td>58.0</td>\n",
       "      <td>26.0</td>\n",
       "      <td>28.4</td>\n",
       "      <td>0.766</td>\n",
       "      <td>22</td>\n",
       "      <td>0</td>\n",
       "    </tr>\n",
       "    <tr>\n",
       "      <th>764</th>\n",
       "      <td>2.0</td>\n",
       "      <td>122.0</td>\n",
       "      <td>70.0</td>\n",
       "      <td>27.0</td>\n",
       "      <td>36.8</td>\n",
       "      <td>0.340</td>\n",
       "      <td>27</td>\n",
       "      <td>0</td>\n",
       "    </tr>\n",
       "    <tr>\n",
       "      <th>765</th>\n",
       "      <td>5.0</td>\n",
       "      <td>121.0</td>\n",
       "      <td>72.0</td>\n",
       "      <td>23.0</td>\n",
       "      <td>26.2</td>\n",
       "      <td>0.245</td>\n",
       "      <td>30</td>\n",
       "      <td>0</td>\n",
       "    </tr>\n",
       "    <tr>\n",
       "      <th>767</th>\n",
       "      <td>1.0</td>\n",
       "      <td>93.0</td>\n",
       "      <td>70.0</td>\n",
       "      <td>31.0</td>\n",
       "      <td>30.4</td>\n",
       "      <td>0.315</td>\n",
       "      <td>23</td>\n",
       "      <td>0</td>\n",
       "    </tr>\n",
       "  </tbody>\n",
       "</table>\n",
       "<p>411 rows × 8 columns</p>\n",
       "</div>"
      ],
      "text/plain": [
       "     Pregnancies  Glucose  BloodPressure  SkinThickness   BMI  \\\n",
       "1            1.0     85.0           66.0           29.0  26.6   \n",
       "3            1.0     89.0           66.0           23.0  28.1   \n",
       "5            5.0    116.0           74.0           29.0  25.6   \n",
       "6            3.0     78.0           50.0           32.0  31.0   \n",
       "10           4.0    110.0           92.0           29.0  37.6   \n",
       "..           ...      ...            ...            ...   ...   \n",
       "758          1.0    106.0           76.0           29.0  37.5   \n",
       "760          2.0     88.0           58.0           26.0  28.4   \n",
       "764          2.0    122.0           70.0           27.0  36.8   \n",
       "765          5.0    121.0           72.0           23.0  26.2   \n",
       "767          1.0     93.0           70.0           31.0  30.4   \n",
       "\n",
       "     DiabetesPedigreeFunction  Age  Outcome  \n",
       "1                       0.351   31        0  \n",
       "3                       0.167   21        0  \n",
       "5                       0.201   30        0  \n",
       "6                       0.248   26        1  \n",
       "10                      0.191   30        0  \n",
       "..                        ...  ...      ...  \n",
       "758                     0.197   26        0  \n",
       "760                     0.766   22        0  \n",
       "764                     0.340   27        0  \n",
       "765                     0.245   30        0  \n",
       "767                     0.315   23        0  \n",
       "\n",
       "[411 rows x 8 columns]"
      ]
     },
     "execution_count": 37,
     "metadata": {},
     "output_type": "execute_result"
    }
   ],
   "source": [
    "data_outlier_rem"
   ]
  },
  {
   "cell_type": "markdown",
   "id": "f176f569",
   "metadata": {},
   "source": [
    "# Features & Target"
   ]
  },
  {
   "cell_type": "code",
   "execution_count": 43,
   "id": "f9f7f593",
   "metadata": {},
   "outputs": [],
   "source": [
    "x = data_outlier_rem[data_outlier_rem.columns.drop(\"Outcome\")]\n",
    "y = data_outlier_rem['Outcome']"
   ]
  },
  {
   "cell_type": "markdown",
   "id": "893e43a2",
   "metadata": {},
   "source": [
    "# Scaling"
   ]
  },
  {
   "cell_type": "code",
   "execution_count": 46,
   "id": "cdd7424d",
   "metadata": {},
   "outputs": [],
   "source": [
    "from sklearn.preprocessing import MinMaxScaler"
   ]
  },
  {
   "cell_type": "code",
   "execution_count": 48,
   "id": "3c78e5af",
   "metadata": {},
   "outputs": [],
   "source": [
    "scaler = MinMaxScaler()\n",
    "x = scaler.fit_transform(x)"
   ]
  },
  {
   "cell_type": "markdown",
   "id": "d715fbea",
   "metadata": {},
   "source": [
    "# Train-Test Split"
   ]
  },
  {
   "cell_type": "code",
   "execution_count": 49,
   "id": "88194cf5",
   "metadata": {},
   "outputs": [],
   "source": [
    "from sklearn.model_selection import train_test_split"
   ]
  },
  {
   "cell_type": "code",
   "execution_count": 50,
   "id": "ed2c7fb0",
   "metadata": {},
   "outputs": [],
   "source": [
    "x_train, x_test, y_train, y_test = train_test_split(x, y, test_size = 0.2, random_state = 42)"
   ]
  },
  {
   "cell_type": "markdown",
   "id": "0d4d12bd",
   "metadata": {},
   "source": [
    "# Balancing Data"
   ]
  },
  {
   "cell_type": "code",
   "execution_count": 51,
   "id": "270fbd5b",
   "metadata": {},
   "outputs": [],
   "source": [
    "from imblearn.over_sampling import RandomOverSampler"
   ]
  },
  {
   "cell_type": "code",
   "execution_count": 52,
   "id": "a7d7efe1",
   "metadata": {},
   "outputs": [],
   "source": [
    "ros = RandomOverSampler(random_state = 0)\n",
    "x_new, y_new = ros.fit_resample(x_train, y_train)\n",
    "x = x_new; y = y_new"
   ]
  },
  {
   "cell_type": "markdown",
   "id": "7b7a9f3e",
   "metadata": {},
   "source": [
    "# Modeling"
   ]
  },
  {
   "cell_type": "markdown",
   "id": "51d079c0",
   "metadata": {},
   "source": [
    "## 1. Random Forest"
   ]
  },
  {
   "cell_type": "code",
   "execution_count": 55,
   "id": "17aae849",
   "metadata": {},
   "outputs": [],
   "source": [
    "from sklearn.ensemble import RandomForestClassifier"
   ]
  },
  {
   "cell_type": "code",
   "execution_count": 72,
   "id": "f67fb93c",
   "metadata": {},
   "outputs": [
    {
     "data": {
      "text/plain": [
       "RandomForestClassifier(max_depth=2)"
      ]
     },
     "execution_count": 72,
     "metadata": {},
     "output_type": "execute_result"
    }
   ],
   "source": [
    "for_clf = RandomForestClassifier(max_depth = 2)\n",
    "for_clf.fit(x_train, y_train)"
   ]
  },
  {
   "cell_type": "markdown",
   "id": "bbd295f9",
   "metadata": {},
   "source": [
    "# Validation"
   ]
  },
  {
   "cell_type": "markdown",
   "id": "588bda43",
   "metadata": {},
   "source": [
    "## 1. Cross Val"
   ]
  },
  {
   "cell_type": "code",
   "execution_count": 59,
   "id": "8b180f71",
   "metadata": {},
   "outputs": [],
   "source": [
    "from sklearn.model_selection import cross_val_score"
   ]
  },
  {
   "cell_type": "code",
   "execution_count": 73,
   "id": "4b45853f",
   "metadata": {},
   "outputs": [
    {
     "data": {
      "text/plain": [
       "0.8171561771561772"
      ]
     },
     "execution_count": 73,
     "metadata": {},
     "output_type": "execute_result"
    }
   ],
   "source": [
    "sum(cross_val_score(for_clf, x_train, y_train, cv = 5, scoring = \"accuracy\"))/5"
   ]
  },
  {
   "cell_type": "code",
   "execution_count": 74,
   "id": "43dc5b91",
   "metadata": {},
   "outputs": [
    {
     "data": {
      "text/plain": [
       "0.7838235294117647"
      ]
     },
     "execution_count": 74,
     "metadata": {},
     "output_type": "execute_result"
    }
   ],
   "source": [
    "sum(cross_val_score(for_clf, x_test, y_test, cv = 5, scoring = \"accuracy\"))/5"
   ]
  },
  {
   "cell_type": "markdown",
   "id": "19a1b8e4",
   "metadata": {},
   "source": [
    "## 2. SVM"
   ]
  },
  {
   "cell_type": "code",
   "execution_count": 75,
   "id": "a6cd9b7c",
   "metadata": {},
   "outputs": [],
   "source": [
    "from sklearn.svm import LinearSVC\n",
    "from sklearn.pipeline import Pipeline\n",
    "from sklearn.preprocessing import PolynomialFeatures"
   ]
  },
  {
   "cell_type": "code",
   "execution_count": 86,
   "id": "a28c685d",
   "metadata": {},
   "outputs": [
    {
     "data": {
      "text/plain": [
       "Pipeline(steps=[('scaler', MinMaxScaler()), ('svm_clf', LinearSVC())])"
      ]
     },
     "execution_count": 86,
     "metadata": {},
     "output_type": "execute_result"
    }
   ],
   "source": [
    "poly_svm_clf = Pipeline([\n",
    "    (\"scaler\", MinMaxScaler()),\n",
    "    (\"svm_clf\", LinearSVC())\n",
    "])\n",
    "\n",
    "poly_svm_clf.fit(x_train, y_train)"
   ]
  },
  {
   "cell_type": "code",
   "execution_count": 87,
   "id": "9e967460",
   "metadata": {},
   "outputs": [
    {
     "data": {
      "text/plain": [
       "0.8353846153846153"
      ]
     },
     "execution_count": 87,
     "metadata": {},
     "output_type": "execute_result"
    }
   ],
   "source": [
    "sum(cross_val_score(poly_svm_clf, x_train, y_train, cv = 5, scoring = \"accuracy\"))/5"
   ]
  },
  {
   "cell_type": "code",
   "execution_count": 88,
   "id": "9815e250",
   "metadata": {},
   "outputs": [
    {
     "data": {
      "text/plain": [
       "0.7595588235294117"
      ]
     },
     "execution_count": 88,
     "metadata": {},
     "output_type": "execute_result"
    }
   ],
   "source": [
    "sum(cross_val_score(poly_svm_clf, x_test, y_test, cv = 5, scoring = \"accuracy\"))/5"
   ]
  },
  {
   "cell_type": "markdown",
   "id": "5564e4e7",
   "metadata": {},
   "source": [
    "## 3. LogisticRegression"
   ]
  },
  {
   "cell_type": "code",
   "execution_count": 89,
   "id": "8f759eda",
   "metadata": {},
   "outputs": [],
   "source": [
    "from sklearn.linear_model import LogisticRegression"
   ]
  },
  {
   "cell_type": "code",
   "execution_count": 90,
   "id": "652cbcf3",
   "metadata": {},
   "outputs": [
    {
     "data": {
      "text/plain": [
       "LogisticRegression()"
      ]
     },
     "execution_count": 90,
     "metadata": {},
     "output_type": "execute_result"
    }
   ],
   "source": [
    "log_clf = LogisticRegression()\n",
    "log_clf.fit(x_train, y_train)"
   ]
  },
  {
   "cell_type": "code",
   "execution_count": 91,
   "id": "d60de86e",
   "metadata": {},
   "outputs": [
    {
     "data": {
      "text/plain": [
       "0.8353379953379954"
      ]
     },
     "execution_count": 91,
     "metadata": {},
     "output_type": "execute_result"
    }
   ],
   "source": [
    "sum(cross_val_score(log_clf, x_train, y_train, cv = 5, scoring = \"accuracy\"))/5"
   ]
  },
  {
   "cell_type": "code",
   "execution_count": 92,
   "id": "24709d97",
   "metadata": {},
   "outputs": [
    {
     "data": {
      "text/plain": [
       "0.7955882352941177"
      ]
     },
     "execution_count": 92,
     "metadata": {},
     "output_type": "execute_result"
    }
   ],
   "source": [
    "sum(cross_val_score(log_clf, x_test, y_test, cv = 5, scoring = \"accuracy\"))/5"
   ]
  },
  {
   "cell_type": "markdown",
   "id": "5c6ccf25",
   "metadata": {},
   "source": [
    "## 4. Ensemble "
   ]
  },
  {
   "cell_type": "code",
   "execution_count": 93,
   "id": "dd3480bf",
   "metadata": {},
   "outputs": [],
   "source": [
    "from sklearn.ensemble import VotingClassifier"
   ]
  },
  {
   "cell_type": "code",
   "execution_count": 97,
   "id": "f9cd41db",
   "metadata": {},
   "outputs": [
    {
     "data": {
      "text/plain": [
       "VotingClassifier(estimators=[('lr', LogisticRegression()),\n",
       "                             ('rf', RandomForestClassifier(max_depth=2)),\n",
       "                             ('svc',\n",
       "                              Pipeline(steps=[('scaler', MinMaxScaler()),\n",
       "                                              ('svm_clf', LinearSVC())]))],\n",
       "                 voting='soft')"
      ]
     },
     "execution_count": 97,
     "metadata": {},
     "output_type": "execute_result"
    }
   ],
   "source": [
    "voting_clf = VotingClassifier(\n",
    "    estimators = [('lr', log_clf), ('rf', for_clf), ('svc',poly_svm_clf)],\n",
    "    voting = \"soft\"\n",
    ")\n",
    "\n",
    "voting_clf.fit(x_train, y_train)"
   ]
  },
  {
   "cell_type": "code",
   "execution_count": 98,
   "id": "47468684",
   "metadata": {},
   "outputs": [
    {
     "data": {
      "text/plain": [
       "0.8353379953379954"
      ]
     },
     "execution_count": 98,
     "metadata": {},
     "output_type": "execute_result"
    }
   ],
   "source": [
    "sum(cross_val_score(log_clf, x_train, y_train, cv = 5, scoring = \"accuracy\"))/5"
   ]
  },
  {
   "cell_type": "code",
   "execution_count": 99,
   "id": "fee27120",
   "metadata": {},
   "outputs": [
    {
     "data": {
      "text/plain": [
       "0.7955882352941177"
      ]
     },
     "execution_count": 99,
     "metadata": {},
     "output_type": "execute_result"
    }
   ],
   "source": [
    "sum(cross_val_score(log_clf, x_test, y_test, cv = 5, scoring = \"accuracy\"))/5"
   ]
  },
  {
   "cell_type": "code",
   "execution_count": 111,
   "id": "b5ecd487",
   "metadata": {},
   "outputs": [],
   "source": [
    "! jt -f anonymous"
   ]
  },
  {
   "cell_type": "code",
   "execution_count": null,
   "id": "40fed2f3",
   "metadata": {},
   "outputs": [],
   "source": []
  }
 ],
 "metadata": {
  "kernelspec": {
   "display_name": "Python 3 (ipykernel)",
   "language": "python",
   "name": "python3"
  },
  "language_info": {
   "codemirror_mode": {
    "name": "ipython",
    "version": 3
   },
   "file_extension": ".py",
   "mimetype": "text/x-python",
   "name": "python",
   "nbconvert_exporter": "python",
   "pygments_lexer": "ipython3",
   "version": "3.7.3"
  }
 },
 "nbformat": 4,
 "nbformat_minor": 5
}
