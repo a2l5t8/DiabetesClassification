{
 "cells": [
  {
   "cell_type": "markdown",
   "id": "a19d9f23",
   "metadata": {},
   "source": [
    "# Setup"
   ]
  },
  {
   "cell_type": "markdown",
   "id": "f82bd0cb",
   "metadata": {},
   "source": [
    "### Basic"
   ]
  },
  {
   "cell_type": "code",
   "execution_count": 1,
   "id": "ea63aaf6",
   "metadata": {},
   "outputs": [],
   "source": [
    "import pandas as pd\n",
    "import numpy as np"
   ]
  },
  {
   "cell_type": "markdown",
   "id": "5602fe87",
   "metadata": {},
   "source": [
    "### Plots"
   ]
  },
  {
   "cell_type": "code",
   "execution_count": 2,
   "id": "bc30d845",
   "metadata": {},
   "outputs": [],
   "source": [
    "import seaborn as sns\n",
    "import matplotlib.pyplot as plt\n",
    "import plotly.offline as py\n",
    "import plotly.graph_objs as go"
   ]
  },
  {
   "cell_type": "markdown",
   "id": "de160226",
   "metadata": {},
   "source": [
    "### data preprocessing"
   ]
  },
  {
   "cell_type": "code",
   "execution_count": 70,
   "id": "5fdd8df7",
   "metadata": {},
   "outputs": [],
   "source": [
    "from sklearn.model_selection import train_test_split, cross_val_score, cross_validate, cross_val_predict\n",
    "from sklearn.preprocessing import RobustScaler, StandardScaler, MinMaxScaler\n",
    "from sklearn.metrics import f1_score, precision_score, recall_score, confusion_matrix, roc_curve, precision_recall_curve, accuracy_score, roc_auc_score\n",
    "from imblearn.over_sampling import SMOTE"
   ]
  },
  {
   "cell_type": "markdown",
   "id": "97e23da9",
   "metadata": {},
   "source": [
    "### Machine Learning"
   ]
  },
  {
   "cell_type": "code",
   "execution_count": 4,
   "id": "9b0f278d",
   "metadata": {},
   "outputs": [],
   "source": [
    "from sklearn.model_selection import GridSearchCV\n",
    "from sklearn.linear_model import LogisticRegression\n",
    "from sklearn.ensemble import RandomForestClassifier, GradientBoostingClassifier\n",
    "from sklearn.tree import DecisionTreeClassifier\n",
    "from sklearn.ensemble import AdaBoostClassifier\n",
    "from sklearn.svm import SVC\n",
    "from sklearn.ensemble import VotingClassifier\n",
    "from sklearn.neighbors import KNeighborsClassifier\n",
    "from sklearn.naive_bayes import GaussianNB\n",
    "from sklearn.neural_network import MLPClassifier\n",
    "from sklearn.ensemble import BaggingClassifier\n",
    "from sklearn.ensemble import ExtraTreesClassifier\n",
    "from xgboost import XGBClassifier"
   ]
  },
  {
   "cell_type": "markdown",
   "id": "daf66f4e",
   "metadata": {},
   "source": [
    "### additional Packages"
   ]
  },
  {
   "cell_type": "code",
   "execution_count": 5,
   "id": "561bce3c",
   "metadata": {},
   "outputs": [],
   "source": [
    "from pandas_profiling import ProfileReport"
   ]
  },
  {
   "cell_type": "markdown",
   "id": "6c45a09b",
   "metadata": {},
   "source": [
    "# Data + EDA"
   ]
  },
  {
   "cell_type": "code",
   "execution_count": 6,
   "id": "2161de56",
   "metadata": {},
   "outputs": [
    {
     "data": {
      "text/html": [
       "<div>\n",
       "<style scoped>\n",
       "    .dataframe tbody tr th:only-of-type {\n",
       "        vertical-align: middle;\n",
       "    }\n",
       "\n",
       "    .dataframe tbody tr th {\n",
       "        vertical-align: top;\n",
       "    }\n",
       "\n",
       "    .dataframe thead th {\n",
       "        text-align: right;\n",
       "    }\n",
       "</style>\n",
       "<table border=\"1\" class=\"dataframe\">\n",
       "  <thead>\n",
       "    <tr style=\"text-align: right;\">\n",
       "      <th></th>\n",
       "      <th>Pregnancies</th>\n",
       "      <th>Glucose</th>\n",
       "      <th>BloodPressure</th>\n",
       "      <th>SkinThickness</th>\n",
       "      <th>Insulin</th>\n",
       "      <th>BMI</th>\n",
       "      <th>DiabetesPedigreeFunction</th>\n",
       "      <th>Age</th>\n",
       "      <th>Outcome</th>\n",
       "    </tr>\n",
       "  </thead>\n",
       "  <tbody>\n",
       "    <tr>\n",
       "      <th>0</th>\n",
       "      <td>6</td>\n",
       "      <td>148</td>\n",
       "      <td>72</td>\n",
       "      <td>35</td>\n",
       "      <td>0</td>\n",
       "      <td>33.6</td>\n",
       "      <td>0.627</td>\n",
       "      <td>50</td>\n",
       "      <td>1</td>\n",
       "    </tr>\n",
       "    <tr>\n",
       "      <th>1</th>\n",
       "      <td>1</td>\n",
       "      <td>85</td>\n",
       "      <td>66</td>\n",
       "      <td>29</td>\n",
       "      <td>0</td>\n",
       "      <td>26.6</td>\n",
       "      <td>0.351</td>\n",
       "      <td>31</td>\n",
       "      <td>0</td>\n",
       "    </tr>\n",
       "    <tr>\n",
       "      <th>2</th>\n",
       "      <td>8</td>\n",
       "      <td>183</td>\n",
       "      <td>64</td>\n",
       "      <td>0</td>\n",
       "      <td>0</td>\n",
       "      <td>23.3</td>\n",
       "      <td>0.672</td>\n",
       "      <td>32</td>\n",
       "      <td>1</td>\n",
       "    </tr>\n",
       "    <tr>\n",
       "      <th>3</th>\n",
       "      <td>1</td>\n",
       "      <td>89</td>\n",
       "      <td>66</td>\n",
       "      <td>23</td>\n",
       "      <td>94</td>\n",
       "      <td>28.1</td>\n",
       "      <td>0.167</td>\n",
       "      <td>21</td>\n",
       "      <td>0</td>\n",
       "    </tr>\n",
       "    <tr>\n",
       "      <th>4</th>\n",
       "      <td>0</td>\n",
       "      <td>137</td>\n",
       "      <td>40</td>\n",
       "      <td>35</td>\n",
       "      <td>168</td>\n",
       "      <td>43.1</td>\n",
       "      <td>2.288</td>\n",
       "      <td>33</td>\n",
       "      <td>1</td>\n",
       "    </tr>\n",
       "  </tbody>\n",
       "</table>\n",
       "</div>"
      ],
      "text/plain": [
       "   Pregnancies  Glucose  BloodPressure  SkinThickness  Insulin   BMI  \\\n",
       "0            6      148             72             35        0  33.6   \n",
       "1            1       85             66             29        0  26.6   \n",
       "2            8      183             64              0        0  23.3   \n",
       "3            1       89             66             23       94  28.1   \n",
       "4            0      137             40             35      168  43.1   \n",
       "\n",
       "   DiabetesPedigreeFunction  Age  Outcome  \n",
       "0                     0.627   50        1  \n",
       "1                     0.351   31        0  \n",
       "2                     0.672   32        1  \n",
       "3                     0.167   21        0  \n",
       "4                     2.288   33        1  "
      ]
     },
     "execution_count": 6,
     "metadata": {},
     "output_type": "execute_result"
    }
   ],
   "source": [
    "df = pd.read_csv(\"../diabetes.csv\")\n",
    "df.head()"
   ]
  },
  {
   "cell_type": "code",
   "execution_count": 7,
   "id": "74de097b",
   "metadata": {},
   "outputs": [
    {
     "data": {
      "text/html": [
       "<div>\n",
       "<style scoped>\n",
       "    .dataframe tbody tr th:only-of-type {\n",
       "        vertical-align: middle;\n",
       "    }\n",
       "\n",
       "    .dataframe tbody tr th {\n",
       "        vertical-align: top;\n",
       "    }\n",
       "\n",
       "    .dataframe thead th {\n",
       "        text-align: right;\n",
       "    }\n",
       "</style>\n",
       "<table border=\"1\" class=\"dataframe\">\n",
       "  <thead>\n",
       "    <tr style=\"text-align: right;\">\n",
       "      <th></th>\n",
       "      <th>count</th>\n",
       "      <th>mean</th>\n",
       "      <th>std</th>\n",
       "      <th>min</th>\n",
       "      <th>25%</th>\n",
       "      <th>50%</th>\n",
       "      <th>75%</th>\n",
       "      <th>max</th>\n",
       "    </tr>\n",
       "  </thead>\n",
       "  <tbody>\n",
       "    <tr>\n",
       "      <th>Pregnancies</th>\n",
       "      <td>768.0</td>\n",
       "      <td>3.845052</td>\n",
       "      <td>3.369578</td>\n",
       "      <td>0.000</td>\n",
       "      <td>1.00000</td>\n",
       "      <td>3.0000</td>\n",
       "      <td>6.00000</td>\n",
       "      <td>17.00</td>\n",
       "    </tr>\n",
       "    <tr>\n",
       "      <th>Glucose</th>\n",
       "      <td>768.0</td>\n",
       "      <td>120.894531</td>\n",
       "      <td>31.972618</td>\n",
       "      <td>0.000</td>\n",
       "      <td>99.00000</td>\n",
       "      <td>117.0000</td>\n",
       "      <td>140.25000</td>\n",
       "      <td>199.00</td>\n",
       "    </tr>\n",
       "    <tr>\n",
       "      <th>BloodPressure</th>\n",
       "      <td>768.0</td>\n",
       "      <td>69.105469</td>\n",
       "      <td>19.355807</td>\n",
       "      <td>0.000</td>\n",
       "      <td>62.00000</td>\n",
       "      <td>72.0000</td>\n",
       "      <td>80.00000</td>\n",
       "      <td>122.00</td>\n",
       "    </tr>\n",
       "    <tr>\n",
       "      <th>SkinThickness</th>\n",
       "      <td>768.0</td>\n",
       "      <td>20.536458</td>\n",
       "      <td>15.952218</td>\n",
       "      <td>0.000</td>\n",
       "      <td>0.00000</td>\n",
       "      <td>23.0000</td>\n",
       "      <td>32.00000</td>\n",
       "      <td>99.00</td>\n",
       "    </tr>\n",
       "    <tr>\n",
       "      <th>Insulin</th>\n",
       "      <td>768.0</td>\n",
       "      <td>79.799479</td>\n",
       "      <td>115.244002</td>\n",
       "      <td>0.000</td>\n",
       "      <td>0.00000</td>\n",
       "      <td>30.5000</td>\n",
       "      <td>127.25000</td>\n",
       "      <td>846.00</td>\n",
       "    </tr>\n",
       "    <tr>\n",
       "      <th>BMI</th>\n",
       "      <td>768.0</td>\n",
       "      <td>31.992578</td>\n",
       "      <td>7.884160</td>\n",
       "      <td>0.000</td>\n",
       "      <td>27.30000</td>\n",
       "      <td>32.0000</td>\n",
       "      <td>36.60000</td>\n",
       "      <td>67.10</td>\n",
       "    </tr>\n",
       "    <tr>\n",
       "      <th>DiabetesPedigreeFunction</th>\n",
       "      <td>768.0</td>\n",
       "      <td>0.471876</td>\n",
       "      <td>0.331329</td>\n",
       "      <td>0.078</td>\n",
       "      <td>0.24375</td>\n",
       "      <td>0.3725</td>\n",
       "      <td>0.62625</td>\n",
       "      <td>2.42</td>\n",
       "    </tr>\n",
       "    <tr>\n",
       "      <th>Age</th>\n",
       "      <td>768.0</td>\n",
       "      <td>33.240885</td>\n",
       "      <td>11.760232</td>\n",
       "      <td>21.000</td>\n",
       "      <td>24.00000</td>\n",
       "      <td>29.0000</td>\n",
       "      <td>41.00000</td>\n",
       "      <td>81.00</td>\n",
       "    </tr>\n",
       "    <tr>\n",
       "      <th>Outcome</th>\n",
       "      <td>768.0</td>\n",
       "      <td>0.348958</td>\n",
       "      <td>0.476951</td>\n",
       "      <td>0.000</td>\n",
       "      <td>0.00000</td>\n",
       "      <td>0.0000</td>\n",
       "      <td>1.00000</td>\n",
       "      <td>1.00</td>\n",
       "    </tr>\n",
       "  </tbody>\n",
       "</table>\n",
       "</div>"
      ],
      "text/plain": [
       "                          count        mean         std     min       25%  \\\n",
       "Pregnancies               768.0    3.845052    3.369578   0.000   1.00000   \n",
       "Glucose                   768.0  120.894531   31.972618   0.000  99.00000   \n",
       "BloodPressure             768.0   69.105469   19.355807   0.000  62.00000   \n",
       "SkinThickness             768.0   20.536458   15.952218   0.000   0.00000   \n",
       "Insulin                   768.0   79.799479  115.244002   0.000   0.00000   \n",
       "BMI                       768.0   31.992578    7.884160   0.000  27.30000   \n",
       "DiabetesPedigreeFunction  768.0    0.471876    0.331329   0.078   0.24375   \n",
       "Age                       768.0   33.240885   11.760232  21.000  24.00000   \n",
       "Outcome                   768.0    0.348958    0.476951   0.000   0.00000   \n",
       "\n",
       "                               50%        75%     max  \n",
       "Pregnancies                 3.0000    6.00000   17.00  \n",
       "Glucose                   117.0000  140.25000  199.00  \n",
       "BloodPressure              72.0000   80.00000  122.00  \n",
       "SkinThickness              23.0000   32.00000   99.00  \n",
       "Insulin                    30.5000  127.25000  846.00  \n",
       "BMI                        32.0000   36.60000   67.10  \n",
       "DiabetesPedigreeFunction    0.3725    0.62625    2.42  \n",
       "Age                        29.0000   41.00000   81.00  \n",
       "Outcome                     0.0000    1.00000    1.00  "
      ]
     },
     "execution_count": 7,
     "metadata": {},
     "output_type": "execute_result"
    }
   ],
   "source": [
    "df.describe().T"
   ]
  },
  {
   "cell_type": "code",
   "execution_count": 8,
   "id": "027ac44a",
   "metadata": {},
   "outputs": [],
   "source": [
    "def EDA(df) : \n",
    "    plt.figure(figsize = (15, 15))\n",
    "    \n",
    "    cnt = 1\n",
    "    for col in df.columns : \n",
    "        plt.subplot(3, 3, cnt); cnt += 1;\n",
    "        sns.histplot(data = df, x = col, hue = \"Outcome\")\n",
    "    plt.show()   "
   ]
  },
  {
   "cell_type": "code",
   "execution_count": 9,
   "id": "0c15c54d",
   "metadata": {},
   "outputs": [
    {
     "data": {
      "image/png": "[encoded data removed]",
      "text/plain": [
       "<Figure size 1500x1500 with 9 Axes>"
      ]
     },
     "metadata": {},
     "output_type": "display_data"
    }
   ],
   "source": [
    "EDA(df)"
   ]
  },
  {
   "cell_type": "markdown",
   "id": "c4d35d9c",
   "metadata": {},
   "source": [
    "## Pandas Profiling"
   ]
  },
  {
   "cell_type": "code",
   "execution_count": 10,
   "id": "ebb67273",
   "metadata": {
    "scrolled": false
   },
   "outputs": [
    {
     "data": {
      "application/vnd.jupyter.widget-view+json": {
       "model_id": "96455159fe1d4727bd700c0864cc7607",
       "version_major": 2,
       "version_minor": 0
      },
      "text/plain": [
       "Tab(children=(HTML(value='<div id=\"overview-content\" class=\"row variable spacing\">\\n    <div class=\"row\">\\n   …"
      ]
     },
     "metadata": {},
     "output_type": "display_data"
    },
    {
     "data": {
      "text/html": [
       "Report generated with <a href=\"https://github.com/pandas-profiling/pandas-profiling\">pandas-profiling</a>."
      ],
      "text/plain": [
       "<IPython.core.display.HTML object>"
      ]
     },
     "metadata": {},
     "output_type": "display_data"
    }
   ],
   "source": [
    "profile =  ProfileReport(df, title = \"Diabetes Report\")\n",
    "profile.to_widgets()"
   ]
  },
  {
   "cell_type": "markdown",
   "id": "4683f728",
   "metadata": {},
   "source": [
    "# Data Preprocessing"
   ]
  },
  {
   "cell_type": "code",
   "execution_count": 11,
   "id": "b06f1ebb",
   "metadata": {},
   "outputs": [
    {
     "data": {
      "text/plain": [
       "(   Pregnancies  Glucose  BloodPressure  SkinThickness  Insulin   BMI  \\\n",
       " 0            6      148             72             35        0  33.6   \n",
       " 1            1       85             66             29        0  26.6   \n",
       " 2            8      183             64              0        0  23.3   \n",
       " 3            1       89             66             23       94  28.1   \n",
       " 4            0      137             40             35      168  43.1   \n",
       " \n",
       "    DiabetesPedigreeFunction  Age  Outcome  \n",
       " 0                     0.627   50        1  \n",
       " 1                     0.351   31        0  \n",
       " 2                     0.672   32        1  \n",
       " 3                     0.167   21        0  \n",
       " 4                     2.288   33        1  ,\n",
       " Index(['Pregnancies', 'Glucose', 'BloodPressure', 'SkinThickness', 'Insulin',\n",
       "        'BMI', 'DiabetesPedigreeFunction', 'Age'],\n",
       "       dtype='object'))"
      ]
     },
     "execution_count": 11,
     "metadata": {},
     "output_type": "execute_result"
    }
   ],
   "source": [
    "COLS = df.columns.drop('Outcome')\n",
    "df.head(), COLS"
   ]
  },
  {
   "cell_type": "code",
   "execution_count": 12,
   "id": "200e13ba",
   "metadata": {},
   "outputs": [
    {
     "data": {
      "text/plain": [
       "Pregnancies                 0\n",
       "Glucose                     0\n",
       "BloodPressure               0\n",
       "SkinThickness               0\n",
       "Insulin                     0\n",
       "BMI                         0\n",
       "DiabetesPedigreeFunction    0\n",
       "Age                         0\n",
       "Outcome                     0\n",
       "dtype: int64"
      ]
     },
     "execution_count": 12,
     "metadata": {},
     "output_type": "execute_result"
    }
   ],
   "source": [
    "df.isnull().sum()"
   ]
  },
  {
   "cell_type": "code",
   "execution_count": 13,
   "id": "37506260",
   "metadata": {},
   "outputs": [
    {
     "data": {
      "text/plain": [
       "Pregnancies                 0\n",
       "Glucose                     0\n",
       "BloodPressure               0\n",
       "SkinThickness               0\n",
       "Insulin                     0\n",
       "BMI                         0\n",
       "DiabetesPedigreeFunction    0\n",
       "Age                         0\n",
       "Outcome                     0\n",
       "dtype: int64"
      ]
     },
     "execution_count": 13,
     "metadata": {},
     "output_type": "execute_result"
    }
   ],
   "source": [
    "df.isna().sum()"
   ]
  },
  {
   "cell_type": "markdown",
   "id": "b28e6718",
   "metadata": {},
   "source": [
    "## Correlation HITMAP"
   ]
  },
  {
   "cell_type": "code",
   "execution_count": 14,
   "id": "5ca89f57",
   "metadata": {},
   "outputs": [
    {
     "data": {
      "text/plain": [
       "Text(0.5, 1.0, 'Correlation between Features')"
      ]
     },
     "execution_count": 14,
     "metadata": {},
     "output_type": "execute_result"
    },
    {
     "data": {
      "image/png": "[encoded data removed]",
      "text/plain": [
       "<Figure size 2000x1000 with 2 Axes>"
      ]
     },
     "metadata": {},
     "output_type": "display_data"
    }
   ],
   "source": [
    "plt.figure(figsize = (20,10))\n",
    "sns.heatmap(df.corr(),annot=True , cmap ='YlGnBu' )\n",
    "\n",
    "plt.title(\"Correlation between Features\")"
   ]
  },
  {
   "cell_type": "markdown",
   "id": "960e53c1",
   "metadata": {},
   "source": [
    "## Missing Values"
   ]
  },
  {
   "cell_type": "code",
   "execution_count": 15,
   "id": "cfe75fdf",
   "metadata": {},
   "outputs": [
    {
     "data": {
      "text/plain": [
       "Pregnancies                   0\n",
       "Glucose                       5\n",
       "BloodPressure                35\n",
       "SkinThickness               227\n",
       "Insulin                     374\n",
       "BMI                          11\n",
       "DiabetesPedigreeFunction      0\n",
       "Age                           0\n",
       "Outcome                       0\n",
       "dtype: int64"
      ]
     },
     "execution_count": 15,
     "metadata": {},
     "output_type": "execute_result"
    }
   ],
   "source": [
    "zero_null_fields = ['Glucose', 'BloodPressure', 'SkinThickness', 'Insulin', 'BMI']\n",
    "df[zero_null_fields] = df[['Glucose', 'BloodPressure', 'SkinThickness', 'Insulin', 'BMI']].replace(0, np.NaN)\n",
    "\n",
    "df.isna().sum()"
   ]
  },
  {
   "cell_type": "code",
   "execution_count": 16,
   "id": "05abf3f9",
   "metadata": {},
   "outputs": [
    {
     "data": {
      "text/plain": [
       "Pregnancies                 0\n",
       "Glucose                     0\n",
       "BloodPressure               0\n",
       "SkinThickness               0\n",
       "Insulin                     0\n",
       "BMI                         0\n",
       "DiabetesPedigreeFunction    0\n",
       "Age                         0\n",
       "Outcome                     0\n",
       "dtype: int64"
      ]
     },
     "execution_count": 16,
     "metadata": {},
     "output_type": "execute_result"
    }
   ],
   "source": [
    "def handle_missing(data, column:str):\n",
    "    data.loc[(data['Outcome'] == 0 ) & (data[column].isnull()), column] = df.groupby('Outcome')[column].median()[0]\n",
    "    data.loc[(data['Outcome'] == 1 ) & (data[column].isnull()), column] = df.groupby('Outcome')[column].median()[1]\n",
    "    \n",
    "    return data\n",
    "\n",
    "cols = ['Glucose', 'BloodPressure', 'SkinThickness', 'BMI', 'Insulin']\n",
    "\n",
    "for col in cols:\n",
    "    handle_missing(df, col)\n",
    "    \n",
    "df.isna().sum()"
   ]
  },
  {
   "cell_type": "markdown",
   "id": "aadd0c49",
   "metadata": {},
   "source": [
    "## Outliers"
   ]
  },
  {
   "cell_type": "code",
   "execution_count": 17,
   "id": "31e63d79",
   "metadata": {},
   "outputs": [],
   "source": [
    "def handle_outlier(df, col) : \n",
    "    # IQR\n",
    "    q1 = 0.25; q3 = 0.90\n",
    "    \n",
    "    Q1 = df[col].quantile(q1)\n",
    "    Q3 = df[col].quantile(q3)\n",
    "    iqr = Q3 - Q1\n",
    "    \n",
    "    up_b = Q3 + 1.5 * iqr\n",
    "    low_b = Q1 - 1.5 * iqr\n",
    "    \n",
    "    df.loc[(df[col] < low_b), col] = low_b\n",
    "    df.loc[(df[col] > up_b), col] = up_b"
   ]
  },
  {
   "cell_type": "code",
   "execution_count": 18,
   "id": "920971e3",
   "metadata": {},
   "outputs": [],
   "source": [
    "for col in df.columns : \n",
    "    handle_outlier(df, col)"
   ]
  },
  {
   "cell_type": "markdown",
   "id": "64a41a3d",
   "metadata": {},
   "source": [
    "## Scaling Data"
   ]
  },
  {
   "cell_type": "code",
   "execution_count": 19,
   "id": "84bb774e",
   "metadata": {},
   "outputs": [],
   "source": [
    "rs = RobustScaler()\n",
    "df[COLS] = rs.fit_transform(df[COLS])"
   ]
  },
  {
   "cell_type": "markdown",
   "id": "8a7258dd",
   "metadata": {},
   "source": [
    "## Drop Insulin (Bad :/)"
   ]
  },
  {
   "cell_type": "code",
   "execution_count": 20,
   "id": "c1fb6474",
   "metadata": {},
   "outputs": [],
   "source": [
    "#df = df.drop(['Insulin'], axis = 1)\n",
    "#df"
   ]
  },
  {
   "cell_type": "markdown",
   "id": "d76fd2d5",
   "metadata": {},
   "source": [
    "## Pandas Profiling (after Preprocessing)"
   ]
  },
  {
   "cell_type": "code",
   "execution_count": 21,
   "id": "208cd3a7",
   "metadata": {},
   "outputs": [
    {
     "data": {
      "application/vnd.jupyter.widget-view+json": {
       "model_id": "488e1ea93d3c446b877f222034bb4692",
       "version_major": 2,
       "version_minor": 0
      },
      "text/plain": [
       "Tab(children=(HTML(value='<div id=\"overview-content\" class=\"row variable spacing\">\\n    <div class=\"row\">\\n   …"
      ]
     },
     "metadata": {},
     "output_type": "display_data"
    },
    {
     "data": {
      "text/html": [
       "Report generated with <a href=\"https://github.com/pandas-profiling/pandas-profiling\">pandas-profiling</a>."
      ],
      "text/plain": [
       "<IPython.core.display.HTML object>"
      ]
     },
     "metadata": {},
     "output_type": "display_data"
    }
   ],
   "source": [
    "profile =  ProfileReport(df, title = \"Diabetes Report\")\n",
    "profile.to_widgets()"
   ]
  },
  {
   "cell_type": "markdown",
   "id": "57340395",
   "metadata": {},
   "source": [
    "# Machine Learning"
   ]
  },
  {
   "cell_type": "markdown",
   "id": "5bf39052",
   "metadata": {},
   "source": [
    "## Train-Test Split"
   ]
  },
  {
   "cell_type": "code",
   "execution_count": 22,
   "id": "a2d9ba9f",
   "metadata": {},
   "outputs": [],
   "source": [
    "x = df.drop(['Outcome'], axis=1)\n",
    "y = df['Outcome']"
   ]
  },
  {
   "cell_type": "code",
   "execution_count": 23,
   "id": "260bbebb",
   "metadata": {},
   "outputs": [],
   "source": [
    "x_train, x_test, y_train, y_test = train_test_split(x, y, test_size = 0.2, random_state = 42, stratify = y, shuffle = True)"
   ]
  },
  {
   "cell_type": "markdown",
   "id": "c7605b84",
   "metadata": {},
   "source": [
    "## Balancing"
   ]
  },
  {
   "cell_type": "code",
   "execution_count": 24,
   "id": "db457620",
   "metadata": {},
   "outputs": [],
   "source": [
    "oversample = SMOTE(random_state = 42, k_neighbors = 10)\n",
    "\n",
    "x_smote, y_smote = oversample.fit_resample(x_train, y_train)\n",
    "x_train, y_train = x_smote, y_smote"
   ]
  },
  {
   "cell_type": "code",
   "execution_count": 25,
   "id": "2ee7e651",
   "metadata": {},
   "outputs": [
    {
     "data": {
      "text/plain": [
       "0.0    400\n",
       "1.0    400\n",
       "Name: Outcome, dtype: int64"
      ]
     },
     "execution_count": 25,
     "metadata": {},
     "output_type": "execute_result"
    }
   ],
   "source": [
    "y_smote.value_counts()"
   ]
  },
  {
   "cell_type": "markdown",
   "id": "1252e6ab",
   "metadata": {},
   "source": [
    "### Classifiers"
   ]
  },
  {
   "cell_type": "code",
   "execution_count": 26,
   "id": "d987fbd2",
   "metadata": {},
   "outputs": [],
   "source": [
    "# models \n",
    "classifiers = [\n",
    "    DecisionTreeClassifier(max_depth = 3, random_state = 42),\n",
    "    AdaBoostClassifier(DecisionTreeClassifier(random_state = 42)),\n",
    "    RandomForestClassifier(max_depth = 5, random_state = 42),\n",
    "    GradientBoostingClassifier(random_state = 42),\n",
    "    LogisticRegression(random_state = 42, solver='lbfgs', max_iter=10000),\n",
    "    SVC(random_state = 42, probability = True),        \n",
    "    KNeighborsClassifier(n_neighbors = 5, algorithm = \"kd_tree\"),\n",
    "    GaussianNB(),\n",
    "    MLPClassifier(solver = 'lbfgs', alpha = 1e-5, hidden_layer_sizes=(5, 2), random_state = 1),\n",
    "    BaggingClassifier(SVC(random_state = 42, probability = True), max_samples = 0.5, max_features = 0.7),\n",
    "    ExtraTreesClassifier(n_estimators = 10, max_depth = None, min_samples_split = 2, random_state = 0),\n",
    "    XGBClassifier(learning_rate= 0.01,max_depth = 3,n_estimators = 1000)\n",
    "]"
   ]
  },
  {
   "cell_type": "code",
   "execution_count": 63,
   "id": "4f83f162",
   "metadata": {},
   "outputs": [],
   "source": [
    "def make_classification(classifiers, x_train, x_test, y_train, y_test) :\n",
    "    \n",
    "    # metrics\n",
    "    acc, f1, AUC, recall, cross_val, prec = [ ], [ ], [ ], [ ], [ ], [ ]\n",
    "    models = [ ]\n",
    "    \n",
    "    for classifier in classifiers : \n",
    "        clf = classifier\n",
    "        clf.fit(x_train, y_train)\n",
    "        \n",
    "        y_pred = clf.predict(x_test)\n",
    "        y_prob = clf.predict_proba(x_test)\n",
    "        \n",
    "        acc.append(((accuracy_score(y_test,y_pred))) * 100)\n",
    "        cross_val.append(sum(cross_val_score(clf, x_train, y_train, cv = 10, scoring = \"accuracy\"))/10)\n",
    "        f1.append(((f1_score(y_test,y_pred))) * 100)\n",
    "        AUC.append(((roc_auc_score(y_test,y_prob[:, 1]))) * 100)\n",
    "        recall.append(((recall_score(y_test,y_pred))) * 100)\n",
    "        prec.append(((precision_score(y_test,y_pred))) * 100)\n",
    "        models.append(clf.__class__.__name__)\n",
    "        \n",
    "    res = pd.DataFrame({\n",
    "        \"Accuracy\" : acc,\n",
    "        \"Cross Val\" : cross_val,\n",
    "        \"F1\" : f1,\n",
    "        \"ROC\" : AUC,\n",
    "        \"Recall\" : recall,\n",
    "        \"Precision\" : prec,\n",
    "        \"ML Models\" : models,\n",
    "    })\n",
    "    \n",
    "    res = (res.sort_values(by = ['ROC','F1'], ascending = False).reset_index(drop =  True))\n",
    "    return res"
   ]
  },
  {
   "cell_type": "code",
   "execution_count": 28,
   "id": "7359732c",
   "metadata": {
    "scrolled": true
   },
   "outputs": [
    {
     "name": "stdout",
     "output_type": "stream",
     "text": [
      "[22:36:25] WARNING: C:\\Windows\\Temp\\abs_557yfx631l\\croots\\recipe\\xgboost-split_1659548953302\\work\\src\\learner.cc:1115: Starting in XGBoost 1.3.0, the default evaluation metric used with the objective 'binary:logistic' was changed from 'error' to 'logloss'. Explicitly set eval_metric if you'd like to restore the old behavior.\n",
      "[22:36:26] WARNING: C:\\Windows\\Temp\\abs_557yfx631l\\croots\\recipe\\xgboost-split_1659548953302\\work\\src\\learner.cc:1115: Starting in XGBoost 1.3.0, the default evaluation metric used with the objective 'binary:logistic' was changed from 'error' to 'logloss'. Explicitly set eval_metric if you'd like to restore the old behavior.\n",
      "[22:36:28] WARNING: C:\\Windows\\Temp\\abs_557yfx631l\\croots\\recipe\\xgboost-split_1659548953302\\work\\src\\learner.cc:1115: Starting in XGBoost 1.3.0, the default evaluation metric used with the objective 'binary:logistic' was changed from 'error' to 'logloss'. Explicitly set eval_metric if you'd like to restore the old behavior.\n",
      "[22:36:29] WARNING: C:\\Windows\\Temp\\abs_557yfx631l\\croots\\recipe\\xgboost-split_1659548953302\\work\\src\\learner.cc:1115: Starting in XGBoost 1.3.0, the default evaluation metric used with the objective 'binary:logistic' was changed from 'error' to 'logloss'. Explicitly set eval_metric if you'd like to restore the old behavior.\n",
      "[22:36:30] WARNING: C:\\Windows\\Temp\\abs_557yfx631l\\croots\\recipe\\xgboost-split_1659548953302\\work\\src\\learner.cc:1115: Starting in XGBoost 1.3.0, the default evaluation metric used with the objective 'binary:logistic' was changed from 'error' to 'logloss'. Explicitly set eval_metric if you'd like to restore the old behavior.\n",
      "[22:36:32] WARNING: C:\\Windows\\Temp\\abs_557yfx631l\\croots\\recipe\\xgboost-split_1659548953302\\work\\src\\learner.cc:1115: Starting in XGBoost 1.3.0, the default evaluation metric used with the objective 'binary:logistic' was changed from 'error' to 'logloss'. Explicitly set eval_metric if you'd like to restore the old behavior.\n",
      "[22:36:33] WARNING: C:\\Windows\\Temp\\abs_557yfx631l\\croots\\recipe\\xgboost-split_1659548953302\\work\\src\\learner.cc:1115: Starting in XGBoost 1.3.0, the default evaluation metric used with the objective 'binary:logistic' was changed from 'error' to 'logloss'. Explicitly set eval_metric if you'd like to restore the old behavior.\n",
      "[22:36:35] WARNING: C:\\Windows\\Temp\\abs_557yfx631l\\croots\\recipe\\xgboost-split_1659548953302\\work\\src\\learner.cc:1115: Starting in XGBoost 1.3.0, the default evaluation metric used with the objective 'binary:logistic' was changed from 'error' to 'logloss'. Explicitly set eval_metric if you'd like to restore the old behavior.\n",
      "[22:36:36] WARNING: C:\\Windows\\Temp\\abs_557yfx631l\\croots\\recipe\\xgboost-split_1659548953302\\work\\src\\learner.cc:1115: Starting in XGBoost 1.3.0, the default evaluation metric used with the objective 'binary:logistic' was changed from 'error' to 'logloss'. Explicitly set eval_metric if you'd like to restore the old behavior.\n",
      "[22:36:38] WARNING: C:\\Windows\\Temp\\abs_557yfx631l\\croots\\recipe\\xgboost-split_1659548953302\\work\\src\\learner.cc:1115: Starting in XGBoost 1.3.0, the default evaluation metric used with the objective 'binary:logistic' was changed from 'error' to 'logloss'. Explicitly set eval_metric if you'd like to restore the old behavior.\n",
      "[22:36:39] WARNING: C:\\Windows\\Temp\\abs_557yfx631l\\croots\\recipe\\xgboost-split_1659548953302\\work\\src\\learner.cc:1115: Starting in XGBoost 1.3.0, the default evaluation metric used with the objective 'binary:logistic' was changed from 'error' to 'logloss'. Explicitly set eval_metric if you'd like to restore the old behavior.\n"
     ]
    },
    {
     "data": {
      "text/html": [
       "<div>\n",
       "<style scoped>\n",
       "    .dataframe tbody tr th:only-of-type {\n",
       "        vertical-align: middle;\n",
       "    }\n",
       "\n",
       "    .dataframe tbody tr th {\n",
       "        vertical-align: top;\n",
       "    }\n",
       "\n",
       "    .dataframe thead th {\n",
       "        text-align: right;\n",
       "    }\n",
       "</style>\n",
       "<table border=\"1\" class=\"dataframe\">\n",
       "  <thead>\n",
       "    <tr style=\"text-align: right;\">\n",
       "      <th></th>\n",
       "      <th>Accuracy</th>\n",
       "      <th>Cross Val</th>\n",
       "      <th>F1</th>\n",
       "      <th>ROC</th>\n",
       "      <th>Recall</th>\n",
       "      <th>ML Models</th>\n",
       "    </tr>\n",
       "  </thead>\n",
       "  <tbody>\n",
       "    <tr>\n",
       "      <th>0</th>\n",
       "      <td>90.259740</td>\n",
       "      <td>0.88125</td>\n",
       "      <td>86.486486</td>\n",
       "      <td>96.388889</td>\n",
       "      <td>88.888889</td>\n",
       "      <td>GradientBoostingClassifier</td>\n",
       "    </tr>\n",
       "    <tr>\n",
       "      <th>1</th>\n",
       "      <td>87.662338</td>\n",
       "      <td>0.88500</td>\n",
       "      <td>83.185841</td>\n",
       "      <td>95.092593</td>\n",
       "      <td>87.037037</td>\n",
       "      <td>XGBClassifier</td>\n",
       "    </tr>\n",
       "    <tr>\n",
       "      <th>2</th>\n",
       "      <td>87.012987</td>\n",
       "      <td>0.87125</td>\n",
       "      <td>82.758621</td>\n",
       "      <td>94.296296</td>\n",
       "      <td>88.888889</td>\n",
       "      <td>RandomForestClassifier</td>\n",
       "    </tr>\n",
       "    <tr>\n",
       "      <th>3</th>\n",
       "      <td>85.064935</td>\n",
       "      <td>0.86000</td>\n",
       "      <td>80.000000</td>\n",
       "      <td>92.425926</td>\n",
       "      <td>85.185185</td>\n",
       "      <td>BaggingClassifier</td>\n",
       "    </tr>\n",
       "    <tr>\n",
       "      <th>4</th>\n",
       "      <td>87.662338</td>\n",
       "      <td>0.85000</td>\n",
       "      <td>82.242991</td>\n",
       "      <td>92.037037</td>\n",
       "      <td>81.481481</td>\n",
       "      <td>MLPClassifier</td>\n",
       "    </tr>\n",
       "    <tr>\n",
       "      <th>5</th>\n",
       "      <td>84.415584</td>\n",
       "      <td>0.88625</td>\n",
       "      <td>78.571429</td>\n",
       "      <td>91.722222</td>\n",
       "      <td>81.481481</td>\n",
       "      <td>ExtraTreesClassifier</td>\n",
       "    </tr>\n",
       "    <tr>\n",
       "      <th>6</th>\n",
       "      <td>85.714286</td>\n",
       "      <td>0.86125</td>\n",
       "      <td>80.701754</td>\n",
       "      <td>91.185185</td>\n",
       "      <td>85.185185</td>\n",
       "      <td>SVC</td>\n",
       "    </tr>\n",
       "    <tr>\n",
       "      <th>7</th>\n",
       "      <td>86.363636</td>\n",
       "      <td>0.85500</td>\n",
       "      <td>81.739130</td>\n",
       "      <td>90.990741</td>\n",
       "      <td>87.037037</td>\n",
       "      <td>DecisionTreeClassifier</td>\n",
       "    </tr>\n",
       "    <tr>\n",
       "      <th>8</th>\n",
       "      <td>84.415584</td>\n",
       "      <td>0.85500</td>\n",
       "      <td>79.661017</td>\n",
       "      <td>90.759259</td>\n",
       "      <td>87.037037</td>\n",
       "      <td>KNeighborsClassifier</td>\n",
       "    </tr>\n",
       "    <tr>\n",
       "      <th>9</th>\n",
       "      <td>85.714286</td>\n",
       "      <td>0.84750</td>\n",
       "      <td>80.000000</td>\n",
       "      <td>84.740741</td>\n",
       "      <td>81.481481</td>\n",
       "      <td>AdaBoostClassifier</td>\n",
       "    </tr>\n",
       "    <tr>\n",
       "      <th>10</th>\n",
       "      <td>74.675325</td>\n",
       "      <td>0.78000</td>\n",
       "      <td>68.292683</td>\n",
       "      <td>83.129630</td>\n",
       "      <td>77.777778</td>\n",
       "      <td>GaussianNB</td>\n",
       "    </tr>\n",
       "    <tr>\n",
       "      <th>11</th>\n",
       "      <td>74.025974</td>\n",
       "      <td>0.80375</td>\n",
       "      <td>68.750000</td>\n",
       "      <td>82.870370</td>\n",
       "      <td>81.481481</td>\n",
       "      <td>LogisticRegression</td>\n",
       "    </tr>\n",
       "  </tbody>\n",
       "</table>\n",
       "</div>"
      ],
      "text/plain": [
       "     Accuracy  Cross Val         F1        ROC     Recall  \\\n",
       "0   90.259740    0.88125  86.486486  96.388889  88.888889   \n",
       "1   87.662338    0.88500  83.185841  95.092593  87.037037   \n",
       "2   87.012987    0.87125  82.758621  94.296296  88.888889   \n",
       "3   85.064935    0.86000  80.000000  92.425926  85.185185   \n",
       "4   87.662338    0.85000  82.242991  92.037037  81.481481   \n",
       "5   84.415584    0.88625  78.571429  91.722222  81.481481   \n",
       "6   85.714286    0.86125  80.701754  91.185185  85.185185   \n",
       "7   86.363636    0.85500  81.739130  90.990741  87.037037   \n",
       "8   84.415584    0.85500  79.661017  90.759259  87.037037   \n",
       "9   85.714286    0.84750  80.000000  84.740741  81.481481   \n",
       "10  74.675325    0.78000  68.292683  83.129630  77.777778   \n",
       "11  74.025974    0.80375  68.750000  82.870370  81.481481   \n",
       "\n",
       "                     ML Models  \n",
       "0   GradientBoostingClassifier  \n",
       "1                XGBClassifier  \n",
       "2       RandomForestClassifier  \n",
       "3            BaggingClassifier  \n",
       "4                MLPClassifier  \n",
       "5         ExtraTreesClassifier  \n",
       "6                          SVC  \n",
       "7       DecisionTreeClassifier  \n",
       "8         KNeighborsClassifier  \n",
       "9           AdaBoostClassifier  \n",
       "10                  GaussianNB  \n",
       "11          LogisticRegression  "
      ]
     },
     "execution_count": 28,
     "metadata": {},
     "output_type": "execute_result"
    }
   ],
   "source": [
    "res = make_classification(classifiers, x_train, x_test, y_train, y_test)\n",
    "res"
   ]
  },
  {
   "cell_type": "markdown",
   "id": "1ceccdaa",
   "metadata": {},
   "source": [
    "### Ensemble"
   ]
  },
  {
   "cell_type": "code",
   "execution_count": 29,
   "id": "45eb42a5",
   "metadata": {},
   "outputs": [],
   "source": [
    "gb_clf = GradientBoostingClassifier(random_state = 42)\n",
    "rf_clf = RandomForestClassifier(max_depth = 5, random_state = 42)\n",
    "nn_clf = MLPClassifier(solver = 'lbfgs', alpha = 1e-5, hidden_layer_sizes=(5, 2), random_state = 1)\n",
    "svm_clf = SVC(random_state = 42, probability = True)\n",
    "svm_bg_clf = BaggingClassifier(SVC(random_state = 42, probability = True), max_samples = 0.5, max_features = 0.7)\n",
    "xgb_clf = XGBClassifier(learning_rate= 0.01,max_depth = 3, n_estimators = 1000)"
   ]
  },
  {
   "cell_type": "code",
   "execution_count": 30,
   "id": "4163560a",
   "metadata": {},
   "outputs": [
    {
     "data": {
      "text/plain": [
       "VotingClassifier(estimators=[('gb',\n",
       "                              GradientBoostingClassifier(random_state=42)),\n",
       "                             ('rf',\n",
       "                              RandomForestClassifier(max_depth=5,\n",
       "                                                     random_state=42)),\n",
       "                             ('svm_bagging',\n",
       "                              BaggingClassifier(base_estimator=SVC(probability=True,\n",
       "                                                                   random_state=42),\n",
       "                                                max_features=0.7,\n",
       "                                                max_samples=0.5))],\n",
       "                 voting='soft')"
      ]
     },
     "execution_count": 30,
     "metadata": {},
     "output_type": "execute_result"
    }
   ],
   "source": [
    "voting_clf = VotingClassifier(\n",
    " estimators = [('gb', gb_clf), ('rf', rf_clf), ('svm_bagging', svm_bg_clf)],\n",
    " voting = 'soft')\n",
    "\n",
    "voting_clf.fit(x_train, y_train)"
   ]
  },
  {
   "cell_type": "code",
   "execution_count": 31,
   "id": "aa361b2c",
   "metadata": {},
   "outputs": [],
   "source": [
    "y_pred = voting_clf.predict(x_test)\n",
    "y_prob = voting_clf.predict_proba(x_test)"
   ]
  },
  {
   "cell_type": "code",
   "execution_count": 32,
   "id": "db7f6e41",
   "metadata": {},
   "outputs": [
    {
     "data": {
      "text/plain": [
       "Acc :        87.662338\n",
       "F1 :         83.478261\n",
       "AUC :        95.481481\n",
       "Recall :     88.888889\n",
       "dtype: float64"
      ]
     },
     "execution_count": 32,
     "metadata": {},
     "output_type": "execute_result"
    }
   ],
   "source": [
    "pd.Series({\"Acc :\" : accuracy_score(y_test, y_pred) * 100,\"F1 : \" : f1_score(y_test, y_pred) * 100,\"AUC : \" : roc_auc_score(y_test,y_prob[:, 1]) * 100,\"Recall : \" : ((recall_score(y_test,y_pred))) * 100})"
   ]
  },
  {
   "cell_type": "markdown",
   "id": "2c695bc0",
   "metadata": {},
   "source": [
    "## Cross Validation "
   ]
  },
  {
   "cell_type": "code",
   "execution_count": 33,
   "id": "52b74a14",
   "metadata": {},
   "outputs": [],
   "source": [
    "def cross_val(classifiers, x_train, y_train) :\n",
    "    cv_train, cv_test, diff, models =  [], [], [], []\n",
    "    \n",
    "    for classifier in classifiers : \n",
    "        clf = classifier\n",
    "        #clf.fit(x_train, y_train)\n",
    "        \n",
    "        cv = cross_validate(clf, x_train, y_train, cv = 5, scoring = \"accuracy\", return_train_score = True)\n",
    "        \n",
    "        cv_train.append(cv['train_score'].mean() * 100)\n",
    "        cv_test.append(cv['test_score'].mean() * 100)\n",
    "        diff.append((cv['train_score'].mean() - cv['test_score'].mean()) * 100)\n",
    "        models.append(clf.__class__.__name__)\n",
    "        \n",
    "        \n",
    "    res = pd.DataFrame({\n",
    "        \"CV Train\" : cv_train,\n",
    "        \"CV Test\" : cv_test,\n",
    "        \"Diff\" : diff,\n",
    "        \"ML Model\" : models\n",
    "    })\n",
    "    \n",
    "    res = (res.sort_values(by = ['CV Test', 'CV Train'], ascending = False).reset_index(drop =  True))\n",
    "    \n",
    "    return res"
   ]
  },
  {
   "cell_type": "code",
   "execution_count": 34,
   "id": "66b5ad26",
   "metadata": {},
   "outputs": [
    {
     "data": {
      "text/plain": [
       "MLPClassifier(alpha=1e-05, hidden_layer_sizes=(5, 2), random_state=1,\n",
       "              solver='lbfgs')"
      ]
     },
     "execution_count": 34,
     "metadata": {},
     "output_type": "execute_result"
    }
   ],
   "source": [
    "nclf = classifiers\n",
    "nclf.pop(8)"
   ]
  },
  {
   "cell_type": "code",
   "execution_count": 35,
   "id": "9ddc3aee",
   "metadata": {},
   "outputs": [],
   "source": [
    "nclf.append(\n",
    "    VotingClassifier(\n",
    " estimators = [('gb', gb_clf), ('rf', rf_clf), ('svm_bagging', svm_bg_clf)],\n",
    " voting = 'soft')\n",
    ")"
   ]
  },
  {
   "cell_type": "code",
   "execution_count": 36,
   "id": "19161fa9",
   "metadata": {},
   "outputs": [
    {
     "data": {
      "text/plain": [
       "[DecisionTreeClassifier(max_depth=3, random_state=42),\n",
       " AdaBoostClassifier(base_estimator=DecisionTreeClassifier(random_state=42)),\n",
       " RandomForestClassifier(max_depth=5, random_state=42),\n",
       " GradientBoostingClassifier(random_state=42),\n",
       " LogisticRegression(max_iter=10000, random_state=42),\n",
       " SVC(probability=True, random_state=42),\n",
       " KNeighborsClassifier(algorithm='kd_tree'),\n",
       " GaussianNB(),\n",
       " BaggingClassifier(base_estimator=SVC(probability=True, random_state=42),\n",
       "                   max_features=0.7, max_samples=0.5),\n",
       " ExtraTreesClassifier(n_estimators=10, random_state=0),\n",
       " XGBClassifier(base_score=0.5, booster='gbtree', colsample_bylevel=1,\n",
       "               colsample_bynode=1, colsample_bytree=1, enable_categorical=False,\n",
       "               gamma=0, gpu_id=-1, importance_type=None,\n",
       "               interaction_constraints='', learning_rate=0.01, max_delta_step=0,\n",
       "               max_depth=3, min_child_weight=1, missing=nan,\n",
       "               monotone_constraints='()', n_estimators=1000, n_jobs=8,\n",
       "               num_parallel_tree=1, predictor='auto', random_state=0,\n",
       "               reg_alpha=0, reg_lambda=1, scale_pos_weight=1, subsample=1,\n",
       "               tree_method='exact', validate_parameters=1, verbosity=None),\n",
       " VotingClassifier(estimators=[('gb',\n",
       "                               GradientBoostingClassifier(random_state=42)),\n",
       "                              ('rf',\n",
       "                               RandomForestClassifier(max_depth=5,\n",
       "                                                      random_state=42)),\n",
       "                              ('svm_bagging',\n",
       "                               BaggingClassifier(base_estimator=SVC(probability=True,\n",
       "                                                                    random_state=42),\n",
       "                                                 max_features=0.7,\n",
       "                                                 max_samples=0.5))],\n",
       "                  voting='soft')]"
      ]
     },
     "execution_count": 36,
     "metadata": {},
     "output_type": "execute_result"
    }
   ],
   "source": [
    "nclf"
   ]
  },
  {
   "cell_type": "code",
   "execution_count": 37,
   "id": "91165818",
   "metadata": {},
   "outputs": [
    {
     "name": "stdout",
     "output_type": "stream",
     "text": [
      "[22:36:50] WARNING: C:\\Windows\\Temp\\abs_557yfx631l\\croots\\recipe\\xgboost-split_1659548953302\\work\\src\\learner.cc:1115: Starting in XGBoost 1.3.0, the default evaluation metric used with the objective 'binary:logistic' was changed from 'error' to 'logloss'. Explicitly set eval_metric if you'd like to restore the old behavior.\n",
      "[22:36:52] WARNING: C:\\Windows\\Temp\\abs_557yfx631l\\croots\\recipe\\xgboost-split_1659548953302\\work\\src\\learner.cc:1115: Starting in XGBoost 1.3.0, the default evaluation metric used with the objective 'binary:logistic' was changed from 'error' to 'logloss'. Explicitly set eval_metric if you'd like to restore the old behavior.\n",
      "[22:36:53] WARNING: C:\\Windows\\Temp\\abs_557yfx631l\\croots\\recipe\\xgboost-split_1659548953302\\work\\src\\learner.cc:1115: Starting in XGBoost 1.3.0, the default evaluation metric used with the objective 'binary:logistic' was changed from 'error' to 'logloss'. Explicitly set eval_metric if you'd like to restore the old behavior.\n",
      "[22:36:54] WARNING: C:\\Windows\\Temp\\abs_557yfx631l\\croots\\recipe\\xgboost-split_1659548953302\\work\\src\\learner.cc:1115: Starting in XGBoost 1.3.0, the default evaluation metric used with the objective 'binary:logistic' was changed from 'error' to 'logloss'. Explicitly set eval_metric if you'd like to restore the old behavior.\n",
      "[22:36:55] WARNING: C:\\Windows\\Temp\\abs_557yfx631l\\croots\\recipe\\xgboost-split_1659548953302\\work\\src\\learner.cc:1115: Starting in XGBoost 1.3.0, the default evaluation metric used with the objective 'binary:logistic' was changed from 'error' to 'logloss'. Explicitly set eval_metric if you'd like to restore the old behavior.\n"
     ]
    },
    {
     "data": {
      "text/html": [
       "<div>\n",
       "<style scoped>\n",
       "    .dataframe tbody tr th:only-of-type {\n",
       "        vertical-align: middle;\n",
       "    }\n",
       "\n",
       "    .dataframe tbody tr th {\n",
       "        vertical-align: top;\n",
       "    }\n",
       "\n",
       "    .dataframe thead th {\n",
       "        text-align: right;\n",
       "    }\n",
       "</style>\n",
       "<table border=\"1\" class=\"dataframe\">\n",
       "  <thead>\n",
       "    <tr style=\"text-align: right;\">\n",
       "      <th></th>\n",
       "      <th>CV Train</th>\n",
       "      <th>CV Test</th>\n",
       "      <th>Diff</th>\n",
       "      <th>ML Model</th>\n",
       "    </tr>\n",
       "  </thead>\n",
       "  <tbody>\n",
       "    <tr>\n",
       "      <th>0</th>\n",
       "      <td>94.09375</td>\n",
       "      <td>88.500</td>\n",
       "      <td>5.59375</td>\n",
       "      <td>VotingClassifier</td>\n",
       "    </tr>\n",
       "    <tr>\n",
       "      <th>1</th>\n",
       "      <td>97.59375</td>\n",
       "      <td>88.375</td>\n",
       "      <td>9.21875</td>\n",
       "      <td>XGBClassifier</td>\n",
       "    </tr>\n",
       "    <tr>\n",
       "      <th>2</th>\n",
       "      <td>100.00000</td>\n",
       "      <td>88.250</td>\n",
       "      <td>11.75000</td>\n",
       "      <td>ExtraTreesClassifier</td>\n",
       "    </tr>\n",
       "    <tr>\n",
       "      <th>3</th>\n",
       "      <td>99.00000</td>\n",
       "      <td>88.250</td>\n",
       "      <td>10.75000</td>\n",
       "      <td>GradientBoostingClassifier</td>\n",
       "    </tr>\n",
       "    <tr>\n",
       "      <th>4</th>\n",
       "      <td>92.43750</td>\n",
       "      <td>87.250</td>\n",
       "      <td>5.18750</td>\n",
       "      <td>RandomForestClassifier</td>\n",
       "    </tr>\n",
       "    <tr>\n",
       "      <th>5</th>\n",
       "      <td>90.12500</td>\n",
       "      <td>86.875</td>\n",
       "      <td>3.25000</td>\n",
       "      <td>SVC</td>\n",
       "    </tr>\n",
       "    <tr>\n",
       "      <th>6</th>\n",
       "      <td>88.15625</td>\n",
       "      <td>85.875</td>\n",
       "      <td>2.28125</td>\n",
       "      <td>BaggingClassifier</td>\n",
       "    </tr>\n",
       "    <tr>\n",
       "      <th>7</th>\n",
       "      <td>88.15625</td>\n",
       "      <td>85.625</td>\n",
       "      <td>2.53125</td>\n",
       "      <td>DecisionTreeClassifier</td>\n",
       "    </tr>\n",
       "    <tr>\n",
       "      <th>8</th>\n",
       "      <td>100.00000</td>\n",
       "      <td>85.500</td>\n",
       "      <td>14.50000</td>\n",
       "      <td>AdaBoostClassifier</td>\n",
       "    </tr>\n",
       "    <tr>\n",
       "      <th>9</th>\n",
       "      <td>89.81250</td>\n",
       "      <td>85.375</td>\n",
       "      <td>4.43750</td>\n",
       "      <td>KNeighborsClassifier</td>\n",
       "    </tr>\n",
       "    <tr>\n",
       "      <th>10</th>\n",
       "      <td>80.78125</td>\n",
       "      <td>80.125</td>\n",
       "      <td>0.65625</td>\n",
       "      <td>LogisticRegression</td>\n",
       "    </tr>\n",
       "    <tr>\n",
       "      <th>11</th>\n",
       "      <td>78.96875</td>\n",
       "      <td>78.625</td>\n",
       "      <td>0.34375</td>\n",
       "      <td>GaussianNB</td>\n",
       "    </tr>\n",
       "  </tbody>\n",
       "</table>\n",
       "</div>"
      ],
      "text/plain": [
       "     CV Train  CV Test      Diff                    ML Model\n",
       "0    94.09375   88.500   5.59375            VotingClassifier\n",
       "1    97.59375   88.375   9.21875               XGBClassifier\n",
       "2   100.00000   88.250  11.75000        ExtraTreesClassifier\n",
       "3    99.00000   88.250  10.75000  GradientBoostingClassifier\n",
       "4    92.43750   87.250   5.18750      RandomForestClassifier\n",
       "5    90.12500   86.875   3.25000                         SVC\n",
       "6    88.15625   85.875   2.28125           BaggingClassifier\n",
       "7    88.15625   85.625   2.53125      DecisionTreeClassifier\n",
       "8   100.00000   85.500  14.50000          AdaBoostClassifier\n",
       "9    89.81250   85.375   4.43750        KNeighborsClassifier\n",
       "10   80.78125   80.125   0.65625          LogisticRegression\n",
       "11   78.96875   78.625   0.34375                  GaussianNB"
      ]
     },
     "execution_count": 37,
     "metadata": {},
     "output_type": "execute_result"
    }
   ],
   "source": [
    "cv_res = cross_val(nclf, x_train, y_train)\n",
    "cv_res"
   ]
  },
  {
   "cell_type": "markdown",
   "id": "78201c59",
   "metadata": {},
   "source": [
    "## Fine Tuning"
   ]
  },
  {
   "cell_type": "markdown",
   "id": "f36f50b2",
   "metadata": {},
   "source": [
    "### 1) GradientBoostingClassifier"
   ]
  },
  {
   "cell_type": "code",
   "execution_count": 38,
   "id": "fa0cb3dd",
   "metadata": {},
   "outputs": [],
   "source": [
    "gb_clf = GradientBoostingClassifier( \n",
    "    random_state = 42, \n",
    "    min_samples_split = 100,\n",
    "    min_samples_leaf = 20,\n",
    "    max_depth = 2,\n",
    "    max_features = 3,\n",
    "    learning_rate = 0.05,\n",
    "    subsample = 0.65,\n",
    ")"
   ]
  },
  {
   "cell_type": "code",
   "execution_count": 39,
   "id": "5d46d6dd",
   "metadata": {},
   "outputs": [
    {
     "data": {
      "text/html": [
       "<div>\n",
       "<style scoped>\n",
       "    .dataframe tbody tr th:only-of-type {\n",
       "        vertical-align: middle;\n",
       "    }\n",
       "\n",
       "    .dataframe tbody tr th {\n",
       "        vertical-align: top;\n",
       "    }\n",
       "\n",
       "    .dataframe thead th {\n",
       "        text-align: right;\n",
       "    }\n",
       "</style>\n",
       "<table border=\"1\" class=\"dataframe\">\n",
       "  <thead>\n",
       "    <tr style=\"text-align: right;\">\n",
       "      <th></th>\n",
       "      <th>CV Train</th>\n",
       "      <th>CV Test</th>\n",
       "      <th>Diff</th>\n",
       "      <th>ML Model</th>\n",
       "    </tr>\n",
       "  </thead>\n",
       "  <tbody>\n",
       "    <tr>\n",
       "      <th>0</th>\n",
       "      <td>90.09375</td>\n",
       "      <td>87.25</td>\n",
       "      <td>2.84375</td>\n",
       "      <td>GradientBoostingClassifier</td>\n",
       "    </tr>\n",
       "  </tbody>\n",
       "</table>\n",
       "</div>"
      ],
      "text/plain": [
       "   CV Train  CV Test     Diff                    ML Model\n",
       "0  90.09375    87.25  2.84375  GradientBoostingClassifier"
      ]
     },
     "execution_count": 39,
     "metadata": {},
     "output_type": "execute_result"
    }
   ],
   "source": [
    "cross_val([gb_clf], x_train, y_train)"
   ]
  },
  {
   "cell_type": "markdown",
   "id": "5a91fb2c",
   "metadata": {},
   "source": [
    "### 2) ExtraTreesClassifier"
   ]
  },
  {
   "cell_type": "code",
   "execution_count": 40,
   "id": "7f26a892",
   "metadata": {},
   "outputs": [],
   "source": [
    "ex_clf = ExtraTreesClassifier(\n",
    "    random_state = 42,\n",
    "    max_depth = 6,\n",
    "    min_samples_split = 20,\n",
    "    max_features = \"log2\",\n",
    ")"
   ]
  },
  {
   "cell_type": "code",
   "execution_count": 41,
   "id": "63329036",
   "metadata": {},
   "outputs": [
    {
     "data": {
      "text/html": [
       "<div>\n",
       "<style scoped>\n",
       "    .dataframe tbody tr th:only-of-type {\n",
       "        vertical-align: middle;\n",
       "    }\n",
       "\n",
       "    .dataframe tbody tr th {\n",
       "        vertical-align: top;\n",
       "    }\n",
       "\n",
       "    .dataframe thead th {\n",
       "        text-align: right;\n",
       "    }\n",
       "</style>\n",
       "<table border=\"1\" class=\"dataframe\">\n",
       "  <thead>\n",
       "    <tr style=\"text-align: right;\">\n",
       "      <th></th>\n",
       "      <th>CV Train</th>\n",
       "      <th>CV Test</th>\n",
       "      <th>Diff</th>\n",
       "      <th>ML Model</th>\n",
       "    </tr>\n",
       "  </thead>\n",
       "  <tbody>\n",
       "    <tr>\n",
       "      <th>0</th>\n",
       "      <td>89.59375</td>\n",
       "      <td>86.875</td>\n",
       "      <td>2.71875</td>\n",
       "      <td>ExtraTreesClassifier</td>\n",
       "    </tr>\n",
       "  </tbody>\n",
       "</table>\n",
       "</div>"
      ],
      "text/plain": [
       "   CV Train  CV Test     Diff              ML Model\n",
       "0  89.59375   86.875  2.71875  ExtraTreesClassifier"
      ]
     },
     "execution_count": 41,
     "metadata": {},
     "output_type": "execute_result"
    }
   ],
   "source": [
    "cross_val([ex_clf], x_train, y_train)"
   ]
  },
  {
   "cell_type": "markdown",
   "id": "9f322b4f",
   "metadata": {},
   "source": [
    "### 3) SVC"
   ]
  },
  {
   "cell_type": "code",
   "execution_count": 42,
   "id": "9749728c",
   "metadata": {},
   "outputs": [],
   "source": [
    "svm_clf = SVC(\n",
    "    random_state = 42,\n",
    "    probability = True,\n",
    "    C = 1,\n",
    "    kernel = \"rbf\",\n",
    "    gamma = \"scale\",\n",
    ")"
   ]
  },
  {
   "cell_type": "code",
   "execution_count": 43,
   "id": "6d06cbf3",
   "metadata": {},
   "outputs": [
    {
     "data": {
      "text/html": [
       "<div>\n",
       "<style scoped>\n",
       "    .dataframe tbody tr th:only-of-type {\n",
       "        vertical-align: middle;\n",
       "    }\n",
       "\n",
       "    .dataframe tbody tr th {\n",
       "        vertical-align: top;\n",
       "    }\n",
       "\n",
       "    .dataframe thead th {\n",
       "        text-align: right;\n",
       "    }\n",
       "</style>\n",
       "<table border=\"1\" class=\"dataframe\">\n",
       "  <thead>\n",
       "    <tr style=\"text-align: right;\">\n",
       "      <th></th>\n",
       "      <th>CV Train</th>\n",
       "      <th>CV Test</th>\n",
       "      <th>Diff</th>\n",
       "      <th>ML Model</th>\n",
       "    </tr>\n",
       "  </thead>\n",
       "  <tbody>\n",
       "    <tr>\n",
       "      <th>0</th>\n",
       "      <td>90.125</td>\n",
       "      <td>86.875</td>\n",
       "      <td>3.25</td>\n",
       "      <td>SVC</td>\n",
       "    </tr>\n",
       "  </tbody>\n",
       "</table>\n",
       "</div>"
      ],
      "text/plain": [
       "   CV Train  CV Test  Diff ML Model\n",
       "0    90.125   86.875  3.25      SVC"
      ]
     },
     "execution_count": 43,
     "metadata": {},
     "output_type": "execute_result"
    }
   ],
   "source": [
    "cross_val([svm_clf], x_train, y_train)"
   ]
  },
  {
   "cell_type": "markdown",
   "id": "8ea80206",
   "metadata": {},
   "source": [
    "### 4) Ensemble"
   ]
  },
  {
   "cell_type": "code",
   "execution_count": 44,
   "id": "7f46cca8",
   "metadata": {},
   "outputs": [],
   "source": [
    "voting_clf = VotingClassifier(\n",
    "    estimators = [('gb', gb_clf), ('ex', ex_clf), ('svm', svm_clf)],\n",
    "    voting = 'soft'\n",
    ")"
   ]
  },
  {
   "cell_type": "code",
   "execution_count": 45,
   "id": "f3720226",
   "metadata": {},
   "outputs": [
    {
     "data": {
      "text/html": [
       "<div>\n",
       "<style scoped>\n",
       "    .dataframe tbody tr th:only-of-type {\n",
       "        vertical-align: middle;\n",
       "    }\n",
       "\n",
       "    .dataframe tbody tr th {\n",
       "        vertical-align: top;\n",
       "    }\n",
       "\n",
       "    .dataframe thead th {\n",
       "        text-align: right;\n",
       "    }\n",
       "</style>\n",
       "<table border=\"1\" class=\"dataframe\">\n",
       "  <thead>\n",
       "    <tr style=\"text-align: right;\">\n",
       "      <th></th>\n",
       "      <th>CV Train</th>\n",
       "      <th>CV Test</th>\n",
       "      <th>Diff</th>\n",
       "      <th>ML Model</th>\n",
       "    </tr>\n",
       "  </thead>\n",
       "  <tbody>\n",
       "    <tr>\n",
       "      <th>0</th>\n",
       "      <td>90.15625</td>\n",
       "      <td>87.75</td>\n",
       "      <td>2.40625</td>\n",
       "      <td>VotingClassifier</td>\n",
       "    </tr>\n",
       "  </tbody>\n",
       "</table>\n",
       "</div>"
      ],
      "text/plain": [
       "   CV Train  CV Test     Diff          ML Model\n",
       "0  90.15625    87.75  2.40625  VotingClassifier"
      ]
     },
     "execution_count": 45,
     "metadata": {},
     "output_type": "execute_result"
    }
   ],
   "source": [
    "cross_val([voting_clf], x_train, y_train)"
   ]
  },
  {
   "cell_type": "code",
   "execution_count": 46,
   "id": "7b8dcdb3",
   "metadata": {},
   "outputs": [
    {
     "data": {
      "text/html": [
       "<div>\n",
       "<style scoped>\n",
       "    .dataframe tbody tr th:only-of-type {\n",
       "        vertical-align: middle;\n",
       "    }\n",
       "\n",
       "    .dataframe tbody tr th {\n",
       "        vertical-align: top;\n",
       "    }\n",
       "\n",
       "    .dataframe thead th {\n",
       "        text-align: right;\n",
       "    }\n",
       "</style>\n",
       "<table border=\"1\" class=\"dataframe\">\n",
       "  <thead>\n",
       "    <tr style=\"text-align: right;\">\n",
       "      <th></th>\n",
       "      <th>Accuracy</th>\n",
       "      <th>Cross Val</th>\n",
       "      <th>F1</th>\n",
       "      <th>ROC</th>\n",
       "      <th>Recall</th>\n",
       "      <th>ML Models</th>\n",
       "    </tr>\n",
       "  </thead>\n",
       "  <tbody>\n",
       "    <tr>\n",
       "      <th>0</th>\n",
       "      <td>87.662338</td>\n",
       "      <td>0.87375</td>\n",
       "      <td>83.185841</td>\n",
       "      <td>94.555556</td>\n",
       "      <td>87.037037</td>\n",
       "      <td>GradientBoostingClassifier</td>\n",
       "    </tr>\n",
       "    <tr>\n",
       "      <th>1</th>\n",
       "      <td>86.363636</td>\n",
       "      <td>0.87750</td>\n",
       "      <td>82.051282</td>\n",
       "      <td>93.592593</td>\n",
       "      <td>88.888889</td>\n",
       "      <td>VotingClassifier</td>\n",
       "    </tr>\n",
       "    <tr>\n",
       "      <th>2</th>\n",
       "      <td>84.415584</td>\n",
       "      <td>0.86500</td>\n",
       "      <td>80.327869</td>\n",
       "      <td>91.592593</td>\n",
       "      <td>90.740741</td>\n",
       "      <td>ExtraTreesClassifier</td>\n",
       "    </tr>\n",
       "    <tr>\n",
       "      <th>3</th>\n",
       "      <td>85.714286</td>\n",
       "      <td>0.86125</td>\n",
       "      <td>80.701754</td>\n",
       "      <td>91.185185</td>\n",
       "      <td>85.185185</td>\n",
       "      <td>SVC</td>\n",
       "    </tr>\n",
       "  </tbody>\n",
       "</table>\n",
       "</div>"
      ],
      "text/plain": [
       "    Accuracy  Cross Val         F1        ROC     Recall  \\\n",
       "0  87.662338    0.87375  83.185841  94.555556  87.037037   \n",
       "1  86.363636    0.87750  82.051282  93.592593  88.888889   \n",
       "2  84.415584    0.86500  80.327869  91.592593  90.740741   \n",
       "3  85.714286    0.86125  80.701754  91.185185  85.185185   \n",
       "\n",
       "                    ML Models  \n",
       "0  GradientBoostingClassifier  \n",
       "1            VotingClassifier  \n",
       "2        ExtraTreesClassifier  \n",
       "3                         SVC  "
      ]
     },
     "execution_count": 46,
     "metadata": {},
     "output_type": "execute_result"
    }
   ],
   "source": [
    "make_classification([ex_clf, svm_clf, gb_clf, voting_clf], x_train, x_test, y_train, y_test)"
   ]
  },
  {
   "cell_type": "code",
   "execution_count": 47,
   "id": "3936dd0c",
   "metadata": {},
   "outputs": [],
   "source": [
    "y_pred_vt = voting_clf.predict(x_test)\n",
    "y_pred_gb = gb_clf.predict(x_test)"
   ]
  },
  {
   "cell_type": "code",
   "execution_count": 48,
   "id": "fc96ed24",
   "metadata": {},
   "outputs": [
    {
     "data": {
      "text/plain": [
       "(86.36363636363636, 87.66233766233766)"
      ]
     },
     "execution_count": 48,
     "metadata": {},
     "output_type": "execute_result"
    }
   ],
   "source": [
    "accuracy_score(y_test, y_pred_vt) * 100, accuracy_score(y_test, y_pred_gb) * 100, "
   ]
  },
  {
   "cell_type": "code",
   "execution_count": 49,
   "id": "04d444eb",
   "metadata": {},
   "outputs": [
    {
     "data": {
      "text/html": [
       "<div>\n",
       "<style scoped>\n",
       "    .dataframe tbody tr th:only-of-type {\n",
       "        vertical-align: middle;\n",
       "    }\n",
       "\n",
       "    .dataframe tbody tr th {\n",
       "        vertical-align: top;\n",
       "    }\n",
       "\n",
       "    .dataframe thead th {\n",
       "        text-align: right;\n",
       "    }\n",
       "</style>\n",
       "<table border=\"1\" class=\"dataframe\">\n",
       "  <thead>\n",
       "    <tr style=\"text-align: right;\">\n",
       "      <th></th>\n",
       "      <th>CV Train</th>\n",
       "      <th>CV Test</th>\n",
       "      <th>Diff</th>\n",
       "      <th>ML Model</th>\n",
       "    </tr>\n",
       "  </thead>\n",
       "  <tbody>\n",
       "    <tr>\n",
       "      <th>0</th>\n",
       "      <td>90.15625</td>\n",
       "      <td>87.75</td>\n",
       "      <td>2.40625</td>\n",
       "      <td>VotingClassifier</td>\n",
       "    </tr>\n",
       "    <tr>\n",
       "      <th>1</th>\n",
       "      <td>90.09375</td>\n",
       "      <td>87.25</td>\n",
       "      <td>2.84375</td>\n",
       "      <td>GradientBoostingClassifier</td>\n",
       "    </tr>\n",
       "  </tbody>\n",
       "</table>\n",
       "</div>"
      ],
      "text/plain": [
       "   CV Train  CV Test     Diff                    ML Model\n",
       "0  90.15625    87.75  2.40625            VotingClassifier\n",
       "1  90.09375    87.25  2.84375  GradientBoostingClassifier"
      ]
     },
     "execution_count": 49,
     "metadata": {},
     "output_type": "execute_result"
    }
   ],
   "source": [
    "cross_val([voting_clf, gb_clf], x_train, y_train)"
   ]
  },
  {
   "cell_type": "code",
   "execution_count": 50,
   "id": "a6eff705",
   "metadata": {},
   "outputs": [
    {
     "data": {
      "text/html": [
       "<div>\n",
       "<style scoped>\n",
       "    .dataframe tbody tr th:only-of-type {\n",
       "        vertical-align: middle;\n",
       "    }\n",
       "\n",
       "    .dataframe tbody tr th {\n",
       "        vertical-align: top;\n",
       "    }\n",
       "\n",
       "    .dataframe thead th {\n",
       "        text-align: right;\n",
       "    }\n",
       "</style>\n",
       "<table border=\"1\" class=\"dataframe\">\n",
       "  <thead>\n",
       "    <tr style=\"text-align: right;\">\n",
       "      <th></th>\n",
       "      <th>CV Train</th>\n",
       "      <th>CV Test</th>\n",
       "      <th>Diff</th>\n",
       "      <th>ML Model</th>\n",
       "    </tr>\n",
       "  </thead>\n",
       "  <tbody>\n",
       "    <tr>\n",
       "      <th>0</th>\n",
       "      <td>91.211038</td>\n",
       "      <td>88.806553</td>\n",
       "      <td>2.404485</td>\n",
       "      <td>GradientBoostingClassifier</td>\n",
       "    </tr>\n",
       "    <tr>\n",
       "      <th>1</th>\n",
       "      <td>91.374169</td>\n",
       "      <td>87.372889</td>\n",
       "      <td>4.001281</td>\n",
       "      <td>VotingClassifier</td>\n",
       "    </tr>\n",
       "  </tbody>\n",
       "</table>\n",
       "</div>"
      ],
      "text/plain": [
       "    CV Train    CV Test      Diff                    ML Model\n",
       "0  91.211038  88.806553  2.404485  GradientBoostingClassifier\n",
       "1  91.374169  87.372889  4.001281            VotingClassifier"
      ]
     },
     "execution_count": 50,
     "metadata": {},
     "output_type": "execute_result"
    }
   ],
   "source": [
    "cross_val([voting_clf, gb_clf], x, y)"
   ]
  },
  {
   "cell_type": "markdown",
   "id": "10136ef2",
   "metadata": {},
   "source": [
    "# Using PCA (Just a Showcase)"
   ]
  },
  {
   "cell_type": "markdown",
   "id": "2401785e",
   "metadata": {},
   "source": [
    "#### in this problem due to low number of demensions we do not need Demensionality Reduction Methods and Using PCA here is just for educational purposes"
   ]
  },
  {
   "cell_type": "code",
   "execution_count": 51,
   "id": "d58ffc60",
   "metadata": {},
   "outputs": [],
   "source": [
    "from sklearn.decomposition import PCA"
   ]
  },
  {
   "cell_type": "code",
   "execution_count": 52,
   "id": "27a1437d",
   "metadata": {},
   "outputs": [],
   "source": [
    "pca = PCA()\n",
    "pca.fit(x_train)\n",
    "\n",
    "cumsum = np.cumsum(pca.explained_variance_ratio_)\n",
    "d = np.argmax(cumsum >= 0.95) + 1"
   ]
  },
  {
   "cell_type": "code",
   "execution_count": 53,
   "id": "1e29c0cc",
   "metadata": {},
   "outputs": [
    {
     "data": {
      "text/plain": [
       "7"
      ]
     },
     "execution_count": 53,
     "metadata": {},
     "output_type": "execute_result"
    }
   ],
   "source": [
    "d"
   ]
  },
  {
   "cell_type": "code",
   "execution_count": 57,
   "id": "8503b722",
   "metadata": {},
   "outputs": [],
   "source": [
    "pca = PCA(n_components = 0.90)\n",
    "x_redu = pca.fit_transform(x_train)"
   ]
  },
  {
   "cell_type": "code",
   "execution_count": 58,
   "id": "253df5ed",
   "metadata": {},
   "outputs": [],
   "source": [
    "pca_gb_clf = GradientBoostingClassifier( \n",
    "    random_state = 42, \n",
    "    min_samples_split = 100,\n",
    "    min_samples_leaf = 20,\n",
    "    max_depth = 2,\n",
    "    max_features = 3,\n",
    "    learning_rate = 0.05,\n",
    "    subsample = 0.65,\n",
    ")"
   ]
  },
  {
   "cell_type": "code",
   "execution_count": null,
   "id": "082bba7b",
   "metadata": {},
   "outputs": [],
   "source": []
  },
  {
   "cell_type": "code",
   "execution_count": 59,
   "id": "90efdb0f",
   "metadata": {},
   "outputs": [
    {
     "data": {
      "text/html": [
       "<div>\n",
       "<style scoped>\n",
       "    .dataframe tbody tr th:only-of-type {\n",
       "        vertical-align: middle;\n",
       "    }\n",
       "\n",
       "    .dataframe tbody tr th {\n",
       "        vertical-align: top;\n",
       "    }\n",
       "\n",
       "    .dataframe thead th {\n",
       "        text-align: right;\n",
       "    }\n",
       "</style>\n",
       "<table border=\"1\" class=\"dataframe\">\n",
       "  <thead>\n",
       "    <tr style=\"text-align: right;\">\n",
       "      <th></th>\n",
       "      <th>CV Train</th>\n",
       "      <th>CV Test</th>\n",
       "      <th>Diff</th>\n",
       "      <th>ML Model</th>\n",
       "    </tr>\n",
       "  </thead>\n",
       "  <tbody>\n",
       "    <tr>\n",
       "      <th>0</th>\n",
       "      <td>85.0</td>\n",
       "      <td>82.25</td>\n",
       "      <td>2.75</td>\n",
       "      <td>GradientBoostingClassifier</td>\n",
       "    </tr>\n",
       "  </tbody>\n",
       "</table>\n",
       "</div>"
      ],
      "text/plain": [
       "   CV Train  CV Test  Diff                    ML Model\n",
       "0      85.0    82.25  2.75  GradientBoostingClassifier"
      ]
     },
     "execution_count": 59,
     "metadata": {},
     "output_type": "execute_result"
    }
   ],
   "source": [
    "cross_val([pca_gb_clf], x_redu, y_train)"
   ]
  },
  {
   "cell_type": "markdown",
   "id": "61274983",
   "metadata": {},
   "source": [
    "# BEST MODEL"
   ]
  },
  {
   "cell_type": "markdown",
   "id": "01aa76ab",
   "metadata": {},
   "source": [
    "### as we saw in the previous parts of this notebook we had out 2 best models as \"Ensemble\" and \"GradientBoosting\" now its time to compare them in different metrics and declare a winner"
   ]
  },
  {
   "cell_type": "markdown",
   "id": "efd682c7",
   "metadata": {},
   "source": [
    "# Results"
   ]
  },
  {
   "cell_type": "code",
   "execution_count": 64,
   "id": "a042aede",
   "metadata": {},
   "outputs": [
    {
     "data": {
      "text/html": [
       "<div>\n",
       "<style scoped>\n",
       "    .dataframe tbody tr th:only-of-type {\n",
       "        vertical-align: middle;\n",
       "    }\n",
       "\n",
       "    .dataframe tbody tr th {\n",
       "        vertical-align: top;\n",
       "    }\n",
       "\n",
       "    .dataframe thead th {\n",
       "        text-align: right;\n",
       "    }\n",
       "</style>\n",
       "<table border=\"1\" class=\"dataframe\">\n",
       "  <thead>\n",
       "    <tr style=\"text-align: right;\">\n",
       "      <th></th>\n",
       "      <th>Accuracy</th>\n",
       "      <th>Cross Val</th>\n",
       "      <th>F1</th>\n",
       "      <th>ROC</th>\n",
       "      <th>Recall</th>\n",
       "      <th>Precision</th>\n",
       "      <th>ML Models</th>\n",
       "    </tr>\n",
       "  </thead>\n",
       "  <tbody>\n",
       "    <tr>\n",
       "      <th>0</th>\n",
       "      <td>87.662338</td>\n",
       "      <td>0.87375</td>\n",
       "      <td>83.185841</td>\n",
       "      <td>94.555556</td>\n",
       "      <td>87.037037</td>\n",
       "      <td>79.661017</td>\n",
       "      <td>GradientBoostingClassifier</td>\n",
       "    </tr>\n",
       "    <tr>\n",
       "      <th>1</th>\n",
       "      <td>86.363636</td>\n",
       "      <td>0.87750</td>\n",
       "      <td>82.051282</td>\n",
       "      <td>93.592593</td>\n",
       "      <td>88.888889</td>\n",
       "      <td>76.190476</td>\n",
       "      <td>VotingClassifier</td>\n",
       "    </tr>\n",
       "  </tbody>\n",
       "</table>\n",
       "</div>"
      ],
      "text/plain": [
       "    Accuracy  Cross Val         F1        ROC     Recall  Precision  \\\n",
       "0  87.662338    0.87375  83.185841  94.555556  87.037037  79.661017   \n",
       "1  86.363636    0.87750  82.051282  93.592593  88.888889  76.190476   \n",
       "\n",
       "                    ML Models  \n",
       "0  GradientBoostingClassifier  \n",
       "1            VotingClassifier  "
      ]
     },
     "execution_count": 64,
     "metadata": {},
     "output_type": "execute_result"
    }
   ],
   "source": [
    "make_classification([gb_clf, voting_clf], x_train, x_test, y_train, y_test)"
   ]
  },
  {
   "cell_type": "markdown",
   "id": "da80fa53",
   "metadata": {},
   "source": [
    "## 1) Accuracy"
   ]
  },
  {
   "cell_type": "markdown",
   "id": "d2fea978",
   "metadata": {},
   "source": [
    "not the most important metric in this problem "
   ]
  },
  {
   "cell_type": "markdown",
   "id": "1460d3c5",
   "metadata": {},
   "source": [
    "as we can see the **GB Classifier** is slightly doing better "
   ]
  },
  {
   "cell_type": "markdown",
   "id": "9ac170a1",
   "metadata": {},
   "source": [
    "## 2) Precision"
   ]
  },
  {
   "cell_type": "markdown",
   "id": "145d3fc8",
   "metadata": {},
   "source": [
    "both have rather low precision but once again **GB Classifer** is doing better even much better ! **considering the 3.5% difference**"
   ]
  },
  {
   "cell_type": "markdown",
   "id": "645d51ec",
   "metadata": {},
   "source": [
    "## 3) Recall"
   ]
  },
  {
   "cell_type": "markdown",
   "id": "664fd862",
   "metadata": {},
   "source": [
    "in my eyes in this particular problem recall can be one of the most if not the most important metric"
   ]
  },
  {
   "cell_type": "markdown",
   "id": "8c6f40a3",
   "metadata": {},
   "source": [
    "the reasoning behind this idea is that it is really important to correctly detect the ones that have diabetes cause if not, they wont be diagnosed and as a result they will not be cured which may have some detrimental consequences"
   ]
  },
  {
   "cell_type": "markdown",
   "id": "77775dd2",
   "metadata": {},
   "source": [
    "as well as the other metrics **GB Classifier** is doing better my the smallest margin, but its still better !"
   ]
  },
  {
   "cell_type": "markdown",
   "id": "331c487c",
   "metadata": {},
   "source": [
    "## 4) F1"
   ]
  },
  {
   "cell_type": "markdown",
   "id": "70b2ba89",
   "metadata": {},
   "source": [
    "well this one is obviously a win for **GB Classifier**"
   ]
  },
  {
   "cell_type": "markdown",
   "id": "71d7eef1",
   "metadata": {},
   "source": [
    "## 5) AUC"
   ]
  },
  {
   "cell_type": "markdown",
   "id": "6e1fa734",
   "metadata": {},
   "source": [
    "roc curve is also a really useful metric for this problem and one way to measure it is using **AUC (Area Under Curve)**"
   ]
  },
  {
   "cell_type": "markdown",
   "id": "56a987ff",
   "metadata": {},
   "source": [
    "as we already had figured it out, **GB Classifier** has the upper hand"
   ]
  },
  {
   "cell_type": "markdown",
   "id": "ca8430d6",
   "metadata": {},
   "source": [
    "### Overfitting / Underfitting"
   ]
  },
  {
   "cell_type": "markdown",
   "id": "5f4f5507",
   "metadata": {},
   "source": [
    "none of these two has underfitting by any means"
   ]
  },
  {
   "cell_type": "markdown",
   "id": "2578976c",
   "metadata": {},
   "source": [
    "as for overfitting based of what we saw in the previous parts of this notebook we can say that none of these has overfitting problem as well however the diffrence between train/test in **GB Classifier** is somewhat smaller which makes it a slightly more stable model"
   ]
  },
  {
   "cell_type": "markdown",
   "id": "29a57b79",
   "metadata": {},
   "source": [
    "# Conclusion"
   ]
  },
  {
   "cell_type": "markdown",
   "id": "25e3a859",
   "metadata": {},
   "source": [
    "based on all models and parameter tuning that we did we can safely say that **\"Gradient Boosting Classifer\"** is our best model"
   ]
  },
  {
   "cell_type": "code",
   "execution_count": 66,
   "id": "915d7873",
   "metadata": {},
   "outputs": [
    {
     "data": {
      "text/html": [
       "<div>\n",
       "<style scoped>\n",
       "    .dataframe tbody tr th:only-of-type {\n",
       "        vertical-align: middle;\n",
       "    }\n",
       "\n",
       "    .dataframe tbody tr th {\n",
       "        vertical-align: top;\n",
       "    }\n",
       "\n",
       "    .dataframe thead th {\n",
       "        text-align: right;\n",
       "    }\n",
       "</style>\n",
       "<table border=\"1\" class=\"dataframe\">\n",
       "  <thead>\n",
       "    <tr style=\"text-align: right;\">\n",
       "      <th></th>\n",
       "      <th>Accuracy</th>\n",
       "      <th>Cross Val</th>\n",
       "      <th>F1</th>\n",
       "      <th>ROC</th>\n",
       "      <th>Recall</th>\n",
       "      <th>Precision</th>\n",
       "      <th>ML Models</th>\n",
       "    </tr>\n",
       "  </thead>\n",
       "  <tbody>\n",
       "    <tr>\n",
       "      <th>0</th>\n",
       "      <td>87.662338</td>\n",
       "      <td>0.87375</td>\n",
       "      <td>83.185841</td>\n",
       "      <td>94.555556</td>\n",
       "      <td>87.037037</td>\n",
       "      <td>79.661017</td>\n",
       "      <td>GradientBoostingClassifier</td>\n",
       "    </tr>\n",
       "  </tbody>\n",
       "</table>\n",
       "</div>"
      ],
      "text/plain": [
       "    Accuracy  Cross Val         F1        ROC     Recall  Precision  \\\n",
       "0  87.662338    0.87375  83.185841  94.555556  87.037037  79.661017   \n",
       "\n",
       "                    ML Models  \n",
       "0  GradientBoostingClassifier  "
      ]
     },
     "execution_count": 66,
     "metadata": {},
     "output_type": "execute_result"
    }
   ],
   "source": [
    "make_classification([gb_clf], x_train, x_test, y_train, y_test)"
   ]
  },
  {
   "cell_type": "code",
   "execution_count": 68,
   "id": "1ae7de84",
   "metadata": {},
   "outputs": [
    {
     "data": {
      "text/html": [
       "<div>\n",
       "<style scoped>\n",
       "    .dataframe tbody tr th:only-of-type {\n",
       "        vertical-align: middle;\n",
       "    }\n",
       "\n",
       "    .dataframe tbody tr th {\n",
       "        vertical-align: top;\n",
       "    }\n",
       "\n",
       "    .dataframe thead th {\n",
       "        text-align: right;\n",
       "    }\n",
       "</style>\n",
       "<table border=\"1\" class=\"dataframe\">\n",
       "  <thead>\n",
       "    <tr style=\"text-align: right;\">\n",
       "      <th></th>\n",
       "      <th>CV Train</th>\n",
       "      <th>CV Test</th>\n",
       "      <th>Diff</th>\n",
       "      <th>ML Model</th>\n",
       "    </tr>\n",
       "  </thead>\n",
       "  <tbody>\n",
       "    <tr>\n",
       "      <th>0</th>\n",
       "      <td>91.211038</td>\n",
       "      <td>88.806553</td>\n",
       "      <td>2.404485</td>\n",
       "      <td>GradientBoostingClassifier</td>\n",
       "    </tr>\n",
       "  </tbody>\n",
       "</table>\n",
       "</div>"
      ],
      "text/plain": [
       "    CV Train    CV Test      Diff                    ML Model\n",
       "0  91.211038  88.806553  2.404485  GradientBoostingClassifier"
      ]
     },
     "execution_count": 68,
     "metadata": {},
     "output_type": "execute_result"
    }
   ],
   "source": [
    "cross_val([gb_clf], x, y)"
   ]
  },
  {
   "cell_type": "code",
   "execution_count": 77,
   "id": "4a53947f",
   "metadata": {},
   "outputs": [],
   "source": [
    "y_scores = cross_val_predict(gb_clf, x, y, cv = 3, method = \"decision_function\")"
   ]
  },
  {
   "cell_type": "code",
   "execution_count": 79,
   "id": "c1038de0",
   "metadata": {},
   "outputs": [],
   "source": [
    "precisions, recalls, thresholds = precision_recall_curve(y, y_scores)"
   ]
  },
  {
   "cell_type": "code",
   "execution_count": 80,
   "id": "6d397a64",
   "metadata": {},
   "outputs": [],
   "source": [
    "def plot_precision_recall_vs_threshold(precisions, recalls, thresholds) : \n",
    "    plt.plot(thresholds, precisions[:-1], \"b--\", label = \"Precision\")\n",
    "    plt.plot(thresholds, recalls[:-1], \"g-\", label = \"Recall\")\n"
   ]
  },
  {
   "cell_type": "markdown",
   "id": "40b49e82",
   "metadata": {},
   "source": [
    "# Precision-Recall Curve"
   ]
  },
  {
   "cell_type": "code",
   "execution_count": 81,
   "id": "b112c91e",
   "metadata": {},
   "outputs": [
    {
     "data": {
      "image/png": "[encoded data removed]",
      "text/plain": [
       "<Figure size 800x550 with 1 Axes>"
      ]
     },
     "metadata": {},
     "output_type": "display_data"
    }
   ],
   "source": [
    "plot_precision_recall_vs_threshold(precisions, recalls, thresholds)\n",
    "plt.show()"
   ]
  },
  {
   "cell_type": "code",
   "execution_count": 82,
   "id": "aeb4f072",
   "metadata": {},
   "outputs": [],
   "source": [
    "fpr, tpr, thresholds = roc_curve(y, y_scores)"
   ]
  },
  {
   "cell_type": "code",
   "execution_count": 83,
   "id": "85c5f773",
   "metadata": {},
   "outputs": [],
   "source": [
    "def plot_roc_curve(fpr, tpr, label = None) :\n",
    "    plt.plot(fpr, tpr, linewidth = 2,label = label)\n",
    "    plt.plot([0, 1], [0, 1], 'k--')"
   ]
  },
  {
   "cell_type": "markdown",
   "id": "0ffe0735",
   "metadata": {},
   "source": [
    "# ROC Curve"
   ]
  },
  {
   "cell_type": "code",
   "execution_count": 84,
   "id": "c0207e2c",
   "metadata": {},
   "outputs": [
    {
     "data": {
      "image/png": "[encoded data removed]",
      "text/plain": [
       "<Figure size 800x550 with 1 Axes>"
      ]
     },
     "metadata": {},
     "output_type": "display_data"
    }
   ],
   "source": [
    "plot_roc_curve(fpr, tpr, \"ROC Curve\")\n",
    "plt.show()"
   ]
  },
  {
   "cell_type": "code",
   "execution_count": 85,
   "id": "75d88bfe",
   "metadata": {},
   "outputs": [
    {
     "data": {
      "text/plain": [
       "0.9415447761194029"
      ]
     },
     "execution_count": 85,
     "metadata": {},
     "output_type": "execute_result"
    }
   ],
   "source": [
    "roc_auc_score(y, y_scores)"
   ]
  }
 ],
 "metadata": {
  "kernelspec": {
   "display_name": "Python 3 (ipykernel)",
   "language": "python",
   "name": "python3"
  },
  "language_info": {
   "codemirror_mode": {
    "name": "ipython",
    "version": 3
   },
   "file_extension": ".py",
   "mimetype": "text/x-python",
   "name": "python",
   "nbconvert_exporter": "python",
   "pygments_lexer": "ipython3",
   "version": "3.7.3"
  }
 },
 "nbformat": 4,
 "nbformat_minor": 5
}
